{
 "cells": [
  {
   "cell_type": "code",
   "execution_count": 19,
   "id": "a8dc39d1",
   "metadata": {},
   "outputs": [],
   "source": [
    "import sys\n",
    "import os\n",
    "import pandas as pd\n",
    "import re \n",
    "from langchain_community.document_loaders import PyMuPDFLoader\n",
    "\n",
    "# Dynamically resolve the base directory for Jupyter notebooks\n",
    "BASE_DIR = os.path.abspath(os.path.join(os.getcwd(), '../F1-regulation-RAG-2025'))\n",
    "sys.path.append(BASE_DIR)"
   ]
  },
  {
   "cell_type": "code",
   "execution_count": 20,
   "id": "08012e61",
   "metadata": {},
   "outputs": [
    {
     "data": {
      "text/plain": [
       "'/Users/pierre.muller/Documents/Perso/F1-regulation-RAG-2025/data/processed'"
      ]
     },
     "execution_count": 20,
     "metadata": {},
     "output_type": "execute_result"
    }
   ],
   "source": [
    "# Ensure the data directory path is resolved correctly\n",
    "processed_data_dir = os.path.join(BASE_DIR, 'data', 'processed')\n",
    "os.makedirs(processed_data_dir, exist_ok=True)\n",
    "processed_data_dir "
   ]
  },
  {
   "cell_type": "code",
   "execution_count": 21,
   "id": "1416f9aa",
   "metadata": {},
   "outputs": [
    {
     "name": "stdout",
     "output_type": "stream",
     "text": [
      "README.md          \u001b[34mexamples\u001b[m\u001b[m           pyproject.toml\n",
      "\u001b[34mdata\u001b[m\u001b[m               main.py            \u001b[34msrc\u001b[m\u001b[m\n",
      "docker-compose.yml \u001b[34mollama\u001b[m\u001b[m             uv.lock\n"
     ]
    }
   ],
   "source": [
    "!ls {BASE_DIR}"
   ]
  },
  {
   "cell_type": "code",
   "execution_count": 22,
   "id": "ff9bb677",
   "metadata": {},
   "outputs": [],
   "source": [
    "def remove_footer(text: str) -> str:\n",
    "    \"\"\"\n",
    "    Removes the footer from the given text.\n",
    "\n",
    "    Args:\n",
    "        text (str): The text containing the footer.\n",
    "\n",
    "    Returns:\n",
    "        str: The text with the footer removed.\n",
    "    \"\"\"\n",
    "    footer_pattern = r\"2025 Formula 1 Sporting Regulations\\s+\\d+/\\d+\\s+30 April 2025\\s+©2025 Fédération Internationale de l’Automobile\\s+Issue 5\"\n",
    "    cleaned_text = re.sub(footer_pattern, '', text)\n",
    "    return cleaned_text"
   ]
  },
  {
   "cell_type": "code",
   "execution_count": 23,
   "id": "c5327e97",
   "metadata": {},
   "outputs": [],
   "source": [
    "def extract_pdf_text_to_dataframe(pdf_path: str) -> pd.DataFrame:\n",
    "    \"\"\"\n",
    "    Extracts text from a PDF file and returns it in a pandas DataFrame.\n",
    "\n",
    "    Args:\n",
    "        pdf_path (str): Path to the PDF file.\n",
    "\n",
    "    Returns:\n",
    "        pd.DataFrame: A DataFrame containing the extracted text, with each page as a row.\n",
    "    \"\"\"\n",
    "    try:\n",
    "        \n",
    "        # Load the document\n",
    "        loader = PyMuPDFLoader(pdf_path,extract_tables='markdown')\n",
    "        documents = loader.load_and_split()\n",
    "\n",
    "        pages_text = [remove_footer(doc.page_content) for doc in documents]\n",
    "\n",
    "        df = pd.DataFrame({'Page': range(1, len(pages_text) + 1), 'Text': pages_text})\n",
    "        return df\n",
    "\n",
    "\n",
    "    except Exception as e:\n",
    "        raise RuntimeError(f\"Error processing PDF file: {e}\")\n",
    "\n"
   ]
  },
  {
   "cell_type": "code",
   "execution_count": 24,
   "id": "138ceb9c",
   "metadata": {},
   "outputs": [
    {
     "name": "stdout",
     "output_type": "stream",
     "text": [
      " \n",
      " \n",
      "1) \n",
      "REGULATIONS \n",
      "1.1 \n",
      "The FIA will organise the FIA Formula One World Championship (the Championship) which is the \n",
      "property of the FIA and comprises two titles of World Champion, one for drivers and one for \n",
      "constructors. It consists of the Formula One Grand Prix races which are included in the Formula \n",
      "One calendar and in respect of which the ASNs and organisers have signed organisation \n",
      "agreements with the FIA. All the participating parties (FIA, ASNs, organisers, Competitors and \n",
      "circuits) undertake to apply as well as observe the rules governing the Championship and must \n",
      "hold the appropriate FIA Licences which are issued to drivers, Competitors, officials, organisers \n",
      "and circuits. \n",
      "1.2 \n",
      "The final text of these Sporting Regulations shall be the English version which will be used should \n",
      "any dispute arise as to their interpretation. Headings in this document are for ease of reference \n",
      "only and do not form part of these Sporting Regulations. \n",
      "1.3 \n",
      "These Sporting Regulations apply to the whole calendar year referred to in the title, and to the \n",
      "Championship taking place within that calendar year (“the Championship”). Any changes made \n",
      "by the FIA for safety reasons may come into effect without notice or delay. \n",
      " \n",
      "2) \n",
      "GENERAL UNDERTAKING \n",
      "2.1 \n",
      "All drivers, Competitors and officials participating in the Championship undertake, on behalf of \n",
      "themselves, their employees, agents and suppliers, to observe all the provisions as \n",
      "supplemented or amended of the International Sporting Code (the Code), the Formula One \n",
      "Technical Regulations (Technical Regulations), the Formula One Financial Regulations (Financial \n",
      "Regulations) and the present Formula One Sporting Regulations together referred to as “the \n",
      "Regulations”. \n",
      "2.2 \n",
      "The Championship and each of its Competitions is governed by the FIA in accordance with the \n",
      "Regulations.  \n",
      "2.3 \n",
      "Competition means any competition entered into the FIA Formula One Championship Calendar \n",
      "for any year commencing four (4) hours before P1 is scheduled to start and ending at the time \n",
      "for the lodging of a protest under the terms of the Code or the time when a technical or sporting \n",
      "certification has been carried out under the terms of the Code, whichever is the later. \n",
      "2.4 \n",
      "Any special national regulations must be submitted to the FIA with the original application for \n",
      "inclusion of a Competition on the international calendar. Only with the approval of the FIA can \n",
      "such special regulations come into force for a Competition. \n",
      " \n",
      "3) \n",
      "GENERAL CONDITIONS \n",
      "3.1 \n",
      "It is the Competitor’s responsibility to ensure that all persons concerned by his entry observe all \n",
      "the requirements of the Regulations. If a Competitor is unable to be present in person at the \n",
      "Competition, he must nominate his representative in writing. The person having charge of an \n",
      "entered car during any part of a Competition is responsible jointly and severally with the \n",
      "Competitor for ensuring that the requirements are observed. \n",
      "3.2 \n",
      "Competitors must ensure that their cars comply with the conditions of eligibility and safety \n",
      "throughout each free practice session, qualifying session, sprint qualifying session, sprint session \n",
      "and the race. \n",
      "3.3 \n",
      "The presentation of a car for initial scrutineering in accordance with Article 31.1 will be deemed \n",
      "an implicit statement of conformity.\n"
     ]
    }
   ],
   "source": [
    "pdf_path = os.path.join(BASE_DIR, 'data', 'pdfs', 'FIA 2025 Formula 1 Sporting Regulations - Issue 5 - 2025-04-30.pdf')\n",
    "df = extract_pdf_text_to_dataframe(pdf_path)\n",
    "df.to_csv(os.path.join(processed_data_dir, 'pdf_text.csv'), index=False)\n",
    "print(df['Text'][1])"
   ]
  },
  {
   "cell_type": "code",
   "execution_count": null,
   "id": "87f79a92",
   "metadata": {},
   "outputs": [
    {
     "name": "stderr",
     "output_type": "stream",
     "text": [
      "/var/folders/8l/s_jxp6gj02j2c2msnnybzj4r0000gn/T/ipykernel_30528/620939659.py:32: FutureWarning: ChainedAssignmentError: behaviour will change in pandas 3.0!\n",
      "You are setting values through chained assignment. Currently this works in certain cases, but when using Copy-on-Write (which will become the default behaviour in pandas 3.0) this will never work to update the original DataFrame or Series, because the intermediate object on which we are setting values will behave as a copy.\n",
      "A typical example is when you are setting values in a column of a DataFrame, like:\n",
      "\n",
      "df[\"col\"][row_indexer] = value\n",
      "\n",
      "Use `df.loc[row_indexer, \"col\"] = values` instead, to perform the assignment in a single step and ensure this keeps updating the original `df`.\n",
      "\n",
      "See the caveats in the documentation: https://pandas.pydata.org/pandas-docs/stable/user_guide/indexing.html#returning-a-view-versus-a-copy\n",
      "\n",
      "  processed_df['chunk'].iloc[-1] = re.sub(r'APPENDIX.*$', '', processed_df['chunk'].iloc[ -1]).strip()\n"
     ]
    },
    {
     "data": {
      "text/html": [
       "<div>\n",
       "<style scoped>\n",
       "    .dataframe tbody tr th:only-of-type {\n",
       "        vertical-align: middle;\n",
       "    }\n",
       "\n",
       "    .dataframe tbody tr th {\n",
       "        vertical-align: top;\n",
       "    }\n",
       "\n",
       "    .dataframe thead th {\n",
       "        text-align: right;\n",
       "    }\n",
       "</style>\n",
       "<table border=\"1\" class=\"dataframe\">\n",
       "  <thead>\n",
       "    <tr style=\"text-align: right;\">\n",
       "      <th></th>\n",
       "      <th>title</th>\n",
       "      <th>chunk</th>\n",
       "    </tr>\n",
       "  </thead>\n",
       "  <tbody>\n",
       "    <tr>\n",
       "      <th>0</th>\n",
       "      <td>1)  REGULATIONS</td>\n",
       "      <td>1.1  The FIA will organise the FIA Formula One...</td>\n",
       "    </tr>\n",
       "    <tr>\n",
       "      <th>1</th>\n",
       "      <td>2)  GENERAL UNDERTAKING</td>\n",
       "      <td>2.1  All drivers, Competitors and officials pa...</td>\n",
       "    </tr>\n",
       "    <tr>\n",
       "      <th>2</th>\n",
       "      <td>3)  GENERAL CONDITIONS</td>\n",
       "      <td>3.1  It is the Competitor’s responsibility to ...</td>\n",
       "    </tr>\n",
       "    <tr>\n",
       "      <th>3</th>\n",
       "      <td>4)  LICENCES</td>\n",
       "      <td>4.1  All drivers, Competitors and officials pa...</td>\n",
       "    </tr>\n",
       "    <tr>\n",
       "      <th>4</th>\n",
       "      <td>5)  CHAMPIONSHIP COMPETITIONS</td>\n",
       "      <td>5.1  Competitions are reserved for Formula One...</td>\n",
       "    </tr>\n",
       "    <tr>\n",
       "      <th>...</th>\n",
       "      <td>...</td>\n",
       "      <td>...</td>\n",
       "    </tr>\n",
       "    <tr>\n",
       "      <th>60</th>\n",
       "      <td>60)  POST SPRINT AND POST RACE PARC FERMÉ</td>\n",
       "      <td>60.1  Only those officials charged with superv...</td>\n",
       "    </tr>\n",
       "    <tr>\n",
       "      <th>61</th>\n",
       "      <td>61)  SPRINT SESSION CLASSIFICATION</td>\n",
       "      <td>61.1  The car placed first will be the one hav...</td>\n",
       "    </tr>\n",
       "    <tr>\n",
       "      <th>62</th>\n",
       "      <td>62)  RACE CLASSIFICATION</td>\n",
       "      <td>62.1  The car placed first will be the one hav...</td>\n",
       "    </tr>\n",
       "    <tr>\n",
       "      <th>63</th>\n",
       "      <td>63)  PODIUM CEREMONY AND POST RACE PRESS CONFE...</td>\n",
       "      <td>63.1  The drivers finishing the race in 1st, 2...</td>\n",
       "    </tr>\n",
       "    <tr>\n",
       "      <th>64</th>\n",
       "      <td>64)  TEAM EQUIPMENT</td>\n",
       "      <td>64.1  All equipment used to cool the car on th...</td>\n",
       "    </tr>\n",
       "  </tbody>\n",
       "</table>\n",
       "<p>65 rows × 2 columns</p>\n",
       "</div>"
      ],
      "text/plain": [
       "                                                title  \\\n",
       "0                                     1)  REGULATIONS   \n",
       "1                             2)  GENERAL UNDERTAKING   \n",
       "2                              3)  GENERAL CONDITIONS   \n",
       "3                                        4)  LICENCES   \n",
       "4                       5)  CHAMPIONSHIP COMPETITIONS   \n",
       "..                                                ...   \n",
       "60          60)  POST SPRINT AND POST RACE PARC FERMÉ   \n",
       "61                 61)  SPRINT SESSION CLASSIFICATION   \n",
       "62                           62)  RACE CLASSIFICATION   \n",
       "63  63)  PODIUM CEREMONY AND POST RACE PRESS CONFE...   \n",
       "64                                64)  TEAM EQUIPMENT   \n",
       "\n",
       "                                                chunk  \n",
       "0   1.1  The FIA will organise the FIA Formula One...  \n",
       "1   2.1  All drivers, Competitors and officials pa...  \n",
       "2   3.1  It is the Competitor’s responsibility to ...  \n",
       "3   4.1  All drivers, Competitors and officials pa...  \n",
       "4   5.1  Competitions are reserved for Formula One...  \n",
       "..                                                ...  \n",
       "60  60.1  Only those officials charged with superv...  \n",
       "61  61.1  The car placed first will be the one hav...  \n",
       "62  62.1  The car placed first will be the one hav...  \n",
       "63  63.1  The drivers finishing the race in 1st, 2...  \n",
       "64  64.1  All equipment used to cool the car on th...  \n",
       "\n",
       "[65 rows x 2 columns]"
      ]
     },
     "execution_count": 35,
     "metadata": {},
     "output_type": "execute_result"
    }
   ],
   "source": [
    "def extract_sections_to_dataframe(full_text: str) -> pd.DataFrame:\n",
    "    \"\"\"\n",
    "    Extracts sections from the text based on patterns like 'NUMBER) A TITLE'\n",
    "    and returns a DataFrame with 'title' and 'chunk' columns.\n",
    "\n",
    "    This function processes the entire document at once to preserve text continuity\n",
    "    across page breaks.\n",
    "\n",
    "    Args:\n",
    "        full_text (str): The complete text to process.\n",
    "\n",
    "    Returns:\n",
    "        pd.DataFrame: A DataFrame with 'title' and 'chunk' columns.\n",
    "    \"\"\"\n",
    "    # Updated regex to handle cases like \"VIRTUAL SAFETY CAR (VSC)\"\n",
    "    # and exclude titles with letters before the number\n",
    "    section_pattern = r\"(?<![A-Z])(\\d+\\)\\s+(?:[A-Z ,\\n\\-\\(\\)É]+))\\n\"\n",
    "    matches = re.split(section_pattern, full_text)\n",
    "\n",
    "    titles = []\n",
    "    chunks = []\n",
    "\n",
    "    # First element is text before first section (if any)\n",
    "    for i in range(1, len(matches), 2):\n",
    "        titles.append(matches[i].replace('\\n', ' ').strip())  # Clean multi-line titles\n",
    "        chunks.append(matches[i + 1].strip())\n",
    "\n",
    "    processed_df = pd.DataFrame({'title': titles, 'chunk': chunks})\n",
    "    processed_df[['title', 'chunk']] = processed_df[['title', 'chunk']].map(lambda x: x.replace('\\n', ' ').strip())\n",
    "    \n",
    "    # Remove in the last chunk any text after \"APPENDIX\" to avoid overlap with appendix extraction\n",
    "    processed_df['chunk'].iloc[-1] = re.sub(r'APPENDIX.*$', '', processed_df['chunk'].iloc[ -1], flags=re.DOTALL).strip()\n",
    "\n",
    "    return processed_df\n",
    "\n",
    "# Concatenate all pages into a single text before processing\n",
    "full_text = '\\n'.join(df['Text'])\n",
    "df_sections = extract_sections_to_dataframe(full_text)\n",
    "df_sections.to_csv(os.path.join(processed_data_dir, 'pdf_sections.csv'), index=False)\n",
    "df_sections"
   ]
  },
  {
   "cell_type": "code",
   "execution_count": 34,
   "id": "eb87df5e",
   "metadata": {},
   "outputs": [
    {
     "data": {
      "text/plain": [
       "'64.1  All equipment used to cool the car on the Grid using forced air flow (or any other gaseous flow)  must only be powered by electricity.'"
      ]
     },
     "execution_count": 34,
     "metadata": {},
     "output_type": "execute_result"
    }
   ],
   "source": [
    "df_sections['chunk'][64]"
   ]
  },
  {
   "cell_type": "code",
   "execution_count": 40,
   "id": "908a8a13",
   "metadata": {},
   "outputs": [
    {
     "data": {
      "text/plain": [
       "' \\n \\nAPPENDIX 9 \\n \\nAPPROVED CHANGES FOR SUBSEQUENT YEARS \\n \\nConvention: \\nDark red text: All changes previously agreed for subsequent years \\nDark red highlighted (yellow) text: new changes for subsequent years, approved by the WMSC \\n \\n1 \\nChanges for 2026'"
      ]
     },
     "execution_count": 40,
     "metadata": {},
     "output_type": "execute_result"
    }
   ],
   "source": [
    "df.iloc[-1]['Text']"
   ]
  },
  {
   "cell_type": "code",
   "execution_count": 141,
   "id": "e01676bc",
   "metadata": {},
   "outputs": [
    {
     "name": "stdout",
     "output_type": "stream",
     "text": [
      "Match found: APPENDIX 9\n"
     ]
    }
   ],
   "source": [
    "match = re.search(r\"APPENDIX[\\s\\n]+\\d+\", df.iloc[-1]['Text'])\n",
    "if match:\n",
    "    print(\"Match found:\", match.group())\n",
    "else:\n",
    "    print(\"No match found.\")"
   ]
  },
  {
   "cell_type": "code",
   "execution_count": 119,
   "id": "382793ad",
   "metadata": {},
   "outputs": [
    {
     "data": {
      "text/plain": [
       "64"
      ]
     },
     "execution_count": 119,
     "metadata": {},
     "output_type": "execute_result"
    }
   ],
   "source": [
    "# increase pandas display max rows 100\n",
    "pd.set_option('display.max_rows', 100)\n",
    "len(df_sections)"
   ]
  },
  {
   "cell_type": "markdown",
   "id": "032c8e50",
   "metadata": {},
   "source": [
    "# Appendices must be added"
   ]
  },
  {
   "cell_type": "code",
   "execution_count": 37,
   "id": "4fb83917",
   "metadata": {},
   "outputs": [
    {
     "ename": "TypeError",
     "evalue": "expected string or bytes-like object, got 'Series'",
     "output_type": "error",
     "traceback": [
      "\u001b[31m---------------------------------------------------------------------------\u001b[39m",
      "\u001b[31mTypeError\u001b[39m                                 Traceback (most recent call last)",
      "\u001b[36mCell\u001b[39m\u001b[36m \u001b[39m\u001b[32mIn[37]\u001b[39m\u001b[32m, line 38\u001b[39m\n\u001b[32m     36\u001b[39m \u001b[38;5;66;03m# Process the extracted text into appendices\u001b[39;00m\n\u001b[32m     37\u001b[39m summary_page = \u001b[32m1\u001b[39m\n\u001b[32m---> \u001b[39m\u001b[32m38\u001b[39m df_appendices = pd.concat([\u001b[43mextract_appendices_to_dataframe\u001b[49m\u001b[43m(\u001b[49m\u001b[43mdf\u001b[49m\u001b[43m[\u001b[49m\u001b[33;43m'\u001b[39;49m\u001b[33;43mText\u001b[39;49m\u001b[33;43m'\u001b[39;49m\u001b[43m]\u001b[49m\u001b[43m)\u001b[49m], ignore_index=\u001b[38;5;28;01mTrue\u001b[39;00m)\n\u001b[32m     39\u001b[39m df_appendices.to_csv(os.path.join(processed_data_dir, \u001b[33m'\u001b[39m\u001b[33mpdf_appendices.csv\u001b[39m\u001b[33m'\u001b[39m), index=\u001b[38;5;28;01mFalse\u001b[39;00m)\n\u001b[32m     40\u001b[39m \u001b[38;5;28mprint\u001b[39m(df_appendices)\n",
      "\u001b[36mCell\u001b[39m\u001b[36m \u001b[39m\u001b[32mIn[37]\u001b[39m\u001b[32m, line 13\u001b[39m, in \u001b[36mextract_appendices_to_dataframe\u001b[39m\u001b[34m(text)\u001b[39m\n\u001b[32m      2\u001b[39m \u001b[38;5;250m\u001b[39m\u001b[33;03m\"\"\"\u001b[39;00m\n\u001b[32m      3\u001b[39m \u001b[33;03mExtracts appendices from the text based on patterns like 'APPENDIX <number>'\u001b[39;00m\n\u001b[32m      4\u001b[39m \u001b[33;03mand returns a DataFrame with 'title' and 'chunk' columns.\u001b[39;00m\n\u001b[32m   (...)\u001b[39m\u001b[32m     10\u001b[39m \u001b[33;03m    pd.DataFrame: A DataFrame with 'title' and 'chunk' columns.\u001b[39;00m\n\u001b[32m     11\u001b[39m \u001b[33;03m\"\"\"\u001b[39;00m\n\u001b[32m     12\u001b[39m section_pattern = \u001b[33mr\u001b[39m\u001b[33m\"\u001b[39m\u001b[33m(APPENDIX[\u001b[39m\u001b[33m\\\u001b[39m\u001b[33ms\u001b[39m\u001b[33m\\\u001b[39m\u001b[33mn]+\u001b[39m\u001b[33m\\\u001b[39m\u001b[33md+)\u001b[39m\u001b[33m\"\u001b[39m\n\u001b[32m---> \u001b[39m\u001b[32m13\u001b[39m matches = \u001b[38;5;28mlist\u001b[39m(\u001b[43mre\u001b[49m\u001b[43m.\u001b[49m\u001b[43mfinditer\u001b[49m\u001b[43m(\u001b[49m\u001b[43msection_pattern\u001b[49m\u001b[43m,\u001b[49m\u001b[43m \u001b[49m\u001b[43mtext\u001b[49m\u001b[43m)\u001b[49m)\n\u001b[32m     14\u001b[39m \u001b[38;5;28mprint\u001b[39m(matches)\n\u001b[32m     15\u001b[39m titles = []\n",
      "\u001b[36mFile \u001b[39m\u001b[32m~/.local/share/uv/python/cpython-3.12.7-macos-aarch64-none/lib/python3.12/re/__init__.py:224\u001b[39m, in \u001b[36mfinditer\u001b[39m\u001b[34m(pattern, string, flags)\u001b[39m\n\u001b[32m    219\u001b[39m \u001b[38;5;28;01mdef\u001b[39;00m\u001b[38;5;250m \u001b[39m\u001b[34mfinditer\u001b[39m(pattern, string, flags=\u001b[32m0\u001b[39m):\n\u001b[32m    220\u001b[39m \u001b[38;5;250m    \u001b[39m\u001b[33;03m\"\"\"Return an iterator over all non-overlapping matches in the\u001b[39;00m\n\u001b[32m    221\u001b[39m \u001b[33;03m    string.  For each match, the iterator returns a Match object.\u001b[39;00m\n\u001b[32m    222\u001b[39m \n\u001b[32m    223\u001b[39m \u001b[33;03m    Empty matches are included in the result.\"\"\"\u001b[39;00m\n\u001b[32m--> \u001b[39m\u001b[32m224\u001b[39m     \u001b[38;5;28;01mreturn\u001b[39;00m \u001b[43m_compile\u001b[49m\u001b[43m(\u001b[49m\u001b[43mpattern\u001b[49m\u001b[43m,\u001b[49m\u001b[43m \u001b[49m\u001b[43mflags\u001b[49m\u001b[43m)\u001b[49m\u001b[43m.\u001b[49m\u001b[43mfinditer\u001b[49m\u001b[43m(\u001b[49m\u001b[43mstring\u001b[49m\u001b[43m)\u001b[49m\n",
      "\u001b[31mTypeError\u001b[39m: expected string or bytes-like object, got 'Series'"
     ]
    }
   ],
   "source": [
    "def extract_appendices_to_dataframe(text: str) -> pd.DataFrame:\n",
    "    \"\"\"\n",
    "    Extracts appendices from the text based on patterns like 'APPENDIX <number>'\n",
    "    and returns a DataFrame with 'title' and 'chunk' columns.\n",
    "\n",
    "    Args:\n",
    "        text (str): The text to process.\n",
    "\n",
    "    Returns:\n",
    "        pd.DataFrame: A DataFrame with 'title' and 'chunk' columns.\n",
    "    \"\"\"\n",
    "    section_pattern = r\"(APPENDIX[\\s\\n]+\\d+)\"\n",
    "    matches = list(re.finditer(section_pattern, text))\n",
    "    print(matches)\n",
    "    titles = []\n",
    "    chunks = []\n",
    "\n",
    "    if not matches:\n",
    "        return pd.DataFrame({'title': [], 'chunk': []})\n",
    "\n",
    "    for i, match in enumerate(matches):\n",
    "        end = match.end()\n",
    "        title = match.group(1).replace('\\n', ' ').strip()\n",
    "        if i + 1 < len(matches):\n",
    "            chunk = text[end:matches[i + 1].start()].strip()\n",
    "        else:\n",
    "            chunk = text[end:].strip()\n",
    "        titles.append(title)\n",
    "        chunks.append(chunk)\n",
    "\n",
    "    processed_df = pd.DataFrame({'title': titles, 'chunk': chunks})\n",
    "    processed_df[['title', 'chunk']] = processed_df[['title', 'chunk']].map(lambda x: x.replace('\\n', ' ').strip())\n",
    "    print(processed_df)\n",
    "    return processed_df\n",
    "\n",
    "# Process the extracted text into appendices\n",
    "summary_page = 1\n",
    "df_appendices = pd.concat([extract_appendices_to_dataframe(df['Text'])], ignore_index=True)\n",
    "df_appendices.to_csv(os.path.join(processed_data_dir, 'pdf_appendices.csv'), index=False)\n",
    "print(df_appendices)"
   ]
  },
  {
   "cell_type": "code",
   "execution_count": 34,
   "id": "454c4724",
   "metadata": {},
   "outputs": [
    {
     "name": "stdout",
     "output_type": "stream",
     "text": [
      "INFORMATION REQUIRED BY THE FIA 90 DAYS BEFORE A COMPETITION    PART A.    1.  NAME AND ADDRESS OF THE NATIONAL SPORTING AUTHORITY (ASN).  2.  NAME AND ADDRESS OF THE ORGANISER.  3.  DATE AND PLACE OF THE COMPETITION.  4.  START TIME OF THE RACE (AS AGREED WITH THE PERMANENT BUREAU OF THE FIA F1 COMMISSION).  5.  ADDRESS AND TELEPHONE, FAX AND TELEX NUMBERS TO WHICH ENQUIRIES CAN BE ADDRESSED.  6.  DETAILS OF THE CIRCUIT, WHICH MUST INCLUDE:    -  LOCATION AND HOW TO GAIN ACCESS.    -  LENGTH OF ONE LAP.    -  NUMBER OF LAPS FOR RACE.    -  DIRECTION (CLOCKWISE OR ANTI-CLOCKWISE).    -  LOCATION OF END OF THE PIT LANE IN RELATION TO LINE.  7.  PRECISE LOCATION AT THE CIRCUIT OF:    -  STEWARDS’ OFFICE.    -  RACE DIRECTOR’S OFFICE.    -  FIA OFFICE.    -  PARC FERMÉ.    -  DRIVERS’ AND COMPETITORS’ BRIEFING.    -  WINNER’S PRESS CONFERENCE.  8.  LIST OF ANY TROPHIES AND SPECIAL AWARDS.  9.  THE NAMES OF THE FOLLOWING OFFICIALS OF THE COMPETITION APPOINTED BY THE ASN:    -  STEWARDS.    -  CLERK OF THE COURSE.    -  SECRETARY OF THE COMPETITION.    -  CHIEF NATIONAL SCRUTINEER.    -  CHIEF NATIONAL MEDICAL OFFICER.    PART B.  1.  FIA STEWARDS.  2.  RACE DIRECTOR.  3.  SAFETY DELEGATE.  4.  PERMANENT STARTER.  5.  MEDICAL DELEGATE.  6.  TECHNICAL DELEGATE.  7.  MEDIA DELEGATE.  8.  STEWARD’S ADVISER.  AND, IF APPROPRIATE.  9.  A REPRESENTATIVE OF THE PRESIDENT OF THE  FIA.  10.  A DEPUTY RACE DIRECTOR  11.  A DEPUTY MEDICAL DELEGATE  12.  AN OBSERVER.  13.  A SAFETY CAR DRIVER.  14.  A MEDICAL CAR DRIVER.\n",
      "FEDERATION INTERNATIONALE DE L’AUTOMOBILE  2025 ENTRY FORM FOR THE FIA FORMULA ONE WORLD CHAMPIONSHIP    Entry for the 2025 FIA Formula One World Championship    THE APPLICANT  Full company name   ....................................................................................................  Country of incorporation   ....................................................................................................  Registration number   ....................................................................................................  Date of incorporation   ....................................................................................................  Country of residence   ....................................................................................................  Registered office   ....................................................................................................     ....................................................................................................     ....................................................................................................     ....................................................................................................                Trading Address      ……………………………………………………………………………………………….            Tel        ………………………………………………………………………………………………    Fax        ………………………………………………………………………………………………    E-mail       ………………………………………………………………………………………………  Directors      ………………………………………………………………………………………………                        Team Principal     ……………………………………………………………………………………………      Team Manager     ……………………………………………………………………………………………      Authorised Representatives with sole power to bind the company  Title    ………………………………………………………………………………………………  Title    ………………………………………………………………………………………………  Title    ………………………………………………………………………………………………\n",
      "REGULATIONS OF THE DRIVER CONTRACT RECOGNITION BOARD    (\"Reserved for the exclusive use of Competitors entered in the FIA Formula One World  Championship\")\n",
      "ENTRY FEES FOR THE 2025 FIA FORMULA ONE WORLD CHAMPIONSHIP    i)  The winner of the 2024 World Championship for Constructors will be required to pay a basic  fee of US$680,2031 plus US$8,1611 for each point gained in the 2024 World Championship for  Constructors.    ii)   Every other Competitor will be required to pay a basic fee of US$680,2031 plus US$6,7991 for  each point that the Competitor gained in the 2024 World Championship for Constructors.  iii)  In both cases the basic fee is due at the time of the application and the remainder by 15  December of the year prior to the year to which this application relates.      1 Indexed by US CPI (3.4%)\n",
      "PODIUM CEREMONY    At each Event the procedure for the Podium Ceremony is detailed below.    1.  MASTER OF CEREMONIES    A master of ceremonies will be appointed by the FIA to conduct and take responsibility for the  entire podium ceremony.  2.  PODIUM  a)  ROSTRUM AND DAIS    The dimensions of the dais must follow those found in the FIA graphic design manual.    The distance between the edge of the winner's dais and the retaining barrier of the  podium should be a minimum of 120cm to provide a walkway.    The place where each person presenting a trophy should stand must be marked on the  floor of the podium.    Trophies must be laid out on a single table on one side of the podium. The champagne  must be on the dais.  b)  FLAGS    Olympic Games style \"flat flags\" should be used. There must be a minimum space of 50cm  behind the podium structure for the flag men.  c)  FLOOR    The podium and steps should be covered in green or dark blue carpet.  3.  ANTHEMS  a)  The national anthem of the winning driver and winning constructor will be played. The  Nationalities of the constructors and drivers will be notified to the organiser by the FIA  and will accord with Article 9.5.2 of the Code.  b)  A suitable sound system should be installed to ensure that national anthems, (initiated by  the master of ceremonies) are clearly heard with an audio link to the TV broadcast.  c)  When the champagne shower begins, music should be played. This should not start until  the presenters have left the podium.  d)  A commentary of the podium ceremony should be broadcast to the general public from  the platform erected for the TV cameras.  4.  TROPHIES    Only 4 trophies will be presented during the podium ceremony:  a)  Winning driver.  b)  A representative of the winning constructor.  c)  Second driver.  d)  Third driver.\n",
      "SUPPLY OF POWER UNITS FOR THE 2021-2025 CHAMPIONSHIP SEASONS    Preamble: The FIA and the Commercial Rights Holder remain entitled to decide jointly that this  Appendix being withdrawn at any time if the number of Power Unit Manufacturers supplying power  units in a Championship season is less than 3 (three).  a.  Any Power Unit Manufacturer wishing to supply power units to a Competitor must fulfil the  obligations set out in section 1.1 of Appendix 4 of the Technical Regulations.  b.  No power unit may be used in a given Championship season unless the Power Unit Manufacturer  supplying such power unit accepts and adheres to the following conditions.  Each of the Power Unit Manufacturers of an homologated power unit must:  1.  provide the FIA, before 15 May (or such other date as agreed in writing between all the  Power Unit Manufacturers and the FIA) of the season preceding that in which such power  units are to be supplied, with the list of teams (clearly identifying the appointed  “works/factory” team, if any) to which a supply agreement has been concluded for the  given Championship season;  2.  if called upon to do so by the FIA before 1 June (or such other date as agreed in writing  between all the Power Unit Manufacturers and the FIA) of the season preceding that in  which such power units were to be supplied, supply at least a number of teams (“T”) equal  to the following equation:  T = (111-A)/(B-C)  - A = Total number of teams (including “works/factory” teams) having a supply agreement  concluded for the given Championship season with a New Power Unit Manufacturer.  - B = Total number of manufacturers of homologated Power Units for the given  Championship season.  - C = Total number of New Power Unit Manufacturers for the given Championship season.  provided that if the result contains a fraction then the fraction shall count as a full team  (e.g. 11 teams divided by 4 manufacturers = 2.75, each manufacturer must, if called  upon to do so by the FIA, supply at least 3 teams).    1   This figure will be reviewed each year as the “total number of entered teams” will not be known until  November preceding the Championship season. The figure of 11 covers supply of 12 teams or less in compliance with  the calculation rule.  In doing so, the FIA will first allocate the power unit supply between the Power Unit  Manufacturers that are supplying the fewest number of teams, provided that the teams  without a supply agreement shall be allocated to the Power Unit Manufacturer(s) that  supplies(supply) the lowest number of teams and so on. If there is more than one Power  Unit Manufacturer supplying the fewest number of teams (i.e. in the same position)  and/or more than one team requesting a supply the allocation between such Power Unit  Manufacturers shall occur by ballot (which ballot shall be transparent and undertaken by  the FIA in the presence of a representative of each of the Power Unit Manufacturer(s) and  the new Customer Team concerned).\n",
      "AERODYNAMIC TESTING RESTRICTIONS (ATR)    The ATR, and the definitions and rules which will apply to aerodynamic testing, are as follows:  1  General conditions  a.  Restricted Aerodynamic testing is the testing by a Competitor or any Associate of a  Competitor and/or by any contracted party of a Competitor or of any Associate of a  Competitor or any external entity working on behalf of a Competitor or for its own  purposes and subsequently providing the results of its work to a Competitor in a test  environment or numerical simulation of a representation of an F1 car or sub-component  in order to measure, observe or infer any forces, displacements, pressures or air flow  direction resulting directly or indirectly from the incident air flow.  b.  A three-dimensional representation of an F1 car or sub-component subject to Restricted  Aerodynamic testing, defined either physically or digitally, will be considered for the  purposes of this Article as a Restricted Aerodynamic Test Geometry (RATG) and save for  where specifically permitted by this Article may not be added to, removed from, morphed  or modified. In order to prevent Restricted Aerodynamic testing methodologies intended  to subvert any limits on the number or nature of RATGs permitted under the ATR the  following will apply:  i.  The purpose of a RATG is to allow aerodynamic assessment of a single new  geometry, with aerodynamic dependency maintained throughout the simulated  flow field. Any attempt to derive aerodynamically independent results for  subcomponents of a RATG, either in the initial simulation or test, or by subsequent  modification to the simulation or test conditions, is not permitted. Any attempt to  use boundary conditions or similar to infer the effect of combining RATGs, without  accruing a further RATG, is also not permitted. The use of boundary conditions  cannot be exploited to simulate the effect on the fluid of a geometry which is  different from the RATG in use.  ii.  If the representation contains external bodywork surfaces on both sides of the  centre plane of the car these must be symmetrical about this plane with the  exception of the wheel bodywork defined by Article 3.13 of the Technical  Regulations. Minimal exceptions for parts directly associated with the cooling of  the power unit, or changes of car attitude allowed under sections 3d (roll and steer)  and 4 will be permitted.  iii.  Excluding permitted degrees of freedom for RWTT and changes in RCFDs, the  substitution or replacement of any part of a RATG with a non-F1 car geometry, or  the placement of any physical or computational boundary condition or solver  setting, that simulates or attempts to simulate a modification to this RATG will be  considered as a new RATG.   iv.  Sections (or sub-models) of a RATG which is used for RCFDs may be created by  removing geometry from the parent RATG and placing boundary conditions of  velocity or pressure profiles generated entirely from the same RATG to replicate\n",
      "POWER UNIT TEST BENCH RESTRICTIONS    1   Engine dyno test limitations  a)   Definitions:  - Engine Test Bench: An Engine Test Bench is either a Power Unit Test Bench, a Power Train Test  Bench or a Full Car Dyno.   - Power Unit Test Bench: A test bench facility cell where a fired engine with more than 1 cylinder  representative of a Formula One engine may be tested. In addition to test bench components,  it may include and is limited to the following power unit and car components:  o Items listed in Technical Regulations Appendix 3 column 1 (art 5.1.2 Defin) listed as ‘INC’.  o The clutch, flywheel, and clutch actuation system.  o Fuel, engine oil and PU related liquids other than fuel and engine oil.  o Heat exchangers and their associated accessories. (including but not limited to housings,  tubes, pipes, hoses, supports, brackets and fasteners).  o The PU intake upstream of compressor inlet up to and including the air filter.  o The FIA Standard ECU.  o The regulatory fuel flow meter (FFM).  o Up to twelve M12 studs used to connect the ICE to the survival cell or gearbox case.  o Additional items required for this test bench at the sole discretion of the FIA.  - Power Train Test Bench: A test bench facility cell where a fired engine and transmission can be  tested together. In addition to test bench components, it may include and is limited to the  following power unit and car components in addition to those included in a Power Unit Test  Bench:  o Items listed in Technical Regulations Appendix 3 column 1 (art 5.1.2 Defin) listed as ‘EXC’.  o A gearbox.  o Driveshafts and any components associated with their operation (such as joints, grease and  housings).  o Heat exchangers for gearbox oil and accessories associated with their operation.  o The complete car fuel system.  o A survival cell or close representation of a survival cell.  o Bodywork and air ducts or close representations of bodywork and air ducts associated with  the air intake and exit of heat exchangers and compressor inlet, provided that it is for the  sole purpose of representing air flow into or out of heat exchangers or the PU thermal  environment.  o Minimal suspension and steering systems required to solely and exclusively mount the  survival cell and/or powertrain to the test bench facility.  o Braking systems that are inoperable.  o Additional items required for this test bench at the sole discretion of the FIA.\n",
      "APPROVED CHANGES FOR SUBSEQUENT YEARS    Convention:  Dark red text: All changes previously agreed for subsequent years  Dark red highlighted (yellow) text: new changes for subsequent years, approved by the WMSC    1  Changes for 2026\n"
     ]
    }
   ],
   "source": [
    "for value in df_appendices[\"chunk\"].values:\n",
    "    print(value)"
   ]
  },
  {
   "cell_type": "code",
   "execution_count": 36,
   "id": "0f93dbb9",
   "metadata": {},
   "outputs": [
    {
     "data": {
      "text/plain": [
       "'POWER UNIT TEST BENCH RESTRICTIONS    1   Engine dyno test limitations  a)   Definitions:  - Engine Test Bench: An Engine Test Bench is either a Power Unit Test Bench, a Power Train Test  Bench or a Full Car Dyno.   - Power Unit Test Bench: A test bench facility cell where a fired engine with more than 1 cylinder  representative of a Formula One engine may be tested. In addition to test bench components,  it may include and is limited to the following power unit and car components:  o Items listed in Technical Regulations Appendix 3 column 1 (art 5.1.2 Defin) listed as ‘INC’.  o The clutch, flywheel, and clutch actuation system.  o Fuel, engine oil and PU related liquids other than fuel and engine oil.  o Heat exchangers and their associated accessories. (including but not limited to housings,  tubes, pipes, hoses, supports, brackets and fasteners).  o The PU intake upstream of compressor inlet up to and including the air filter.  o The FIA Standard ECU.  o The regulatory fuel flow meter (FFM).  o Up to twelve M12 studs used to connect the ICE to the survival cell or gearbox case.  o Additional items required for this test bench at the sole discretion of the FIA.  - Power Train Test Bench: A test bench facility cell where a fired engine and transmission can be  tested together. In addition to test bench components, it may include and is limited to the  following power unit and car components in addition to those included in a Power Unit Test  Bench:  o Items listed in Technical Regulations Appendix 3 column 1 (art 5.1.2 Defin) listed as ‘EXC’.  o A gearbox.  o Driveshafts and any components associated with their operation (such as joints, grease and  housings).  o Heat exchangers for gearbox oil and accessories associated with their operation.  o The complete car fuel system.  o A survival cell or close representation of a survival cell.  o Bodywork and air ducts or close representations of bodywork and air ducts associated with  the air intake and exit of heat exchangers and compressor inlet, provided that it is for the  sole purpose of representing air flow into or out of heat exchangers or the PU thermal  environment.  o Minimal suspension and steering systems required to solely and exclusively mount the  survival cell and/or powertrain to the test bench facility.  o Braking systems that are inoperable.  o Additional items required for this test bench at the sole discretion of the FIA.'"
      ]
     },
     "execution_count": 36,
     "metadata": {},
     "output_type": "execute_result"
    }
   ],
   "source": [
    "df_appendices.iloc[7]['chunk']"
   ]
  },
  {
   "cell_type": "markdown",
   "id": "deb55e6d",
   "metadata": {},
   "source": [
    "### Token embeddings"
   ]
  },
  {
   "cell_type": "code",
   "execution_count": null,
   "id": "47b316e9",
   "metadata": {},
   "outputs": [],
   "source": [
    "from sentence_transformers import SentenceTransformer\n",
    "model = SentenceTransformer(\"Qwen/Qwen3-Embedding-0.6B\")\n"
   ]
  },
  {
   "cell_type": "code",
   "execution_count": 122,
   "id": "2b635751",
   "metadata": {},
   "outputs": [],
   "source": [
    "df = pd.read_csv(os.path.join(processed_data_dir, 'pdf_sections.csv'))"
   ]
  },
  {
   "cell_type": "code",
   "execution_count": 123,
   "id": "a6e70fe8",
   "metadata": {},
   "outputs": [
    {
     "data": {
      "text/html": [
       "<div>\n",
       "<style scoped>\n",
       "    .dataframe tbody tr th:only-of-type {\n",
       "        vertical-align: middle;\n",
       "    }\n",
       "\n",
       "    .dataframe tbody tr th {\n",
       "        vertical-align: top;\n",
       "    }\n",
       "\n",
       "    .dataframe thead th {\n",
       "        text-align: right;\n",
       "    }\n",
       "</style>\n",
       "<table border=\"1\" class=\"dataframe\">\n",
       "  <thead>\n",
       "    <tr style=\"text-align: right;\">\n",
       "      <th></th>\n",
       "      <th>title</th>\n",
       "      <th>chunk</th>\n",
       "    </tr>\n",
       "  </thead>\n",
       "  <tbody>\n",
       "    <tr>\n",
       "      <th>0</th>\n",
       "      <td>1)  REGULATIONS</td>\n",
       "      <td>1.1  The FIA will organise the FIA Formula One...</td>\n",
       "    </tr>\n",
       "    <tr>\n",
       "      <th>1</th>\n",
       "      <td>2)  GENERAL UNDERTAKING</td>\n",
       "      <td>2.1  All drivers, Competitors and officials pa...</td>\n",
       "    </tr>\n",
       "    <tr>\n",
       "      <th>2</th>\n",
       "      <td>3)  GENERAL CONDITIONS</td>\n",
       "      <td>3.1  It is the Competitor’s responsibility to ...</td>\n",
       "    </tr>\n",
       "    <tr>\n",
       "      <th>3</th>\n",
       "      <td>4)  LICENCES</td>\n",
       "      <td>4.1  All drivers, Competitors and officials pa...</td>\n",
       "    </tr>\n",
       "    <tr>\n",
       "      <th>4</th>\n",
       "      <td>5)  CHAMPIONSHIP COMPETITIONS</td>\n",
       "      <td>5.1  Competitions are reserved for Formula One...</td>\n",
       "    </tr>\n",
       "  </tbody>\n",
       "</table>\n",
       "</div>"
      ],
      "text/plain": [
       "                           title  \\\n",
       "0                1)  REGULATIONS   \n",
       "1        2)  GENERAL UNDERTAKING   \n",
       "2         3)  GENERAL CONDITIONS   \n",
       "3                   4)  LICENCES   \n",
       "4  5)  CHAMPIONSHIP COMPETITIONS   \n",
       "\n",
       "                                               chunk  \n",
       "0  1.1  The FIA will organise the FIA Formula One...  \n",
       "1  2.1  All drivers, Competitors and officials pa...  \n",
       "2  3.1  It is the Competitor’s responsibility to ...  \n",
       "3  4.1  All drivers, Competitors and officials pa...  \n",
       "4  5.1  Competitions are reserved for Formula One...  "
      ]
     },
     "execution_count": 123,
     "metadata": {},
     "output_type": "execute_result"
    }
   ],
   "source": [
    "df.head()  # Display the first few rows of the DataFrame"
   ]
  },
  {
   "cell_type": "code",
   "execution_count": 124,
   "id": "b63e3980",
   "metadata": {},
   "outputs": [
    {
     "data": {
      "text/html": [
       "<div>\n",
       "<style scoped>\n",
       "    .dataframe tbody tr th:only-of-type {\n",
       "        vertical-align: middle;\n",
       "    }\n",
       "\n",
       "    .dataframe tbody tr th {\n",
       "        vertical-align: top;\n",
       "    }\n",
       "\n",
       "    .dataframe thead th {\n",
       "        text-align: right;\n",
       "    }\n",
       "</style>\n",
       "<table border=\"1\" class=\"dataframe\">\n",
       "  <thead>\n",
       "    <tr style=\"text-align: right;\">\n",
       "      <th></th>\n",
       "      <th>title</th>\n",
       "      <th>chunk</th>\n",
       "    </tr>\n",
       "  </thead>\n",
       "  <tbody>\n",
       "    <tr>\n",
       "      <th>28</th>\n",
       "      <td>29)  VOID</td>\n",
       "      <td>NaN</td>\n",
       "    </tr>\n",
       "    <tr>\n",
       "      <th>40</th>\n",
       "      <td>41)  VOID</td>\n",
       "      <td>NaN</td>\n",
       "    </tr>\n",
       "  </tbody>\n",
       "</table>\n",
       "</div>"
      ],
      "text/plain": [
       "        title chunk\n",
       "28  29)  VOID   NaN\n",
       "40  41)  VOID   NaN"
      ]
     },
     "execution_count": 124,
     "metadata": {},
     "output_type": "execute_result"
    }
   ],
   "source": [
    "df.loc[df.isna().sum(axis=1) > 0]"
   ]
  },
  {
   "cell_type": "code",
   "execution_count": 125,
   "id": "49d38326",
   "metadata": {},
   "outputs": [
    {
     "data": {
      "application/vnd.jupyter.widget-view+json": {
       "model_id": "9659d984908b42039796316dd93deb26",
       "version_major": 2,
       "version_minor": 0
      },
      "text/plain": [
       "Batches:   0%|          | 0/2 [00:00<?, ?it/s]"
      ]
     },
     "metadata": {},
     "output_type": "display_data"
    }
   ],
   "source": [
    "model = SentenceTransformer(\"Qwen/Qwen3-Embedding-0.6B\")\n",
    "embeddings = model.encode(df['chunk'].tolist(), show_progress_bar=True, device='mps')"
   ]
  },
  {
   "cell_type": "code",
   "execution_count": 126,
   "id": "6de4d2b6",
   "metadata": {},
   "outputs": [
    {
     "data": {
      "text/plain": [
       "array([[ 0.03867137, -0.00604724, -0.00682677, ..., -0.03376015,\n",
       "        -0.00947953, -0.00209979],\n",
       "       [ 0.0311457 , -0.03375433, -0.00729547, ..., -0.04132152,\n",
       "        -0.00200754, -0.02746743],\n",
       "       [ 0.05352963, -0.03765709, -0.00557554, ..., -0.01629589,\n",
       "        -0.02041579,  0.00070395],\n",
       "       ...,\n",
       "       [ 0.00495611, -0.02649595, -0.00973289, ..., -0.01721682,\n",
       "         0.00948874, -0.04745426],\n",
       "       [ 0.04810619, -0.0259371 , -0.00585549, ...,  0.02249218,\n",
       "         0.00224992, -0.00090425],\n",
       "       [ 0.03289371,  0.01738825, -0.00715252, ..., -0.04115681,\n",
       "        -0.03080961, -0.00738988]], shape=(64, 1024), dtype=float32)"
      ]
     },
     "execution_count": 126,
     "metadata": {},
     "output_type": "execute_result"
    }
   ],
   "source": [
    "embeddings"
   ]
  },
  {
   "cell_type": "code",
   "execution_count": 130,
   "id": "2f322a31",
   "metadata": {},
   "outputs": [
    {
     "data": {
      "text/plain": [
       "tensor([[0.1843, 0.1749, 0.2323, 0.2085, 0.2418, 0.2401, 0.3081, 0.1699, 0.1859,\n",
       "         0.2654, 0.2676, 0.2892, 0.1821, 0.2115, 0.2099, 0.2381, 0.2024, 0.1846,\n",
       "         0.1996, 0.2168, 0.2357, 0.2096, 0.1788, 0.3229, 0.2023, 0.2564, 0.1876,\n",
       "         0.2377, 0.5478, 0.1695, 0.2415, 0.1461, 0.2723, 0.1519, 0.1893, 0.2173,\n",
       "         0.2170, 0.2490, 0.2368, 0.2996, 0.5478, 0.1999, 0.3463, 0.1779, 0.2154,\n",
       "         0.2779, 0.1876, 0.2692, 0.2043, 0.2816, 0.3420, 0.2849, 0.2743, 0.2674,\n",
       "         0.2068, 0.5777, 0.2131, 0.2295, 0.2824, 0.2243, 0.2554, 0.2894, 0.1919,\n",
       "         0.3097]])"
      ]
     },
     "execution_count": 130,
     "metadata": {},
     "output_type": "execute_result"
    }
   ],
   "source": [
    "model.similarity(model.encode(\"What is the VSC?\"), embeddings)"
   ]
  },
  {
   "cell_type": "code",
   "execution_count": 131,
   "id": "0276b5c7",
   "metadata": {},
   "outputs": [
    {
     "data": {
      "text/plain": [
       "tensor(55)"
      ]
     },
     "execution_count": 131,
     "metadata": {},
     "output_type": "execute_result"
    }
   ],
   "source": [
    "model.similarity(model.encode(\"What is the VSC?\"), embeddings).argmax()"
   ]
  },
  {
   "cell_type": "code",
   "execution_count": 132,
   "id": "290af002",
   "metadata": {},
   "outputs": [
    {
     "data": {
      "text/plain": [
       "'56.1  The VSC procedure may be initiated to neutralise a practice session, sprint session or a race upon  the order of the clerk of the course.  a)  It will normally be used when double waved yellow flags are needed on any section of  track and Competitors or officials may be in danger, but the circumstances are not such  as to warrant use of the safety car itself.  56.2  When the order is given to initiate the VSC procedure a message “VSC DEPLOYED” will be sent  to all Competitors using the official messaging system and all FIA light panels will display “VSC”.  56.3  No car may be driven unnecessarily slowly, erratically or in a manner which could be deemed  potentially dangerous to other drivers or any other person at any time whilst the VSC procedure  is in use. This will apply whether any such car is being driven on the track, the pit entry road, or  the pit lane.  56.4  When initiated during a sprint session or a race, no car may enter the pits whilst the VSC  procedure is in use unless it is for the purpose of changing tyres.  56.5  All competing cars must reduce speed and stay above the minimum time set by the FIA ECU at  least once in each marshalling sector and at both the first and second safety car lines (a  marshalling sector is defined as the section of track between each of the FIA light panels). All  cars must also be above this minimum time when the FIA light panels change to green (see  Article 56.7 below).    When initiated during the sprint session or a race, the stewards may impose any of the penalties  under Article 54.3a), 54.3b), 54.3c) or 54.3d) on any driver who fails to stay above the minimum  time as required by the above.  56.6  With the exception of the cases listed under a) to d) below, no driver may overtake another car  on the track whilst the VSC procedure is in use.    The exceptions are:    a)  When entering the pits a driver may pass another car remaining on the track after he has  reached the first safety car line.    b)  When leaving the pits a driver may overtake, or be overtaken by, another car on the track  before he reaches the second safety car line.    c)  Whilst in the pit entry road, pit lane or pit exit road a driver may overtake another car  which is also in one of these three areas.    d)  If any car slows with an obvious problem.'"
      ]
     },
     "execution_count": 132,
     "metadata": {},
     "output_type": "execute_result"
    }
   ],
   "source": [
    "df['chunk'][55]"
   ]
  },
  {
   "cell_type": "markdown",
   "id": "19acceea",
   "metadata": {},
   "source": [
    "### Token Length"
   ]
  },
  {
   "cell_type": "code",
   "execution_count": 36,
   "id": "72e204cf",
   "metadata": {},
   "outputs": [
    {
     "data": {
      "text/html": [
       "<div>\n",
       "<style scoped>\n",
       "    .dataframe tbody tr th:only-of-type {\n",
       "        vertical-align: middle;\n",
       "    }\n",
       "\n",
       "    .dataframe tbody tr th {\n",
       "        vertical-align: top;\n",
       "    }\n",
       "\n",
       "    .dataframe thead th {\n",
       "        text-align: right;\n",
       "    }\n",
       "</style>\n",
       "<table border=\"1\" class=\"dataframe\">\n",
       "  <thead>\n",
       "    <tr style=\"text-align: right;\">\n",
       "      <th></th>\n",
       "      <th>title</th>\n",
       "      <th>chunk</th>\n",
       "      <th>len</th>\n",
       "    </tr>\n",
       "  </thead>\n",
       "  <tbody>\n",
       "    <tr>\n",
       "      <th>10</th>\n",
       "      <td>10)  TRACK RUNNING TIME OUTSIDE A COMPETITION</td>\n",
       "      <td>10.1  Testing of Current Cars (TCC)  a)  Testi...</td>\n",
       "      <td>4357</td>\n",
       "    </tr>\n",
       "    <tr>\n",
       "      <th>30</th>\n",
       "      <td>30)  SUPPLY OF TYRES IN THE CHAMPIONSHIP AND T...</td>\n",
       "      <td>30.1  Supply of tyres  a)  The single tyre man...</td>\n",
       "      <td>3712</td>\n",
       "    </tr>\n",
       "    <tr>\n",
       "      <th>58</th>\n",
       "      <td>58)  RESUMING A SPRINT SESSION OR A RACE</td>\n",
       "      <td>58.1  The delay will be kept as short as possi...</td>\n",
       "      <td>2308</td>\n",
       "    </tr>\n",
       "    <tr>\n",
       "      <th>40</th>\n",
       "      <td>40)  PRE-SPRINT AND PRE-RACE PARC FERME</td>\n",
       "      <td>40.1  Each Competitor must provide the Technic...</td>\n",
       "      <td>1910</td>\n",
       "    </tr>\n",
       "    <tr>\n",
       "      <th>55</th>\n",
       "      <td>55) SAFETY CAR</td>\n",
       "      <td>55.1  The FIA safety car will be driven by an ...</td>\n",
       "      <td>1712</td>\n",
       "    </tr>\n",
       "    <tr>\n",
       "      <th>19</th>\n",
       "      <td>19)  PRESS CONFERENCES, MEDIA OPPORTUNITIES, D...</td>\n",
       "      <td>19.1  Day before on track running   a)  Up to ...</td>\n",
       "      <td>1701</td>\n",
       "    </tr>\n",
       "    <tr>\n",
       "      <th>26</th>\n",
       "      <td>26)  GENERAL SAFETY</td>\n",
       "      <td>26.1  Official instructions will be given to d...</td>\n",
       "      <td>1604</td>\n",
       "    </tr>\n",
       "    <tr>\n",
       "      <th>44</th>\n",
       "      <td>44)  RACE STARTING PROCEDURE</td>\n",
       "      <td>44.1  Forty (40) minutes before the scheduled ...</td>\n",
       "      <td>1525</td>\n",
       "    </tr>\n",
       "    <tr>\n",
       "      <th>43</th>\n",
       "      <td>43)  SPRINT SESSION STARTING PROCEDURE</td>\n",
       "      <td>43.1  The sprint session start procedure detai...</td>\n",
       "      <td>1470</td>\n",
       "    </tr>\n",
       "    <tr>\n",
       "      <th>34</th>\n",
       "      <td>34)  PIT ENTRY ROAD, PIT LANE AND PIT EXIT ROAD</td>\n",
       "      <td>34.1  Unless otherwise defined by the Race Dir...</td>\n",
       "      <td>1312</td>\n",
       "    </tr>\n",
       "  </tbody>\n",
       "</table>\n",
       "</div>"
      ],
      "text/plain": [
       "                                                title  \\\n",
       "10      10)  TRACK RUNNING TIME OUTSIDE A COMPETITION   \n",
       "30  30)  SUPPLY OF TYRES IN THE CHAMPIONSHIP AND T...   \n",
       "58           58)  RESUMING A SPRINT SESSION OR A RACE   \n",
       "40            40)  PRE-SPRINT AND PRE-RACE PARC FERME   \n",
       "55                                     55) SAFETY CAR   \n",
       "19  19)  PRESS CONFERENCES, MEDIA OPPORTUNITIES, D...   \n",
       "26                                26)  GENERAL SAFETY   \n",
       "44                       44)  RACE STARTING PROCEDURE   \n",
       "43             43)  SPRINT SESSION STARTING PROCEDURE   \n",
       "34    34)  PIT ENTRY ROAD, PIT LANE AND PIT EXIT ROAD   \n",
       "\n",
       "                                                chunk   len  \n",
       "10  10.1  Testing of Current Cars (TCC)  a)  Testi...  4357  \n",
       "30  30.1  Supply of tyres  a)  The single tyre man...  3712  \n",
       "58  58.1  The delay will be kept as short as possi...  2308  \n",
       "40  40.1  Each Competitor must provide the Technic...  1910  \n",
       "55  55.1  The FIA safety car will be driven by an ...  1712  \n",
       "19  19.1  Day before on track running   a)  Up to ...  1701  \n",
       "26  26.1  Official instructions will be given to d...  1604  \n",
       "44  44.1  Forty (40) minutes before the scheduled ...  1525  \n",
       "43  43.1  The sprint session start procedure detai...  1470  \n",
       "34  34.1  Unless otherwise defined by the Race Dir...  1312  "
      ]
     },
     "execution_count": 36,
     "metadata": {},
     "output_type": "execute_result"
    }
   ],
   "source": [
    "df = pd.read_csv('data/processed/pdf_sections.csv')\n",
    "df\n",
    "df['len'] = df['chunk'].apply(lambda x: len(str(x).split()))\n",
    "df.sort_values(by='len', ascending=False).head(10)\n"
   ]
  },
  {
   "cell_type": "code",
   "execution_count": 18,
   "id": "200ba9be",
   "metadata": {},
   "outputs": [
    {
     "data": {
      "text/plain": [
       "'64.1  All equipment used to cool the car on the Grid using forced air flow (or any other gaseous flow)  must only be powered by electricity.     APPENDIX 1    INFORMATION REQUIRED BY THE FIA 90 DAYS BEFORE A COMPETITION    PART A.    1.  NAME AND ADDRESS OF THE NATIONAL SPORTING AUTHORITY (ASN).  2.  NAME AND ADDRESS OF THE ORGANISER.  3.  DATE AND PLACE OF THE COMPETITION.  4.  START TIME OF THE RACE (AS AGREED WITH THE PERMANENT BUREAU OF THE FIA F1 COMMISSION).  5.  ADDRESS AND TELEPHONE, FAX AND TELEX NUMBERS TO WHICH ENQUIRIES CAN BE ADDRESSED.  6.  DETAILS OF THE CIRCUIT, WHICH MUST INCLUDE:    -  LOCATION AND HOW TO GAIN ACCESS.    -  LENGTH OF ONE LAP.    -  NUMBER OF LAPS FOR RACE.    -  DIRECTION (CLOCKWISE OR ANTI-CLOCKWISE).    -  LOCATION OF END OF THE PIT LANE IN RELATION TO LINE.  7.  PRECISE LOCATION AT THE CIRCUIT OF:    -  STEWARDS’ OFFICE.    -  RACE DIRECTOR’S OFFICE.    -  FIA OFFICE.    -  PARC FERMÉ.    -  DRIVERS’ AND COMPETITORS’ BRIEFING.    -  WINNER’S PRESS CONFERENCE.  8.  LIST OF ANY TROPHIES AND SPECIAL AWARDS.  9.  THE NAMES OF THE FOLLOWING OFFICIALS OF THE COMPETITION APPOINTED BY THE ASN:    -  STEWARDS.    -  CLERK OF THE COURSE.    -  SECRETARY OF THE COMPETITION.    -  CHIEF NATIONAL SCRUTINEER.    -  CHIEF NATIONAL MEDICAL OFFICER.    PART B.  1.  FIA STEWARDS.  2.  RACE DIRECTOR.  3.  SAFETY DELEGATE.  4.  PERMANENT STARTER.  5.  MEDICAL DELEGATE.  6.  TECHNICAL DELEGATE.  7.  MEDIA DELEGATE.  8.  STEWARD’S ADVISER.  AND, IF APPROPRIATE.  9.  A REPRESENTATIVE OF THE PRESIDENT OF THE  FIA.  10.  A DEPUTY RACE DIRECTOR  11.  A DEPUTY MEDICAL DELEGATE  12.  AN OBSERVER.  13.  A SAFETY CAR DRIVER.  14.  A MEDICAL CAR DRIVER.         APPENDIX 2    FEDERATION INTERNATIONALE DE L’AUTOMOBILE  2025 ENTRY FORM FOR THE FIA FORMULA ONE WORLD CHAMPIONSHIP    Entry for the 2025 FIA Formula One World Championship    THE APPLICANT  Full company name   ....................................................................................................  Country of incorporation   ....................................................................................................  Registration number   ....................................................................................................  Date of incorporation   ....................................................................................................  Country of residence   ....................................................................................................  Registered office   ....................................................................................................     ....................................................................................................     ....................................................................................................     ....................................................................................................                Trading Address      ……………………………………………………………………………………………….            Tel        ………………………………………………………………………………………………    Fax        ………………………………………………………………………………………………    E-mail       ………………………………………………………………………………………………  Directors      ………………………………………………………………………………………………                        Team Principal     ……………………………………………………………………………………………      Team Manager     ……………………………………………………………………………………………      Authorised Representatives with sole power to bind the company  Title    ………………………………………………………………………………………………  Title    ………………………………………………………………………………………………  Title    ………………………………………………………………………………………………     CONSTRUCTOR\\'S DETAILS OF ENTRY  National Competitor Licence  ………………………………………………………………………  Issued By  ………………………………………………………………………………………………  Number  ………………………………………………………………………………………………  Team Name  ………………………………………………………………………………………………  (Which must include the name of the chassis)    We hereby apply to enter the ……………… FIA Formula One World Championship and we undertake to  participate in each and every Competition:    i)  With the make of the car referred to below which we nominate for the purpose of Article 8.2 c)  & d) of the Sporting Regulations    Name of the Chassis  ……………………………………………………………………    Make of the Engine  ……………………………………………………………………    ii)  With the drivers referred to below which we nominate for the purpose of Articles 8.2e) & 26.1  of the Sporting Regulations    Driver of the first car [or*]  ……………………………………………………….    Licence Number …………………………………….. Issued By  …………………………………………………………    Driver of the second car [or*]  ……………………………………………………….    Licence Number …………………………………….. Issued By  …………………………………………………………   (tick only if applicable)    [ ]*  We wish to nominate the name of the driver of the first car subsequent to this  application. For this purpose we expressly agree to be bound by the provisions of Article 8.2(e)  of the Sporting Regulations.    [ ]*  We wish to nominate the name of the driver of the second car subsequent to this  application. For this purpose we expressly agree to be bound by the provisions of Article 8.2(e)  of the Sporting Regulations.    We confirm that we have read and understand the provisions of the International Sporting Code, the  Formula One Technical Regulations, the Formula One Sporting Regulations and the Formula One  Financial Regulations. We agree to be bound by them (as supplemented or amended) and further we  agree on our own behalf and on behalf of everyone associated with our participation in the FIA Formula  One World Championship to observe them.  We declare that we have examined this Entry Form and that the information given is true, correct and  complete and we undertake to pay the entry fee, calculated in accordance with Appendix 4 of the  Sporting Regulations, to the FIA no later than 15 December of the year prior to the year to which this  application relates. We understand and agree that any changes must be notified to the FIA in writing  within 7 days of such change to allow reappraisal of the entry.    SIGNED BY  (SIGNATURE)      (PRINT NAME OF THE PERSON SIGNING)      Being a person duly authorised to sign for and on behalf of      (PRINT FULL NAME OF APPLICANT)  Date     We confirm that we have read the Data Protection Notice at the end of this document and made  this available to the individuals referred to in this document ☐    TO BE COMPLETED BY THE FIA  Super Licence Number Driver n°1    Super licence Number Driver n°2  Date of Acceptance     ***********  DATA PROTECTION NOTICE    The security of your personal data is extremely important to the Fédération Internationale de  l’Automobile (“FIA”, “us”, “we”, “our”).    The FIA processes your personal data to fulfil its commercial and regulatory functions as the  international federation for Motorsport. This includes processing your personal data for the  enforcement of our rules, to ensure participant safety and to promote the sport.   For more information on how we use your personal data, your data subject rights and how to exercise  them, please see our Motorsport Privacy Notice, available at https://www.fia.com/motorsport- privacy-notice and available below.   If you have any questions, please contact: dpo@fia.com      FIA Motorsport Privacy Notice  Last updated: July 2023  Summary of how the FIA uses your data  •  The FIA processes the data of individuals and personnel participating in motorsport, as well as  their relatives and associates, in order to carry out its commercial and regulatory functions as  set out in the FIA’s official Statutes, and for the purposes identified in the International  Sporting Code and the FIA’s Sporting, Technical and Financial Regulations, Judicial and  Disciplinary Rules, and any other FIA rules and regulations that may apply from time to time.  This notice addresses how we process personal data relating to Competitors, Participants and  other Competitor, Promoter or Organiser personnel, owners or directors, Drivers, officials,  manufacturers and suppliers and their personnel, and any other individual who may be subject  to the FIA’s Statutes, International Sporting Code, or Sporting, Technical or Financial  Regulations from time to time, or whose data may be processed in connection with these  regulations or motorsport related activities, such as members of the press or media who seek  accreditation.  •  The FIA will particularly use your data to allow it to administer and govern its authorised  Competitions and Championships, ensure that on and off-track discipline and health and safety  are maintained, to uphold the integrity of motorsport and to promote motorsport, the FIA and  our Competitions, merchandise and services.  •  The FIA will process some special category personal data in carrying out these functions. This  will usually be done for the purposes of protecting safety within motorsport, particularly Driver  safety, for integrity related processing such as anti-doping, and for conducting relevant  research into motorsport safety.  •  Subject to your consent, and applicable law, the FIA may collect personal data relating to  diversity, inclusion and disability for monitoring purposes, and for the distribution of Disabled  Drivers’ Grants and similar initiatives operated by the FIA from time to time.  •  Data may be obtained from and shared with a number of third parties. We may obtain data  from your employer, or the Competitor or team or motorsport participant with which you have  a relationship, or from Promoters or Organisers. Your data may in turn be shared with     Promoters, Organisers, Competitors and teams or other motorsport participants and contacts  referenced in relevant applications, for example in relation to your conduct or the conducting  of due diligence. We share information with our suppliers and professional advisors as  necessary for the purposes identified in this notice. Information may be shared with law  enforcement or regulatory authorities where there is evidence of relevant criminal conduct.  Data is also shared with courts and tribunals as necessary for disciplinary or any other legal  proceedings.  •  This notice sets out more details in respect of your data protection rights, including your right  to object to certain processing.  What does this notice cover?  This notice describes how the Fédération Internationale de l’Automobile (the “FIA”, “we”, “us”) will  make use of your data where your data is processed in connection with the FIA’s role as the  international federation responsible for the governance and commercial promotion of motorsport,  and as an organisation responsible for authorising and organising certain motorsport competitions.  The FIA also has other privacy notices which may be relevant to you (for example the Main Privacy  Notice [https://www.fia.com/data-privacy-notice] available on its website, its employee privacy  notice, or notices that may be presented in relation to a specific processing activity).  This notice describes your data protection rights, including a right to object to some of the processing  which the FIA carries out. More information about your rights, and how to exercise them, is set out in  the “What rights do I have?” section.  What categories of personal data do we collect?  The FIA collects and processes personal data in a number of ways. It collects the following types of  personal data:  •  Identification data: your name, log-in details where you make use of FIA platforms and portals,  your gender, age and date of birth;  •  Contact details: your personal and work addresses, email addresses and phone numbers as  appropriate;  •  Travel related data: personal data necessary to allow the FIA to arrange your travel in addition  to your identification information, including your passport and visa details, information on  your right to work, dietary requirements and travel preferences and details of any assistance  you may require, including if needed details of your disability;  •  Motorsport participation data: details of your involvement in motorsport or with an individual  or body involved in motorsport, including as appropriate information about your role, your  employer, details of your licences including your licence number, your FIA driver  categorisation, and information collected upon your registration for a licence or during your  attendance at or entry application for an event including your health data where required for  the issue of a licence or other compliance with the FIA’s Sporting Regulations or details of your  close contacts in relation to Covid regulations;  •  Motorsport performance data: details of your performance in FIA authorised Competitions or  other motorsport competitions, including as a Competitor and/or as a Driver;  •  Integrity and conduct data: details of your behaviour and conduct, including any intelligence  or allegations passed to the FIA, and relevant intelligence and evidence collected about such  behaviour and conduct including through testimony, press reports, imagery and footage. This  include information collected about you where you are subject to the FIA’s Anti-Doping or  Anti-Alcohol Regulations, including health information collected as part of an associated test;  •  Safety data: where you are a Driver, the FIA may process biometric data collected for safety Anti-Alcohol Regulations, including health information collected as part of an associated test;  •  Safety data: where you are a Driver, the FIA may process biometric data collected for safety  purposes (including through FIA approved biometric gloves), and other information relating to  your health including information collected through medical forms, your involvement in an  accident taking place during an FIA authorised Competition or Championship, and information  collected through re-integration consultations or through management or scrutiny of medical  and rescue teams at FIA Championships or FIA authorised Competitions;     •  Financial data: your payment and bank details, where you are required to make a payment or  where we are required to make a payment to you, and details of your compensation where  this must be disclosed under the FIA’s Financial Regulations;  •  Imagery and promotional data: details of your biography, photos and footage of your  participation in FIA authorised Competitions or Championships or as otherwise collected in  connection with your participation;  •  Equality, diversity and inclusion data: information required to offer specific FIA grants, such  as Disabled Drivers Grants, such as details of disability and impairment, and information  requested through equal opportunity monitoring surveys, such as information about your  ethnicity, sexual orientation, religion or belief, social background and health conditions.  We collect much of this information from you directly, such as through our various registration, entry  and licence forms and portals. We also collect some of this information from other motorsport  participants with whom you interact, such as your employer, officials, your previous employers, other  Drivers and Competitors and from broadcasters and the media. This is especially true where we carry  out our integrity and disciplinary role.  As part of our integrity activities, we also actively gather intelligence from relevant sources, including  members of the public and publicly available sources. We also collect data from anti-doping  organisations (such as the World Anti-Doping Agency and National Anti-Doping Organisations) and our  appointed anti-doping service provider.  Where you choose to involve a third party, for example, your employer, a representative, lawyer or  relative, we will receive and share data with this person or organisation.  Why we collect, use and store this personal data  We are usually required to have a lawful basis to process your data. We explain each of these legal  bases below. We also set out the purposes for which we process your data. For each purpose, we  explain the lawful basis for that processing, the processing operations that we carry out and the  categories of data that we process.   Legal bases relied on by the FIA for motorsport related processing  Consent – sometimes we ask for your consent to use your data.   Contract – if we have an agreement in place with you, we may process your data where it is necessary  for us to meet our obligations or enforce our rights under the contract.  Legitimate interest – we can process your data when this is necessary for us to achieve a legitimate  business purpose, or where this is necessary for someone else to achieve their legitimate purpose. We  explain below what interests we, or others, are trying to achieve when we process your data. Where  we process personal data on the basis of a legitimate interest, we consider what the impact of the  processing will be on affected individuals and determine whether those individuals’ interests outweigh  our interests in the processing taking place.   Legal obligation – we have obligations to comply with legal and regulatory requirements under various  applicable laws. In certain cases, we have to use your data to meet these obligations.   Vital interests – in exceptional circumstances, we may rely on the need to protect your vital interests  to process certain data, particularly sharing information as needed with medical professionals for  safety purposes.  Where we process your special category data – such as information relating to your health, biometric  data that might identify you, your ethnicity, your religion, your sex life or sexual orientation, your trade  union membership or your political opinions – we usually require a further lawful basis. These are as  follows:  Explicit consent – we may ask you to consent to use this data; union membership or your political opinions – we usually require a further lawful basis. These are as  follows:  Explicit consent – we may ask you to consent to use this data;  Medical diagnosis/preventative and occupation medicine – we will only process data for medical  purposes where required by law, or under the supervision of a health professional who is subject to  an obligation of professional secrecy;     Substantial public interest, as set out in law – the law may make special provision for our processing,  for example in relation to health and safety requirements;  Establishment, exercise or defence of legal claims – we are entitled to process special category data  where this is necessary to establish, exercise or defend our legal rights;  Scientific research, as permitted by law – we will use your special category data for research where  we can demonstrate that we meet legal requirements and have applied appropriate safeguards;  Vital interest – again, in exceptional circumstances, we rely on the need to protect your vital interests  to process your special category data.  For certain types of processing, the FIA may be exempt from the requirement to have a lawful basis.  This is notably the case where the FIA processes personal data to allow academic or artistic expression.  The FIA has explained in this notice where this is relevant to its motorsport related processing.  FIA purposes of processing  The FIA processes your data for the following purposes:  Administering and managing Competitions and Championships, including selecting and authorising  Competitors, manufacturers and suppliers, issuing motorsport licences and categorising Drivers, and  associated health assessment (legitimate interests, healthcare processing, explicit consent)  We collect and use your personal data so that we can carry out the FIA’s role as a Competition and  Championship organiser, and as a governing body providing administrative assistance and  management of Competitions and Championships it authorises but does not directly organise. This  reflects our legitimate interest in administering and managing these Competitions and Championships,  and the legitimate interest of other motorsport participants in ensuring these authorised Competitions  and Championships can take place. This includes the collection of personal data to carry out due  diligence in the selection and authorisation of Competitors, suppliers and manufacturers, to issue  motorsport licences and categorise drivers, to issue media and other access accreditations, to allow  Competitors and Drivers to register for specific Competitions and Championships, to appoint and  manage relevant officials and to provide administrative support to Competitions and Championships  such as issuing additional accreditation, liaising with third parties such as venues, Promoters or  Organisers. This also includes our processing relating to checks of your fitness to attend an event, and  arranging your travel and accommodation where required. It may also involve the taking of certain  payments where required for entry or registration for a particular Competition or Championship or for  obtaining a particular categorisation or accreditation.  Where we collect any special category data, particularly safety data collected in accordance with the  role of the FIA’s medical teams and medical delegates set out in the International Sporting Code, we  rely upon our need to assess your health under the supervision of a healthcare professional where  appropriate safeguards are in place. Where we receive your health data in connection with your fitness  to attend an event, particularly as this relates to rules connected to Covid-19 protocols, we will typically  process this to ensure the health and safety of other participants at these events.  In some cases, if you provide us with special category data to provide administrative or other  assistance, we seek your explicit consent to process this information to the extent required by  applicable data protection laws. Failure to provide this information, or withdrawing your consent, may  result in the revoking of a licence if this would mean you are not eligible for the relevant licence, or result in the revoking of a licence if this would mean you are not eligible for the relevant licence, or  may mean that the FIA is unable to provide appropriate assistance.  We use your identification data, contact details, travel related data, motorsport participation data,  motorsport performance data, financial data and safety data for this purpose.  We share your information with Organisers, our officials, with appropriate authorities involved in the  organisation of a Competition or Championship, with Promoters and with our suppliers for example  our IT service providers who host relevant platforms, our professional advisors, and travel agencies  involved in our administrative role. Where you are a Driver seeking a licence, we share information  relating to your application with your team and representatives and your ASN. We also publish certain  information, such as the names and categories of categorised Drivers and details of individuals who  have had motorsport licences suspended. We also share information with law enforcement authorities     if they have specific questions regarding the administration and management of Competitions and  Championships.  Carry out the FIA’s governance, integrity and disciplinary role (legitimate interests, establishing,  exercising and defending legal claims, substantial public interest, explicit consent)  We process personal data to carry out the FIA’s governance role in motorsport, including the collection  and processing of information to confirm and enforce compliance with the FIA’s Statutes, International  Sporting Code and the FIA’s Sporting, Technical and Financial Regulations, Judicial and Disciplinary  Rules, and any other FIA rules and regulations that may apply from time to time. This includes the  collection of information directly from you, and from third parties with whom you may interact in  motorsport, such as your ASN, your employer or team or your relatives. We also receive information  from a wider variety of third-party sources where this provides relevant information or intelligence,  including the media, members of the public and other motorsport participants.   We will use the data to carry out any necessary disciplinary and other legal processes, including  appropriate investigations into possible breaches of our rules and regulations, to take decisions and  enforce our decisions, and to publish details of the integrity decisions we take, including details of any  bans we may impose. This processing is done to pursue our legitimate interest in maintaining the  integrity of our sport, and the legitimate interest of other competitors to ensure motorsport is fair and  free from improper influence or cheating.   In some cases, where we collect special category data for this purpose, we may rely on an additional  lawful basis to the extent required by or data protection laws. Some of our integrity processing relies  on specific local laws in the substantial public interest, for example to justify the processing of anti- doping data. We are also entitled to process special category data where we are seeking to establish,  exercise and defend legal claims in the enforcement of our rules and regulations, including our Anti- Doping Regulations. However, in some cases we may need to seek your explicit consent. Where we  rely on this consent, you may refuse or withdraw this consent at any time, but this may limit your  ability to participate in motorsport if this undermines our ability to ensure compliance with our  regulations.  The information we use for this purpose is your identification data, your contact details, your  motorsport participation data, your motorsport performance data and your integrity and conduct  data. It will also include your financial data where disclosure is required under the FIA’s Financial  Regulations.  We share your information with other participants in motorsport, including Organisers,  Promoters,  with your representatives and advisors, with your ASN, your employer, with our officials,  with appropriate authorities involved in the organisation of a Competition or Championship, and with  our suppliers for example our IT service providers who host relevant platforms, our professional  advisors including our legal counsel, forensic experts and auditors, and with the world at large if we  choose to publish a decision. We share your information with other sports governing bodies and the  World Anti-Doping Agency as required under the World Anti-Doping Code and our own International  Sporting Code. We may discuss integrity matters with the media where appropriate. We also share  information with law enforcement authorities and other regulatory authorities if they have specific  questions regarding integrity matters Competitions and Championships, or where there is evidence of  unlawful activity. questions regarding integrity matters Competitions and Championships, or where there is evidence of  unlawful activity.  Ensuring the health and safety of all participants (legitimate interests, compliance with laws, vital  interest, healthcare processing or laws in the substantial public interest)  We collect information about you, including information about your health, for the purposes of  ensuring the health and safety of all participants in motorsport, including yourself. This includes  information collected from you in relevant medical forms. This will involve the processing of personal  data to assess your health and safety whilst participating in a Competition, to ensure that you receive  appropriate medical attention in the event of an incident during a Competition, and to ensure we carry  out appropriate scrutiny of medical and rescue service providers and can carry investigations of health  and safety related incidents during Competitions. We process much of this data on the basis of our  legitimate interest of ensuring the health and safety of the participants in motorsport, and the interests  of those participants both current and future. In some instances, we may be required to process data  by law, where local laws require the maintaining of health and safety records or the engagement with     public authorities conducting health and safety investigations. We may also use your personal data for  the protection of your vital interests where, exceptionally, we need to share your data with medical  professionals in the event of an incident.  Where this data involves the processing of special category data, in particular your safety data, we  process this to protect your vital interests, or as necessary to provide medical treatment under the  supervision of a healthcare professional. If we are required to collect or share your data to comply with  health and safety laws, we rely on these laws in the substantial public interest to justify our processing.  The information we use for this purpose is your identification data, your contact details, your  motorsport participation data, your motorsport performance data and your safety data.  We share your information with appropriate medical professionals where this is needed for your  diagnosis, treatment or care, including the local ASN doctor present at the relevant Competition. We  will also share data with appropriate public authorities as required by local laws. We also share data  with our advisors and third-party IT providers to the extent we need to retain information relation to  your incident on our systems.  Promoting motorsport, the FIA and our Competitions, merchandise and services (legitimate interest,  contractual necessity)  We will use information we collect and receive as part of your participation in Competitions,  Championships and any connected media work for the purposes of our legitimate interest in promoting  motorsport, the FIA, and our connected Competitions, Championships, merchandise, services and  assets. If we have a specific agreement with you, giving us certain rights to use your personal data, we  may instead process this on the basis of contractual necessity.   The information we use for this purpose is your identification data, your contact details, your  motorsport participation data, your motorsport performance data, your imagery and promotional data  and, where necessary for performing a contract with you, your financial data.  We share the information widely for the promotional purposes described above. This involves the  sharing of data with specific media partners and broadcasters and commercial partners, but also  involves the publication of your data. We also share data with our advisors and third-party IT providers.  Conducting safety related research (consent)  We collect and process data relating to incidents logged in the World Accident Database, for the  purpose of analysis and compilation of findings. In accordance with the World Accident Database  Guide, we rely on your explicit consent to process any identifiable information in the World Accident  Database. We may, if you do not consent or later withdraw your consent, retain anonymised  information relating to relevant incidents. We are a joint controller with ASNs for the details of the  reports submitted to the World Accident Database. Affected data subjects can find out more about  the split of responsibilities between the FIA and its joint controllers, and steps taken to ensure data  minimisation, by reviewing the WADB Guide.  The information we use for this purpose is your identification data, your motorsport participation data,  your motorsport performance data and your safety data.   We share your information within the World Accident Database with ASNs, our advisors and our  provider who hosts and operates the WADB on behalf of the FIA. We also share your data with  consultants and administrators who engage in FIA safety research projects or who otherwise assist the  FIA with administering the WADB.  Maintaining a record of motorsport (legitimate interests, academic/artistic expression) FIA with administering the WADB.  Maintaining a record of motorsport (legitimate interests, academic/artistic expression)  As the governing body for motorsport, we collect and retain personal data for our legitimate academic  and artistic purposes in creating and curating a history of motorsport. This includes the creation of our  electronic library of FIA archives.   The information we use for this purpose is your identification data, your motorsport performance data,  and your imagery and promotional data. In the event this contains special category data, for example  in placing materials relating to published details of accidents within our electronic library, we process  this to allow academic and artistic expression.     We may share this information widely for the purpose set out above. We may publish the information  on our websites, share it with journalists or historians, or relevant broadcasters and media contacts,  or share it with museums or art galleries. We also share data with our advisors and third-party  suppliers.  Equality, diversity and inclusion, including grants (consent)  As a responsible sports organisation, the FIA is committed to ensuring it supports inclusivity in  motorsport. The FIA may in some circumstances seek personal data relating to diversity, inclusion and  disability for monitoring purposes, based always on your consent. It may also collect equality, diversity  and inclusion data for the purposes of providing inclusion related grants, including distribution of the  Disabled Drivers Grants and similar initiatives operated by the FIA from time to time.  The information we use for this purposes is your equality, diversity and inclusion data. This will always  be collected with your consent. Where it is possible to ensure the anonymisation of your data for these  purposes, the FIA will take such steps.   We will not share your identifiable equality, diversity and inclusion data with third party controllers  without your consent. We may share your information with our third-party suppliers to the extent that  they are assisting us with relevant activities, such as administering a Disabled Driver Grant request. Any  information used for diversity monitoring is likely to be shared with a specialist company that advises  us on diversity, or that assists us with ensuring that responses are appropriately anonymised.    Business interests (legitimate interests, establishment, exercise and defence of legal claims)   We have a legitimate interest in protecting our business interests and legal rights, including, use in  connection with legal claims, compliance, regulatory, auditing, investigative and disciplinary purposes  and ethics and compliance reporting requirements. Where we process your special category data for  these purposes, we will typically rely upon our need to establish, exercise or defend ourselves from  legal claims.  We may process any of the types of data mentioned in this notice for these purposes.  This information will be shared with our advisors and suppliers who provide our IT systems and storage.  We share information with legal and other advisers if there are investigations or potential claims. We  also disclosure information of this nature in connection with legal processes or litigation or to other  relevant regulators, other governing bodies, law enforcement bodies or to teams and other employers  where appropriate.   Compliance with laws (legal obligations)  Where necessary to comply with a legal obligation we will store and use your data. This may include  responding to requests by government regulators, law enforcement authorities or any other  regulatory authority conducting an investigation.  We may process any of the types of data mentioned in this notice for these purposes.  This information will be shared as required to comply with law, including with law enforcement or  public authorities as required.  Withdrawing consent  Wherever we rely on your consent, including explicit consent, you will always be able to withdraw that  consent. This will not undermine the legitimacy of any processing carried out prior to your consent  being withdrawn. If you withdraw consent, this may in some cases impact on your ability to access  certain services or events as explained above.  How is personal data shared, where and when?  Your data may be shared with a variety of third parties as described above. Personal data is also shared  as necessary within the FIA and within the FIA group, including with our sporting, legal, privacy and IT as necessary within the FIA and within the FIA group, including with our sporting, legal, privacy and IT  departments. Your personal data will be shared with the FIA’s third-party service providers, who will  process it on behalf of the FIA for the purposes identified above. This may include the providers of  insurance services, IT and technology services, survey providers and event organisers. We also share  information with our professional advisers.     Personal data may be shared with government authorities and/or law enforcement officials if required  for the purposes above, if mandated by law or if required for the legal protection of our legitimate  interests in compliance with applicable laws.  In the event that FIA’s business is sold or integrated with another business, your details may be  disclosed to our advisers and any prospective purchaser\\'s adviser and will be passed to the new owners  of the business as required for the purposes above.  For a number of purposes set out above, the data sharing described is likely to result in the sharing of  your data with third parties located outside your country; in principle, this may be any country in the  world. Where information is transferred outside the EEA, Switzerland or the UK, and where this is to a  third party in a country that is not to a country considered adequate under Swiss, EU or UK law, data  is usually adequately protected by approved standard contractual clauses, or a vendor\\'s Processor  Binding Corporate Rules. In some limited circumstances our transfers may be exempt from adequacy  obligations, where transfers are for important reasons of public interest, such as sharing of data for  anti-doping purposes. Where we transfer on the basis of an adequacy mechanism, a copy of the  relevant mechanism can be provided for your review on request by contacting us using the details set  out below.  What rights do I have?   You have the right to ask us for a copy of your personal data; to correct, delete or restrict (stop any  active) processing of your personal data; and to obtain the personal data you provide to us for a  contract or with your consent in a structured, machine-readable format.  In addition, you can object to the processing of your personal data in some circumstances (in  particular, where we don’t have to process the data to meet a contractual or other legal requirement,  or where we are using the data for direct marketing).  These rights may be limited, for example if fulfilling your request would reveal personal data about  another person, where it would infringe the rights of a third party (including our rights) or if you ask us  to delete information which we are required by law to keep or have compelling legitimate interests in  keeping. Relevant exemptions are included in European, Swiss and UK data protection laws and under  applicable member state laws. We will inform you of relevant exemptions we rely upon when  responding to any request you make.  To exercise any of these rights, you can contact us – or our Data Protection Officer – using the details  set out below. If you have unresolved concerns, you have the right to complain to an EU data  protection authority where you live, work or where you believe a breach may have occurred. This may  be the CNIL in France. You may also complain to the Federal Data Protection and Information  Commissioner in Switzerland.  We will always inform you where information you provide is mandatory. Information that is provided  in order to comply with the FIA’s various rules and regulations listed above is mandatory. Failure to  provide this information breach our regulations.  Details of the FIA as a controller  The FIA has two primary entities: a French association having its registered office in 8 Place de la  Concorde, Paris, and a Swiss association having its registered office in 2 Chemin de Blandonnet,  Geneva.  Both entities work together as joint controllers in the processing of personal data relating to  motorsport. These entities collaborate on the determination of the purposes and means of processing  described in this notice.  The FIA’s Swiss association takes primary responsibility for supporting data subjects, and in handling  any requests data subjects may have. You can find the relevant contact details below. The FIA’s Swiss association takes primary responsibility for supporting data subjects, and in handling  any requests data subjects may have. You can find the relevant contact details below.  How do I contact you, or your data protection officer?  We hope that we can satisfy queries you may have about the way we process your data. If you have  any concerns about how we process your data, you can get in touch with us and our Data Protection  Officer at dpo@fia.com or by writing to: Commercial Legal, 2 Chemin de Blandonnet, 1215 Geneva 15,  Switzerland.     How long will you retain my data?  FIA will retain and process personal data relating to Participants for as long as necessary for the  purposes identified above, including for the purposes of satisfying any specific legal requirements,  such as accounting or health and safety rules, and, where required for us to assert or defend against  legal claims, until the end of the relevant limitation period or until the claims in question have been  settled.   After this period, we will take steps to delete your personal data or hold it in a form that no longer  identifies, you provided that we have no further lawful basis requiring us to maintain your data.   Where we maintain a record of motorsport, we retain your data indefinitely in order to maintain a  historically accurate record.  Updates to this privacy notice  We reserve the right to update this privacy notice at any time (please check regularly the following  page https://www.fia.com/data-privacy-notice to see if the privacy notice was updated with minor  changes), and we will provide you with a new privacy notice when we make any substantial updates.  We may also notify you in other ways from time to time about the processing of your personal  information.     APPENDIX 3    REGULATIONS OF THE DRIVER CONTRACT RECOGNITION BOARD    (\"Reserved for the exclusive use of Competitors entered in the FIA Formula One World  Championship\")       APPENDIX 4    ENTRY FEES FOR THE 2025 FIA FORMULA ONE WORLD CHAMPIONSHIP    i)  The winner of the 2024 World Championship for Constructors will be required to pay a basic  fee of US$680,2031 plus US$8,1611 for each point gained in the 2024 World Championship for  Constructors.    ii)   Every other Competitor will be required to pay a basic fee of US$680,2031 plus US$6,7991 for  each point that the Competitor gained in the 2024 World Championship for Constructors.  iii)  In both cases the basic fee is due at the time of the application and the remainder by 15  December of the year prior to the year to which this application relates.      1 Indexed by US CPI (3.4%)     APPENDIX 5    PODIUM CEREMONY    At each Event the procedure for the Podium Ceremony is detailed below.    1.  MASTER OF CEREMONIES    A master of ceremonies will be appointed by the FIA to conduct and take responsibility for the  entire podium ceremony.  2.  PODIUM  a)  ROSTRUM AND DAIS    The dimensions of the dais must follow those found in the FIA graphic design manual.    The distance between the edge of the winner\\'s dais and the retaining barrier of the  podium should be a minimum of 120cm to provide a walkway.    The place where each person presenting a trophy should stand must be marked on the  floor of the podium.    Trophies must be laid out on a single table on one side of the podium. The champagne  must be on the dais.  b)  FLAGS    Olympic Games style \"flat flags\" should be used. There must be a minimum space of 50cm  behind the podium structure for the flag men.  c)  FLOOR    The podium and steps should be covered in green or dark blue carpet.  3.  ANTHEMS  a)  The national anthem of the winning driver and winning constructor will be played. The  Nationalities of the constructors and drivers will be notified to the organiser by the FIA  and will accord with Article 9.5.2 of the Code.  b)  A suitable sound system should be installed to ensure that national anthems, (initiated by  the master of ceremonies) are clearly heard with an audio link to the TV broadcast.  c)  When the champagne shower begins, music should be played. This should not start until  the presenters have left the podium.  d)  A commentary of the podium ceremony should be broadcast to the general public from  the platform erected for the TV cameras.  4.  TROPHIES    Only 4 trophies will be presented during the podium ceremony:  a)  Winning driver.  b)  A representative of the winning constructor.  c)  Second driver.  d)  Third driver.       The trophies, which must be in the form of traditional cups, will be provided by the ASN and  must show:   e)  The FIA Formula 1 World Championship official logo.  f)  The official name of the Competition.  g)  The driver\\'s position.    The height of the trophies shall be:  h)  Winner\\'s and constructor\\'s trophies - no less than 50cm and no more than 65cm high.  i)  Second and third drivers\\' trophies - no less than 35cm and no more than 45cm high.    The maximum weight per trophy must not exceed 5kg. Trophies must be of a design that is  capable of being handled and transported without damage.  5.  SCENARIO  a)  Only three persons should be on the podium to present the trophies. In exceptional  circumstances, the master of ceremonies may increase this to four.  b)  No police, bodyguards or persons not authorised by the master of ceremonies are allowed  on the podium.  c)  The master of ceremonies will inform the TV and public address commentator of the  names of the persons presenting the trophies.  d)  The master of ceremonies must be on the side of the podium where the trophies are  located. The persons presenting the trophies will be on the other side. The master of  ceremonies will hand the trophies to those presenting them.  6.  TELEVISION    The ideal position for the TV camera is immediately opposite the podium and at the same height.  Under no circumstances must there be a TV camera man on the podium.  7.  PARC FERMÉ    The parc fermé must be positioned as close as possible to the podium, preferably immediately  below, with direct access.    As soon as all the cars have crossed the Line, a course car must go round the track to collect any  driver who has finished in the first three but is stranded on the circuit.    The drivers must not be delayed in the parc fermé. One person, nominated by the master of  ceremonies and in radio contact with him, will be responsible for moving the drivers from the  parc fermé to the podium without delay. Only persons authorised by the master of ceremonies  may make contact with the drivers before the end of the TV unilateral interviews.  8.  UNILATERAL ROOM    The unilateral room must be adjacent to the podium. The master of ceremonies will see that the  drivers proceed there immediately after the podium ceremony. The room should be suitably  ventilated (or air conditioned if the temperature is above 25°C).  9.  PRESS ROOM    Immediately after the TV interviews, drivers must go to the press room for interviews.     10.  WATER + TOWELS    3 bottles of water must be put in the parc fermé (no identification).    3 bottles of water must be put in the unilateral room (no identification).    3 towels must be available in the unilateral room.    No other drinks are permitted in the parc fermé or unilateral room.  11.  PODIUM PROTOCOL (except for Monaco)    The winning driver\\'s award will be presented by the head of state or the prime minister of the  host country or the FIA President. If such a person is not available, a comparable person within  the host country, or a dignitary of international status should be invited. Should neither of these  be available, the President of the ASN will be invited to present the winner\\'s trophy.    The constructor\\'s award must be presented by the official representative of the naming rights  sponsor of the Competition. In the absence of a naming rights sponsor, the master of  ceremonies will select a suitable person.    The second and third drivers\\' awards must be presented by the President of the ASN, unless  local circumstances require an additional dignitary to be present. In this case, the latter will  present the second award and the ASN president the third. Should the ASN president be  unavailable or presenting the winning driver\\'s trophy, the master of ceremonies will select a  suitable replacement.    An invitation will be issued to each person attending the podium ceremony, with clear  instructions as to the procedure to follow.     APPENDIX 6    SUPPLY OF POWER UNITS FOR THE 2021-2025 CHAMPIONSHIP SEASONS    Preamble: The FIA and the Commercial Rights Holder remain entitled to decide jointly that this  Appendix being withdrawn at any time if the number of Power Unit Manufacturers supplying power  units in a Championship season is less than 3 (three).  a.  Any Power Unit Manufacturer wishing to supply power units to a Competitor must fulfil the  obligations set out in section 1.1 of Appendix 4 of the Technical Regulations.  b.  No power unit may be used in a given Championship season unless the Power Unit Manufacturer  supplying such power unit accepts and adheres to the following conditions.  Each of the Power Unit Manufacturers of an homologated power unit must:  1.  provide the FIA, before 15 May (or such other date as agreed in writing between all the  Power Unit Manufacturers and the FIA) of the season preceding that in which such power  units are to be supplied, with the list of teams (clearly identifying the appointed  “works/factory” team, if any) to which a supply agreement has been concluded for the  given Championship season;  2.  if called upon to do so by the FIA before 1 June (or such other date as agreed in writing  between all the Power Unit Manufacturers and the FIA) of the season preceding that in  which such power units were to be supplied, supply at least a number of teams (“T”) equal  to the following equation:  T = (111-A)/(B-C)  - A = Total number of teams (including “works/factory” teams) having a supply agreement  concluded for the given Championship season with a New Power Unit Manufacturer.  - B = Total number of manufacturers of homologated Power Units for the given  Championship season.  - C = Total number of New Power Unit Manufacturers for the given Championship season.  provided that if the result contains a fraction then the fraction shall count as a full team  (e.g. 11 teams divided by 4 manufacturers = 2.75, each manufacturer must, if called  upon to do so by the FIA, supply at least 3 teams).    1   This figure will be reviewed each year as the “total number of entered teams” will not be known until  November preceding the Championship season. The figure of 11 covers supply of 12 teams or less in compliance with  the calculation rule.  In doing so, the FIA will first allocate the power unit supply between the Power Unit  Manufacturers that are supplying the fewest number of teams, provided that the teams  without a supply agreement shall be allocated to the Power Unit Manufacturer(s) that  supplies(supply) the lowest number of teams and so on. If there is more than one Power  Unit Manufacturer supplying the fewest number of teams (i.e. in the same position)  and/or more than one team requesting a supply the allocation between such Power Unit  Manufacturers shall occur by ballot (which ballot shall be transparent and undertaken by  the FIA in the presence of a representative of each of the Power Unit Manufacturer(s) and  the new Customer Team concerned).     Any such allocation made by the FIA will have to be formalised by a supply agreement  with the concerned team by 1 August at the latest (or such other date as agreed in writing  between all the Power Unit Manufacturers and the FIA).  A New Power Unit Manufacturer will not be required to comply with this obligation of supply as  set out above.  c.  The FIA shall be entitled to request a Power Unit Manufacturer to supply a team (“New  Customer Team”) with a power unit under the terms of this Appendix except if, at the date set  out in Article b) i) above:  -  Such team has entered into a supply agreement with a Power Unit Manufacturer for a  given Championship season before the date set out in Article b) i) above, and  -  Such team has been granted a right, under a currently binding offer with a Power Unit  Manufacturer, to be supplied with a power unit for such given Championship season.  Moreover, such Power Unit Manufacturer shall only be required to supply a New Customer  Team if the following cumulative conditions are met. If such conditions are not met, then the  Power Unit Manufacturer may, at its sole and exclusive discretion, decline the request to supply  such New Customer Team and the decline of such request shall not be deemed to be a breach  of the terms set out in this Appendix (however Article c) cannot be applied or interpreted by the  Power Unit Manufacturer in a way which would deprive the obligation of supply as referred to  in Article b) above of any effect and/or that would prevent the FIA from making and enforcing  the provisions set out in Article b) above. The Power Unit Manufacturer undertakes to exercise  in good faith the conditions referred to in paragraph 1 to 11 below). The teams and the Power  Unit Manufacturers remain free to negotiate the terms of the supply agreement, subject to the  fall-back positions set out below which shall apply should a team and a Power Unit Manufacturer  fail to reach an agreement, despite negotiating in good faith.  1.  For the purpose of this paragraph, supply contract only refers to the contract related to  the FIA Supply Perimeter as per the Sporting and Technical Regulations and as set out in  the relevant column of the first table in Appendix 3 of the Technical Regulations.  1.1. Any supply contract entered into with the New Customer Team must be on  substantially the same terms as those entered into between the Power Unit  Manufacturer and the other customer teams (other than its appointed  “works/factory” team) to whom it already supplies a power unit at the date of the  FIA request (“Existing Customer Team”), other than the Price as referred to in  paragraph 8 below. In particular, the Power Unit Manufacturer may impose and the  team cannot refuse to sign up to any terms which at least one of its other Existing  Customer Teams has agreed to and the Power Unit Manufacturer may refuse and  the team cannot request the inclusion of terms which are not included in the supply  agreements with other Existing Customer Teams.  1.2. In the event that a Power Unit Manufacturer has not supplied a power unit to any  other Existing Customer Team, the Power Unit Manufacturer shall have the right to  decide, at its sole and exclusive discretion, the payment terms and conditions  (including the price of additional goods and services not included in the supply  perimeter designated ‘EXC’ in the relevant column of the first table in Appendix 3  of the Technical Regulations, but excluding the Price which shall be determined in     compliance with the definition of Price below) applicable to the New Customer  Team subject to the provisions of paragraph 8 below.  1.3. In case of a dispute about the application or the interpretation of paragraph 1  hereto, the FIA will be entitled to request copies of the contracts being entered into  by the Power Unit Manufacturer with any customer team, provided that such  contracts are not disclosed to any new Customer Team and subject to the FIA  agreeing to comply with strict customary confidentiality obligations.  2.  The Power Unit Manufacturer shall determine, at its sole and exclusive discretion, the  duration of the term of the power unit supply which:  2.1. may not be lower than one Championship season; and  2.2. shall not exceed three Championship seasons nor go beyond the end of the 2025  Championship season, unless jointly agreed by the Power Unit Manufacturer and  the New Customer Team  3.  The Power Unit Manufacturer shall determine, at its sole and exclusive discretion,  whether the New Customer Team shall use the name of the Power Unit Manufacturer or  the New Customer Team shall operate under a white label/unbranded way and, for this  purpose, use a different name:  3.1. The use of this different name shall always be agreed in advance by the Power Unit  Manufacturer, which agreement shall not be unreasonably withheld; and  3.2. In the event that the white label/unbranded supply is required without being  requested by the New Customer Team, this supply will not incur additional fees for  the New Customer Team except if the use of the power unit name leads to the  conclusion of a commercial agreement between the New Customer Team and any  third party. In that case, the Power Unit Manufacturer and the New Customer Team  shall enter into good faith negotiations and shall commonly agree on the fair and  reasonable part of the revenues generated by the commercial agreement which  could be considered as additional fees;  3.3. In the event that the white label/unbranded supply is requested by the New  Customer Team and agreed by the Power Unit Manufacturer, this supply may incur  additional fees for the New Customer Team, such fees being determined at the sole  and exclusive discretion of the Power Unit Manufacturer in a fair and reasonable  manner.  4.  The New Customer Team shall provide a warranty that it has no binding contracts or  option(s) in place with another power unit manufacturer for future supply of power units.  The New Customer Team shall be required to terminate any such contracts or option(s)  which do exist in so far as they conflict with any part of the period of the contract being  entered into with the Power Unit Manufacturer.  5.  The New Customer Team shall not (unless the Power Unit Manufacturer agrees) be an  Automotive Manufacturer or any of its affiliated companies which has been set up with  the purpose amongst other things of participating in the Championship.     6.  The New Customer Team shall not (unless the Power Unit Manufacturer agrees) have any  sponsorship agreement in place with any entity, which is in competition with the Core  Activities of an Automotive Manufacturer which are carried out by the Power Unit  Manufacturer.  7.  The New Customer Team and/or any senior executives, directors or beneficial  shareholders of the New Customer Team should not at any time (i) be listed or included  in the official EU and/or US published sanction lists; (ii) have been convicted of any  indictable criminal offence; (iii) have been convicted by any government or government  agency in connection with fraud, money laundering, racketeering or terrorism activities;  and/or (iv) have been declared bankrupt; and/or (v) have committed other identified  action which, in the reasonable opinion of the Power Unit Manufacturer, harms the  reputation of such Power Unit Manufacturer. This clause shall also reciprocally apply to  the Power Unit Manufacturer.  8.  The Power Unit Supply Perimeter listed in the relevant column of the first table in  Appendix 3 of the Technical Regulations and designated ‘INC’ shall be supplied to New  Customer Teams at the Price.  The supply of additional goods or services not listed in Appendix 3 of the Technical  Regulations (which shall be agreed between the Power Unit Manufacturer and the New  Customer Team) shall incur additional charges, the amount of which shall be substantially  the same as that applied by the Power Unit Manufacturer to its Existing Customer Team.  In the event that a Power Unit Manufacturer has not supplied a power unit to any other  Existing Customer Team, the Power Unit Manufacturer shall decide the price of the above- mentioned additional goods and services based on the usages and practices generally  recognised and respected in the market for the supply of parts and services in the  Championship.  9.  The FIA shall confirm in writing to the Power Unit Manufacturer that, to the best of its  knowledge, the New Customer Team, including its officers, directors and beneficial  shareholders, has not been convicted of non-complying at all times with the FIA Code of  Good Standing.  10.  Payment of the fees (directly or indirectly through a payment guarantee) under the supply  contract for each season shall as a fall-back position (unless otherwise agreed between  the Power Unit Manufacturer and the New Customer Team) and, notwithstanding the  terms of any contract with an Existing Customer Team or its own factory team, be made  in four instalments:  - 25% on the date of signature of the supply contract;  - 25% on or before 30 October of the calendar year prior to the year of supply;  - 30% before the start of the Championship season; and  - The remaining 20% before the fifth Formula One Competition of the Championship.  10.1. In case of any delayed payment for an amount greater than €100,000, the Power  Unit Manufacturer shall send the New Customer Team a written notice of the  breach, with a copy to the FIA and the Commercial Rights Holder. Should the New  Customer Team fail to resolve this breach to the satisfaction of the Power Unit     Manufacturer (with or without the involvement of the FIA and the Commercial  Rights Holder) within thirty days from the issuing of this notice the Power Unit  Manufacturer shall be entitled to either terminate the supply contract immediately  by serving written notice on the New Customer Team, with a copy to the FIA and  the Commercial Rights Holder, or, suspend delivery of the power units to the New  Customer Team.  10.2. In case of breach of the obligation to deliver the power units and/or to supply  additional goods or services to the New Customer Team pursuant to the supply  agreement, such New Customer Team may send the Power Unit Manufacturer a  written notice of the breach (but only in the event that the New Customer Team is  not itself in breach of contract including for non-payment except if that non- payment is justified by an alleged breach of the supply contract by the Power Unit  Manufacturer), with a copy to the FIA and the Commercial Rights Holder. Should  the Power Unit Manufacturer fail to resolve this breach to the satisfaction of the  New Customer Team (with or without the involvement of the FIA and the  Commercial Rights Holder) within thirty days from the issuing of this notice the New  Customer Team shall be entitled to suspend payment of the fees to the Power Unit  Manufacturer.  11.  The New Customer Team and the Power Unit Manufacturer shall not, and will procure its  affiliates and/or their respective senior executives, employees, directors and  shareholders shall not take any action and/or make any omission, deceptive, misleading  or disparaging or negative comments, which directly injures, damages or brings into  disrepute the public reputation, goodwill or favourable name or image of the other party  to the supply agreement.  d.  Notwithstanding the provisions of Article 8.3 of the Sporting Regulations, unless agreed  otherwise by the FIA, each of the manufacturers of an homologated power unit may not directly  or indirectly supply power units for more than (T+1) teams, with T as defined in Article b). Such  consent shall not be given if one or more of the other Power Unit Manufacturers are supplying  less that T teams.  e.  Ceasing the supply of the power units.  Any manufacturer of a homologated power unit wishing to cease the supply of power units must  notify the FIA of its intention to do so no later than 1 January of the year preceding that in which  such power units will no longer be supplied.  f.  In case of any alleged material breach or alleged material failure to comply with any of the  obligations of the present Appendix, the FIA shall engage good faith and active discussions with  the Power Unit Manufacturer and, in the absence of amicable solution within one month, be  entitled to engage proceedings before the FIA International Tribunal against the Power Unit  Manufacturer. In the case that, in accordance of the provisions of the Code and of the Judicial  and Disciplinary Rules, the International Tribunal rules that the Power Unit Manufacturer has  materially breached or materially failed to comply with Articles b) and/or d), the International  Tribunal may impose on the Power Unit Manufacturer concerned, to the exclusion of any other  sanction it may have the power to impose, a fine (the amount of which shall be no more than  fifteen million euros and shall be determined, on a case by case basis, depending on the merits  and circumstances of the applicable case).     DEFINITIONS  New Power Unit Manufacturer: During its first two Championship seasons (or part thereof), whether  consecutive or not, within the 2014-2025 period, a power unit manufacturer will be considered as a  New Power Unit Manufacturer within the meaning of this Appendix.  Automotive Manufacturer: Manufacturer of at least one model of automobile (as defined in the Code)  produced at least 3’000 units during the past 12 months.  Core Activities of an Automotive Manufacturer: Design, production and sale of automobiles (as  defined in the Code) by an Automotive Manufacturer.    Price:  Fifteen million euros (unless agreed otherwise between the Power Unit Manufacturer and the New  Customer Team).  Notwithstanding the above, the Price shall not be applicable to any customer team who is at any time  in breach of its payment obligations to the Power Unit Manufacturer under any supply agreement.  The Price will be reviewed by the Power Unit Manufacturers and the FIA in good faith and amended  accordingly should the F1 governing bodies decide any change to the Power Unit Technical and  Sporting Regulations1 that would materially affect the financial conditions concerning the supply of  power units (except if the change is supported by at least 75% of the Power Unit Manufacturers which,  at the date of the consultation, are supplying power units in the corresponding Championship season  and have not officially announced their intention to stop supplying power units to teams in any  subsequent Championship season).  The “Power Unit Technical and Sporting Regulations” (based on the 2022 Technical and Sporting Regulations) comprise:  -  Technical Regulations: Articles 2.7, 2.8, 5, 16 and Appendices 3 to 4.  -  Sporting Regulations: Articles 25 and 28, Appendices 6 and 8     APPENDIX 7    AERODYNAMIC TESTING RESTRICTIONS (ATR)    The ATR, and the definitions and rules which will apply to aerodynamic testing, are as follows:  1  General conditions  a.  Restricted Aerodynamic testing is the testing by a Competitor or any Associate of a  Competitor and/or by any contracted party of a Competitor or of any Associate of a  Competitor or any external entity working on behalf of a Competitor or for its own  purposes and subsequently providing the results of its work to a Competitor in a test  environment or numerical simulation of a representation of an F1 car or sub-component  in order to measure, observe or infer any forces, displacements, pressures or air flow  direction resulting directly or indirectly from the incident air flow.  b.  A three-dimensional representation of an F1 car or sub-component subject to Restricted  Aerodynamic testing, defined either physically or digitally, will be considered for the  purposes of this Article as a Restricted Aerodynamic Test Geometry (RATG) and save for  where specifically permitted by this Article may not be added to, removed from, morphed  or modified. In order to prevent Restricted Aerodynamic testing methodologies intended  to subvert any limits on the number or nature of RATGs permitted under the ATR the  following will apply:  i.  The purpose of a RATG is to allow aerodynamic assessment of a single new  geometry, with aerodynamic dependency maintained throughout the simulated  flow field. Any attempt to derive aerodynamically independent results for  subcomponents of a RATG, either in the initial simulation or test, or by subsequent  modification to the simulation or test conditions, is not permitted. Any attempt to  use boundary conditions or similar to infer the effect of combining RATGs, without  accruing a further RATG, is also not permitted. The use of boundary conditions  cannot be exploited to simulate the effect on the fluid of a geometry which is  different from the RATG in use.  ii.  If the representation contains external bodywork surfaces on both sides of the  centre plane of the car these must be symmetrical about this plane with the  exception of the wheel bodywork defined by Article 3.13 of the Technical  Regulations. Minimal exceptions for parts directly associated with the cooling of  the power unit, or changes of car attitude allowed under sections 3d (roll and steer)  and 4 will be permitted.  iii.  Excluding permitted degrees of freedom for RWTT and changes in RCFDs, the  substitution or replacement of any part of a RATG with a non-F1 car geometry, or  the placement of any physical or computational boundary condition or solver  setting, that simulates or attempts to simulate a modification to this RATG will be  considered as a new RATG.   iv.  Sections (or sub-models) of a RATG which is used for RCFDs may be created by  removing geometry from the parent RATG and placing boundary conditions of  velocity or pressure profiles generated entirely from the same RATG to replicate     the flow field resulting from the geometry that has been removed. This will not be  considered as a new RATG provided any geometry within the section is identical to  the parent RATG. Exceptionally where downstream portions of the RATG are  removed these may be replaced with a single geometry approved for this purpose  by the FIA.  v.  Sections (or sub-models) of a RATG used for RCFDs and created by removing  geometry from a parent RATG may not be subsequently geometrically modified  without being considered as a new RATG. Any boundary conditions of velocity or  pressure profiles added in the process of creating the section (or sub-model) and  used to replicate the flow field resulting from the geometry that has been removed  may not be changed to boundary condition or profiles other than those generated  from the parent RATG without being considered a new RATG.  vi.  If the representation contains surfaces that represent components of more than  one F1 car then it shall be construed as the equivalent number of RATGs. Excluding  permitted degrees of freedom for RWTT and changes in RCFDs, any subsequent  modification of the relative position of the representations of F1 cars will be  considered as new RATGs equivalent to the number of F1 car representations.  vii.  A baseline RATG is defined as a reference chosen from time to time that serves for  comparison purposes.   c.  An Aerodynamic Testing Period (ATP) is a period of consecutive calendar weeks for the  purposes of evaluation of the limits within this Article. As soon as one ATP ends a new one  begins, with no gaps between them.  There will be 6 ATPs in any year. The dates of these periods will be as follows:  i.  Period 1 will start on 1 January and finish at the end of week 9.  ii.  Periods 2, 3 and 5 will run for exactly 8 weeks each.  iii.  Period 4 will run for 10 weeks, comprising the Summer Factory Shutdown described  in Article 24.1.  iv.  Period 6 will end on the 31 December.  For the above definition, weeks are assumed to start on a Monday and week 1 is the first  week of four days or more in the calendar year.  In exceptional circumstances the FIA may revise these ATP at its absolute discretion in  accordance with changes or events likely to affect these restrictions.  d.  In the context of this Article the words bodywork and sprung suspension will have the  same definition as those provided by Article 3 and Article 10 of the Technical Regulations.  Any data acquired during Restricted Aerodynamic testing may only be available to the  Competitor that acquired it through use of the restricted aerodynamic testing available  to it in accordance with the limits in this Article.     2  Restricted Wind Tunnel Testing (RWTT)  RWTT may only be carried out in wind tunnels which have been nominated by the Competitor  to the FIA. Each Competitor may nominate only one wind tunnel for use in any one twelve month  period and declare it in writing to the FIA. For a new entrant, the nomination must be made no  later than 7 days after the date on which it officially becomes a Competitor. No re-nominations  may be made for at least 12 months. Nominations should include the facility location, unique  identification of the wind tunnel and the scale of model and RATG to be used. The FIA will  consider, at its absolute discretion, earlier or temporary nominations if a wind tunnel already  nominated by a Competitor suffers a long term failure or for the purpose of evaluating  alternative wind tunnels. If a different facility is to be used or if the existing facility is changed or  upgraded, other than for routine maintenance or replacement, then a new declaration must be  submitted to the FIA within one month of the change or at the time of submission of a testing  period report whichever is earlier.    For the avoidance of doubt, any RWTT carried out on behalf of or for the benefit of the  Competitor by an Associate, a contracted party of the Competitor or of any Associate of the  Competitor or any external entity working on behalf of the Competitor or for its own purposes  and subsequently providing the results of its work to a Competitor must take place in the wind  tunnel nominated by the Competitor.  a.  The limits for RWTT will be the number of runs of RWTT, the amount of wind tunnel  occupancy time and wind tunnel wind-on time.  i.  During RWTT a single run will be deemed to commence each time the wind tunnel  air speed rises above 5m/s and will end the first time thereafter it falls below 5m/s.   ii.  During RWTT, once the wind tunnel air speed rises above 5m/s the RATG must  remain fixed and unmodified until the wind tunnel air speed returns below 1m/s.   iii.  Between runs of RWTT detail changes to the RATG and model are permitted.  b.  Wind on time is defined as the amount of time in hours summed over the ATP, where the  wind tunnel air speed exceeds 15m/s for RWTT.   c.  During RWTT, the first shift of occupancy will be deemed to commence the first time the  wind tunnel air speed is above 5m/s on a given calendar day, and will end at a time,  declared by the Competitor, when the wind tunnel air speed falls below 5m/s on the same  calendar day. A second shift of occupancy will be deemed to commence the first time the  wind tunnel air speed is above 5m/s following the end of the first shift of occupancy (on  the same calendar day) and will end, either when the wind tunnel air speed falls below  5m/s for the last time on the same calendar day or, at the end of the calendar day in the  event a run is still in progress. Only two shifts of occupancy may be carried out in any one  calendar day.  d.   In the event of a demonstrated wind tunnel failure or other Force Majeure the FIA will  consider, at its absolute discretion, permitting additional occupancy to be used to  compensate for that which is lost as a result.  e.  For the avoidance of doubt any RWTT performed for the Competitor by any Associate of  the Competitor and/or by any contracted party of the Competitor or of any Associate of  the Competitor or any external entity working on behalf of the Competitor or for its own     purposes and subsequently providing the results of its work to the Competitor during an  ATP will be subject to these same limits as if the tests were performed by the Competitor.  3  RWTT Permitted technology  The following restrictions apply during RWTT:  a.  Only wind tunnels that use air at atmospheric pressure as the test fluid are permitted.  Other than rotations of the RATG and model or ground plane about the yaw axis, designs  which attempt to create curved flow conditions relative to the RATG are not permitted.  For closed section wind tunnels adaption of vertical walls and the ceiling to improve air  flow uniformity is permitted. Particle image velocimetry systems where the wind tunnel  air transports a flow visualisation medium are permitted.  b.  No RWTT may be carried out using a scale model and RATG which is greater than 60% of  full size neither may it be carried out at a wind tunnel air speed exceeding 50m/s  measured relative to the scale model and RATG. Furthermore, during restricted wind  tunnel testing the magnitude of the rate of change of the wind tunnel air speed measured  relative to the scale model and RATG must be less than 4.5m/s². The rate of change of the  wind tunnel air speed will be defined as the derivative of wind tunnel air speed and  smoothed using a moving average filter, centred on each sample, of period 0.5 seconds  during each wind tunnel air speed ramp up and ramp down phase. These phases are  defined as the periods when the wind tunnel air speed is varying between 15m/s and 95%  of the maximum wind tunnel air speed during a run.  c.  Only one model and RATG may be used per run. A maximum of two models may be used  and a single model change made per Competitor per 24 hour period. For the avoidance  of doubt, a model in this context is defined by its underlying spine, motors and sensors.  In order to prevent testing which aims to develop for the 2026 season, from 1/12/2023  until 1/1/2025 inclusive, RWTT may only be carried out using a scale model that  substantially complies with the 2023, 2024 or 2025 F1 Technical Regulations. With the  exception of dyno testing aimed to develop brake system components with minimal air  ducting and provided such tests do not concurrently test (or in any way provide incidental  data or knowledge on) the performance or endurance of parts or systems classified as  bodywork, no wind tunnel testing may be carried out using car geometry partially or  wholly compliant with and/or substantially derived from drafts and/or published versions  of the 2026 F1 Technical Regulations or FIA proposed 2026 bodywork geometries and  concepts.  d.  The only permitted degrees of freedom of the model and RATG during a run of RWTT are:   i.  Wheel rotation about the wheel axis  ii.  Changes of ride height and roll angle relative to the ground plane and associated  articulation of the elements representing the RATG suspension  iii.  Changes of load applied to wheels through the elements representing the RATG  suspension  iv.  Steering of the front wheels  v.  Changes of yaw angle relative to the incident air flow and/or ground plane     vi.  Simulation of differing exhaust flow  vii.  Adjustment of the flap angle of the front wing for a RATG which is substantially  compliant with the 2025 Technical Regulations, or the flap angles of the adjustable  regions of the Front Wing Profiles (as defined by C3.10.10 of the 2026 Technical  Regulations) for a RATG which is substantially compliant with the 2026 Technical  Regulations.  viii.  Adjustment of the incidence of the rearmost and uppermost element of the top  rear wing for a RATG which is substantially compliant with the 2025 Technical  Regulations, or the incidence of the RW Flap (as defined by C3.11.6 of the 2026  Technical Regulations) for a RATG which is substantially compliant with the 2026  Technical Regulations.  ix.  Adjustment or operation of sensors  x.  Application of flow visualisation liquids  e.  Changes of attitude of the model and RATG may not occur at a rate that requires changes  of ride height at the front or rear axle centreline greater than the scale equivalent of 0.033  m/s on the full size F1 car and/or rotation about the yaw or roll axes at a rate greater than  1.0 deg./s.  f.  Where non-rigid wind tunnel tyres are used for RWTT these may only be produced by the  appointed tyre supplier. Furthermore, devices that actively modify the shape of the tyre  during RWTT other than as a result of vertical and lateral loads reacted at the contact  patch are not permitted. Tyre pressure control is permitted but the complete wheel must  contain only a single fixed internal gas volume. Systems which apply lubricant directly or  indirectly to the wind tunnel tyres in order to reduce friction at the contact patches are  permitted.  4  Restricted CFD (RCFD) simulations  RCFDs are Computational Fluid Dynamics (CFD) simulations by a Competitor or any Associate of  a Competitor and/or by any contracted party of a Competitor or of any Associate of a Competitor  or any external entity working on behalf of a Competitor or for its own purposes and  subsequently providing the results of its work to a Competitor of flows that are gaseous in the  case of a F1 car and are not classified as power unit simulations. Any simulation of flows  contained within the power unit cooling or lubrication systems, air, air/fuel mixtures,  combustion process or products of combustion from a boundary commencing at the power  unit’s atmospheric air intake ducts, passing through the power unit and finishing at the exit of  the exhaust tailpipe will be classified as a power unit simulation.  For the avoidance of doubt, if any CFD simulation (other than the power unit simulation defined  above) reveals information to a Competitor or to an Associate of the Competitor whether  directly, via a contracted party or via an external entity working on behalf of a Competitor or for  its own purposes and subsequently providing the results of its work to a Competitor, about flows  that are gaseous on a F1 car then it is a RCFD simulation. For example, any CFD simulations  conducted at scales other than 1:1 or using non-gaseous fluids are still RCFDs as they reveal  information about flows that are gaseous on the full size F1 car.     a.  A RCFDs refers to the pre-processing, the solver part or parts of the simulation process,  and the post processing of the results of the simulation.  i.  Pre-processing refers to the meshing, decomposition and setup of the simulation.  ii.  Solver refers to the program or programs that compute the solution of the  equations describing the flow including any extension of the simulation or  simulations involving additional numerical computation (for example but not  limited, to adjoint computation).  iii.  Post processing refers to the generation of representations of the flow solution that  require numerical processing, for example but not limited to the computation of  pressure coefficients, velocity, shear stress, flow streamlines or vorticity.  Generation of videos or images displaying this information and any form or  application of machine learning, deep learning or artificial intelligence (AI) based  on simulation results is included in this definition.  During or prior to RCFDs the only permitted changes to the RATG are its attitude (ride  height, roll, yaw, steer and associated tyre shape or contact patch) and front wing flap  angle or rear wing rearmost and uppermost element incidence for a RATG which is  substantially compliant with the 2025 Technical Regulations, or the flap angles of the  adjustable regions of the Front Wing Profiles (as defined by C3.10.10 of the 2026 Technical  Regulations) and incidence of the RW Flap (as defined by C3.11.6 of the 2026 Technical  Regulations) for a RATG which is substantially compliant with the 2026 Technical  Regulations. Furthermore, if a change in attitude causes an intersection between the Floor  Bodywork and/or plank assembly and simulated ground plane, a local trim will be  permitted to the Floor Bodywork and/or plank assembly only.  Any trim must be the  minimum required to remove the intersection, must be visible from below and must lie  between XF=400 and XR=0. For avoidance of doubt, should any other changes be made  to the RATG during any stage or pause in process ii. above (such as a morphing, or the  addition or substitution of any boundary condition with the intent to replicate an  alternative geometry) a new RATG must be counted each time a change occurs.  Changes to parts classified as LTC, TRC or OSC and contained entirely within the drum  volume defined by article 3.13.2 and the scoop defined by article 3.13.3 of the Technical  Regulations and outboard of YW=0 and only for the purpose of developing cooling are  permitted.   Modifications to surface and volume mesh resolution and type provided they have the  purpose of resolving and solving exactly the same geometry to a tolerance of 0.5mm  scaled to a 1:1 car, as well as the extent of the far field domain, changing the simulation  between a wind tunnel or track environment, initialisation, boundary conditions, solver  settings and methodology are allowed. None of these modifications may be exploited to  circumvent the requirements of the ATR by otherwise creating the effect of a change to  the RATG. For the purposes of the ATR “far field” will be considered to be greater than  1m from any part of the F1 car or sub-component scaled to a 1:1 car.  A RATG may be used in RCFDs with geometry on only one side of the car centre plane,  using a symmetric boundary condition on that plane, or with geometry on both sides of     the car centre plane, subject to the geometric symmetry requirements of section 1.b.ii.  Changing between these two representations will not be considered a new RATG.  The addition of non-gaseous computational regions (including but not limited to coupled  structural solver elements and conjugate heat transfer solid models) are not considered  changes to the RATG provided that no geometric changes to the RATG itself take place  during or prior to RCFDs.   The solver part or parts of all RCFDs must only be carried out using a compute resource  that contains a set of homogeneous processing units and that has been nominated by the  Competitor to the FIA. Each Competitor must declare to the FIA in writing the compute  resources that are employed for the purpose of the solver part or parts of RCFD  simulations. Floating, fixed point and integer operations from the solver part or parts of  RCFD simulations must only run on and may not be offloaded from these CPU cores. From  1st January 2028 onwards, regulation will be introduced that will allow the use of GPU  cores.  b.  The declaration of a compute resource by the Competitor to the FIA must include:  i.  The computer or cluster identification, manufacturer, model and location and the  manufacturer, name and full unique model number of the Processing Units.  ii.  Number of processing unit cores in the compute resource.  iii.  Processor speed at which each Processing Unit is configured to run at 100% CPU  load (CCF). In order to prevent deliberate underclocking this value may not be lower  than the standard or base clock frequency given by the Manufacturer’s  specification.  Any specification of compute resource declared must be available on a non-exclusive basis  to all Competitors.  c.  If the compute resource is changed or upgraded then a new declaration must be  submitted to the FIA within one month of the change or at the time of submission of a  testing period report whichever is earlier. Such changes might include, but are not limited  to, a change of the hardware specification, addition or removal of processing units or  change of location of any part of the compute resource.  d.  The amount of compute resource used for the solve part or parts of all RCFDs shall be  measured in Mega Allocation Unit hours (MAUh) and will be calculated as follows.  AUh = (NCU * NSS * CCF) / 3600  Where:  AUh = The total number of Unit hours allocated to a CFD solver run. An Allocation  Unit hour represents the use of a unit of resource allocation for one hour (and 1 x  MAUh = 1,000,000 x AUh). An Allocation Unit hour is equivalent to a core hour on  a physical CPU core.  CCF = Peak Processing Unit clock frequency in GigaHertz achieved during the CFD  solver run. This will be the peak frequency theoretically achievable during the  run based on one of the following:     i) The standard or base clock frequency value from the Processing Unit  Manufacturer’s specification (if overclocking or enhanced modes are not used  in the run).  ii) The maximum “turbo”, “HPC” or other enhanced mode frequency value.  iii) The maximum overclocked frequency value.  NCU = Number of Processing Unit cores used for the solver run. The effects of multi- threading, where simultaneous threads run on the same physical core will be  ignored.  NSS = Number of solver wall clock seconds elapsed during the run. Message passing  time during calculation must also be included.  All information required for auditing of this calculation must be present in the output from  the run including the CCF value.  e.  Non-RCFDs can be made by a Competitor provided that:   i.  They have been requested by the FIA and use a previously-simulated RATG, and  that these simulations are run as specified by the FIA and the results made available  to the FIA; or  ii.  They use a unique RATG which has been simulated in CFD more than 30 months  ago and are for the purpose of optimising CFD methodology; or  iii.  They use an FIA approved CAD geometry provided to all Competitors on an  equitable and transparent basis and are for the purpose of optimising CFD  methodology; or   iv.  Subject to v. and for the sole purpose of contributing toward the development of  future regulations only, they use an FIA approved geometry provided for this  purpose or as a basis for modification a unique RATG which has been simulated in  CFD less than 30 months ago.   v.  Non-RCFDs for future regulations are conditional on the full list and details of all  such Non-RCFDs (including but not limited to geometries, attitudes, flow  conditions) being approved by the FIA in advance of any work being carried out and  full reports of the results being made available to all Competitors, via the FIA, with  no team-specific Intellectual Property shared.  vi.  They are carried out using only the nominated compute resources described above.  vii.  The unique RATG or FIA approved geometry is not changed, added to, removed  from, morphed or modified. Exceptions to this are permitted for the replacement  of elements of the RATG or FIA approved geometry, with boundary conditions for  the purposes of developing CFD sub-modelling methodology provided it does not  attempt to simulate a modification to this RATG or FIA approved geometry, or  where geometry changes are explicitly permitted and pre-approved by the FIA for  the development of future regulations.   For the avoidance of doubt, any Non-RCFDs carried out on behalf of or for the benefit of  the Competitor by an Associate, a contracted party of the Competitor or of any Associate  of the Competitor or any external entity working on behalf of the Competitor or for its    |They use an FIA approved CAD geometry|Col2|Col3| |---|---|---| |equitable and transparent basis and are|equitable and transparent basis and are|equitable and transparent basis and are| |methodology|; or||   |Subject to v.|and for the sole purpose of contributing toward the development of|Col3| |---|---|---| |future regulations only, they use an FIA approved geometry provided for this|future regulations only, they use an FIA approved geometry provided for this|future regulations only, they use an FIA approved geometry provided for this| |purpose or as a basis for modification a unique RATG which has been simulated in|purpose or as a basis for modification a unique RATG which has been simulated in|purpose or as a basis for modification a unique RATG which has been simulated in| |CFD less than 30 months ago.|CFD less than 30 months ago.|| |CFD less than 30 months ago.|Col2| |---|---| |Non-RCFDs for future regulations are conditional on the full list and details of all|Non-RCFDs for future regulations are conditional on the full list and details of all| |such Non-RCFDs (including but not limited to geometries, attitudes, flow|such Non-RCFDs (including but not limited to geometries, attitudes, flow| |conditions) being approved by the FIA in advance of any work being carried out and|conditions) being approved by the FIA in advance of any work being carried out and| |full reports of the results being made available to all Competitors, via the FIA, with|full reports of the results being made available to all Competitors, via the FIA, with| |no team-specific Intellectual Property shared.||     own purposes and subsequently providing the results of its work to a Competitor must  also meet all the requirements set out in 4.e above.  In order to prevent CFD simulations which aim to develop for the 2026 season, from  1/12/2023 until 1/1/2025 inclusive, RCFDs may only be carried out using geometries that  substantially comply with the 2021-2025 F1 Technical Regulations. Except for the sole  purpose of the development of brake system components and associated test rigs but  excluding any development of parts or systems classified as bodywork, no RCFD  simulations may be carried out using car geometry partially or wholly compliant with  and/or substantially derived from drafts and/or published versions of the 2026 F1  Technical Regulations or FIA proposed 2026 bodywork geometries and concepts.  f.  In the case of Non-RCFDs using a unique RATG which has been simulated in CFD more  than 30 months ago or Non-RCFDs using an FIA approved geometry, geometry  manipulations (e.g. in CAD clean-up or meshing software) having the sole purpose of  reproducing exactly the same geometry previously solved in CFD or represented in the  FIA approved CAD model or list (to a tolerance of 1.5mm scaled to a 1:1 car) are allowed.  This tolerance is introduced only to allow for unintentional and incidental changes in  geometry detail caused by the revisions in software and process. For the avoidance of  doubt, static changes to car attitude (ride height, roll, yaw, steer and associated tyre  shape or contact patch) and front wing flap angle or rear wing rearmost and uppermost  element incidence (for a RATG which is substantially compliant with the 2025 Technical  Regulations) are permitted, as are changes to the flap angles of the adjustable regions of  the Front Wing Profiles (as defined by C3.10.10 of the 2026 Technical Regulations) and  incidence of the RW Flap (as defined by C3.11.6 of the 2026 Technical Regulations) for a  RATG which is substantially compliant with the 2026 Technical Regulations. Furthermore,  when using an FIA approved geometry the FIA may approve additional incidence changes  to bodywork (“active aerodynamics”) which will be clearly identified within the FIA  approved CAD files and associated documentation.  g.  Modifications to surface and volume mesh resolution and type as well as the extent of  the far field domain including changing the simulation between a wind tunnel or track  environment, are allowed.  h.  The limits for RCFDs will be revised periodically, to take account of advances in CFD  simulations.  5  Exceptions to the Aerodynamic Testing Restrictions (ATR)  a.  Any aerodynamic test conducted by an F1 car at any Competition or any aerodynamic test  conducted by an F1 car during and at track testing as defined by Article 10 of the Sporting  Regulations will not be considered as Restricted Aerodynamic testing.  b.  Wind tunnel testing solely for the development of power unit heat exchangers that reject  heat to air, or the running of the power unit from a boundary commencing at the power  unit air intake ducts, passing through the power unit and finishing at the exit of the  exhaust tailpipe will not be considered as Restricted Aerodynamic testing, provided that  there is no direct or indirect measurement of aerodynamic force during the test. In this  context, pressure and flow measurements within a duct shall not be considered to be  measurements of aerodynamic force. |RATG which is substantially compliant with the 2026 Technical Regulations.|Col2|Furthermore,| |---|---|---| |when using an FIA approved geometry the FIA may approve additional incidence changes|when using an FIA approved geometry the FIA may approve additional incidence changes|when using an FIA approved geometry the FIA may approve additional incidence changes| |to bodywork (“active aerodynamics”) which will be clearly identified within the FIA|to bodywork (“active aerodynamics”) which will be clearly identified within the FIA|to bodywork (“active aerodynamics”) which will be clearly identified within the FIA| |approved CAD files and associated documentation.|||     c.  Steady state and dynamic engine dynamometer work with an F1 car or subcomponent  will not be considered as Restricted Aerodynamic testing provided that:   i.  The bodywork used in the test has no front wing assembly as described in Article  3.9 of the Technical Regulations) or rear wing assembly (described in Article 3.10 of  the Technical Regulations) present.  ii.  No devices designed to measure directly, or indirectly aerodynamic forces or flow  field characteristics are installed in the facility used.  iii.  No sensor installed on the car or subcomponent which are capable of measuring  displacements, pressures or air flow direction of the external airstream resulting  directly or indirectly from the incident air flow may be logged. Logging files have to  be available, if required, during the independent audit inspection.  iv.  The gas flow exiting from the exhaust system is ducted away from the testing area  before impacting on any bodywork component (other than the exhaust itself).  d.  Wind tunnel testing solely for the development of brake systems (Article 11 of the  Technical Regulations), wheels and tyres (Article 10 of the Technical Regulations), and for  development and calibration of pressure sensing instrumentation (such as pitot tubes,  multi-directional probes and Kiel tubes), provided such tests do not concurrently test, or  in any way provide incidental data or knowledge on, the performance or endurance of  parts or systems classified as bodywork will not be considered as Restricted Aerodynamic  testing. Parts classified as wheel bodywork may be fitted for Wind tunnel testing solely  for the development of brake systems, wheels and tyres.  e.  Wind tunnel testing that uses a RATG for the sole purpose of the conditioning of wind  tunnel infrastructure or the development of wind tunnel infrastructure (including all of its  sub-systems such as rolling road, model motion system, force balance, wind tunnel model  spine, sensors etc.) and methodology may be performed and will not count towards the  accumulation of runs, wind-on time, and occupancy subject to the testing complying with  either of the following restrictions:  i.  The front wing group and the rear wing group of the RATG must be removed from  the wind tunnel for the duration of the testing. Alternatively, either one of or both  the wing groups may be retained on the model, but each that remains must be  fitted with a bluff cover that has been approved for this purpose by the FIA. The  front and rear wing groups will be considered to be bodywork described by Articles  3.9 and 3.10 of the 2025 Technical Regulations respectively for a RATG which is  substantially compliant with the 2025 Technical Regulations, or the bodywork  described by Articles C3.10 and C3.11 of the 2026 Technical Regulations  respectively for a RATG which is substantially compliant with the 2026 Technical  Regulations.  ii.  A RATG is used which is more than 12 months old, or represents an FIA approved  CAD geometry provided for this purpose and that no modification is made to this  previously tested RATG or FIA approved geometry.  During audit Competitors may be requested to demonstrate compliance of any such testing  through the production of supporting data.     For the avoidance of doubt, any wind tunnel testing to develop bodywork parts other than as  referred to above even without aerodynamic force measurement is within the definition of  Restricted Aerodynamic testing.  6  Limits, Reporting, Inspection and Audit  a.  The limits for RWTT and RCFDs are as set out in the tables below where:  i.  P is the Competitor’s final position in the Constructors’ Championship of the  previous year for the first 3 Aerodynamic Testing Periods, or the position in the  current Constructors’ Championship at the end of the last day of the third  Aerodynamic Testing Period, for the last 3 Aerodynamic Testing Periods.  ii.  C is the coefficient (expressed in percentage form) by which the various parameters  need to be multiplied in order to obtain the individual RWTT and RCFD limits for  each Competitor. For RWTT Runs and RATGs the result of the multiplication will be  rounded up to the nearest integer.   Wind tunnel limits for C=100%:  CFD limits for C=100%:  RWTT Runs  #  320    3D new RATGs used for solve  or solve part of all RCFDs  #  2000  RWTT Wind On Time  hours  80    Compute used for solve part  or parts of all RCFDs  MAUh  6  RWTT Occupancy  hours  400            Coefficient C as a function of Championship position, P in 2022-2025:  Championship  Classification  P  1  2  3  4  5  6  7  8  9  10+ or  New  Team  Value of C   %  70  75  80  85  90  95  100  105  110  115    b.  In the event that a change in ATR limits is applicable to a Competitor after the start of an  ATP, the change will be applied pro-rata according to the time remaining in the ATP during  which the change occurs. At its absolute discretion and following a request from the  Competitor the FIA may permit over or under use of available Restricted Aerodynamic  testing in the ATP during which the change occurred to be amortised or absorbed over  the subsequent ATP.  c.  In the event that the Championship order established at the end of the last day of the 3rd  Aerodynamic Testing Period is subsequently changed following revisions to the results of  a Competition or Competitions and therefore the limits applicable to certain Competitors  change, the FIA will require Competitors to adjust Restricted Aerodynamic testing in order  to comply with the revised limits from the start of the next ATP. At its absolute discretion  the FIA may require or permit over or under use of available Restricted Aerodynamic  testing in the ATP during which the change occurred to be amortised or absorbed before  the end of the year.     |Wind tunnel limits for|C=100%:|Col3| |---|---|---| |**RWTT Runs**|**# **|320| |**RWTT Wind On Time**|**hours**|80| |**RWTT Occupancy**<br>|**hours**|400|   |CFD limits for C=100%:|Col2|Col3| |---|---|---| |~~**3D new RATGs used for solve**~~<br>**or solve part of all RCFDs**<br>|**# **|2000| |~~**Compute used for solve part**~~<br>**or parts of all RCFDs**|**MAUh**|6|   |Championship<br>Classification|P|1|2|3|4|5|6|7|8|9|10+ or<br>New<br>Team| |---|---|---|---|---|---|---|---|---|---|---|---| |~~**Value of C**~~<br>|~~**% **~~|~~70~~|~~75~~|~~80~~|~~85~~|~~90~~|~~95~~|~~100~~|~~105~~|~~110~~|~~115~~|     d.  Each Competitor shall report to the FIA details of its RWTT and RCFDs for the preceding  ATP within 14 days of the end of that ATP. The data must be provided in the exact format  specified by the FIA, details of which may be found in the Appendix to the Technical and  Sporting Regulations.  e.  Digital wind tunnel image files in colour and with sufficient unobstructed field of view of  the wind tunnel working section to include the entire model must be recorded, referenced  to other data collected and a copy saved including a unique time stamp to at least one  second accuracy for the start of each individual run.  Should the FIA wish to access the images for inspection at any time they must be of adequate  quality such that it is possible to use them to verify, for example, whether the front wing group  (as described in Article 3.9 of the Technical Regulations) and rear wing group (as described in  Article 3.10 of the Technical Regulations) are fitted. In the case of other runs deemed to be non- RWTT in the context of this Article, for example using a RATG greater than 12 months old, or  using the approved wing covers, the images must also provide a clear visual reference to assist  in verifying this aspect of the test.    f.  In order to permit RCFDs to continue across the end of an ATP an RATG that is used for  solve or solve parts of RCFDs in an ATP may be used in any subsequent ATP subject to the  requirements of Sections 1 and 4 above, without being counted again.  g.  The complete surface mesh subject to the solver part or parts of each RCFD and any non- RCFD that includes a representation of an F1 car must be recorded and stored for a period  of at least 24 months or until an earlier deletion is agreed by the FIA. It must be referenced  to all data relating to the RCFDs or non-RCFDs including but not limited to solution  monitoring data and any boundary condition of velocity and pressure profiles applied to  the far field or domain boundaries and clearly and uniquely identifiable. It must be  possible from these data to verify any changes made to the RATG and identify each  individual flow solution generated using it. It must be possible to trace RCFDs used to  generate velocity or pressure profiles applied as boundary conditions in subsequent  sections or sub-models of the RATG that have not been counted as new RATGs.  h.  A description correct at the start of the simulation or test of each RATG that is subject to  RWTT or that is counted against the maximum permitted new RATGs for RCFDs in any ATP  must be recorded with a clear description such that it is possible to easily identify the  nature of the changes under evaluation. These descriptions will form part of the report  required by Section 6. d) above.  i.  In order to verify the Restricted Aerodynamic testing facilities employed by the  Competitors and as a means of assuring common application of the restrictions set out in  this Article, the FIA will arrange for independent benchmarking inspections of both wind  tunnel and CFD activities to be carried out from time to time. Recommendations arising  from these inspections will be incorporated into this Article.  j.  Failure to comply with the limits of the ATR by a Competitor will result in a reduction of  the limits that will apply to subsequent ATP or ATPs for that Competitor at the FIA’s  absolute discretion but by a minimum reduction equivalent to 10 multiples of the amount  by which the relevant limit or limits were exceeded without prejudice to further  appropriate action. (For example, if a Competitor carries out 325 restricted wind tunnel     runs against a maximum of 320 in an ATP, that Competitor shall only be permitted to  make 270 restricted wind tunnel runs during the next ATP).  7  Movement of personnel  No Competitor may use movement of personnel involved in the development, design or testing  of aerodynamic surfaces (whether employee, consultant, contractor, secondee or any other  type of permanent or temporary personnel) with another Competitor, either directly or via an  external entity, for the purpose of circumventing the requirements of this Article. In order that  the FIA may be satisfied that any such movement of staff is compliant with this Article, each  Competitor must inform the FIA of all relevant staff movements at the end of each ATP using  the template which may be found in the Appendix to the Technical and Sporting Regulations and  must demonstrate that they have implemented all reasonable measures to avoid the disclosure  of information, data or designs between the Competitors involved.     APPENDIX 8    POWER UNIT TEST BENCH RESTRICTIONS    1   Engine dyno test limitations  a)   Definitions:  - Engine Test Bench: An Engine Test Bench is either a Power Unit Test Bench, a Power Train Test  Bench or a Full Car Dyno.   - Power Unit Test Bench: A test bench facility cell where a fired engine with more than 1 cylinder  representative of a Formula One engine may be tested. In addition to test bench components,  it may include and is limited to the following power unit and car components:  o Items listed in Technical Regulations Appendix 3 column 1 (art 5.1.2 Defin) listed as ‘INC’.  o The clutch, flywheel, and clutch actuation system.  o Fuel, engine oil and PU related liquids other than fuel and engine oil.  o Heat exchangers and their associated accessories. (including but not limited to housings,  tubes, pipes, hoses, supports, brackets and fasteners).  o The PU intake upstream of compressor inlet up to and including the air filter.  o The FIA Standard ECU.  o The regulatory fuel flow meter (FFM).  o Up to twelve M12 studs used to connect the ICE to the survival cell or gearbox case.  o Additional items required for this test bench at the sole discretion of the FIA.  - Power Train Test Bench: A test bench facility cell where a fired engine and transmission can be  tested together. In addition to test bench components, it may include and is limited to the  following power unit and car components in addition to those included in a Power Unit Test  Bench:  o Items listed in Technical Regulations Appendix 3 column 1 (art 5.1.2 Defin) listed as ‘EXC’.  o A gearbox.  o Driveshafts and any components associated with their operation (such as joints, grease and  housings).  o Heat exchangers for gearbox oil and accessories associated with their operation.  o The complete car fuel system.  o A survival cell or close representation of a survival cell.  o Bodywork and air ducts or close representations of bodywork and air ducts associated with  the air intake and exit of heat exchangers and compressor inlet, provided that it is for the  sole purpose of representing air flow into or out of heat exchangers or the PU thermal  environment.  o Minimal suspension and steering systems required to solely and exclusively mount the  survival cell and/or powertrain to the test bench facility.  o Braking systems that are inoperable.  o Additional items required for this test bench at the sole discretion of the FIA.     - Full Car Dyno: A test bench facility where a fired engine can be tested, where either:   o any car components that are not listed as included in a Power Train Test Bench are fitted or,  o more than two power take-offs / drives are utilised, or any power take-offs / drives are  utilised on the front axles.  - Sole Purpose of Testing Power Units for Performance and Reliability: The testing of Power Units  where car components or fluids supplied by each Competitor remain of the same fixed  specification as the specification last used in the previous calendar year or may be changed in  specification by each Competitor no more than once per calendar year with the express  permission of the FIA and for the sole purpose of the evaluation of their effects on Power Unit  performance and reliability. For a new supply arrangement with a Competitor a single  specification of car components or fluids must be used for the entire calendar year.  Car components fitted to a Power Train Test Bench will no longer be classed as being provided  for the sole purpose of testing power units for performance and reliability for the sum of all  Power Train Test Bench operation for any type of test beyond the limit stated in Appendix 8 Item  1d) Limitations, irrespective of which Competitor’s car components are fitted.  Car components in this definition are all components not listed in Technical Regulations  Appendix 3 column 1 (art 5.1.2 Defin) ‘INC’.  Car systems control configurations must remain unchanged other than for the sole purpose of  ensuring the reliable operation of the test bench installation and with the express permission of  the FIA.  - Test Bench Occupancy Hours: Time interval between first work in the bench and last work in the  bench in any 24 hours calendar day. Work can be organized in shifts but only two shifts of  occupancy may be carried out in any one calendar day. The first shift of occupancy will be  deemed to commence the first time the engine speed is above1000rpm on a given calendar day,  or at the start of the calendar day if the engine speed is already above 1000rpm, and will end at  a time, declared by the competitor, when the engine speed falls below 1000rpm on the same  calendar day. A second shift of occupancy will be deemed to commence the first time the engine  speed is above 1000rpm following the end of the first shift of occupancy (on the same calendar  day) and will end, either when the engine speed falls below 1000rpm for the last time on the  same calendar day or, at the end of the calendar day in the event a run is still in progress.  - Test Bench Operation Hours: Time with engine speed > 7500 RPM.  - Restricted Power Unit Testing: Restricted Power Unit Testing is any testing by a PU manufacturer,  or any Related Party of that PU manufacturer, or any agent or sub-contractor of the PU  manufacturer or any of its Related Parties, in a test environment of a complete or incomplete  F1 PU, but always including the engine, in order to measure the torque produced by this  assembly or any parameters related to the function of this assembly.   - Annual shutdown: Period when no occupancy hours nor operations hours may be incremented.  b)   Facility Limitations:  - Allowed Power Unit Test Benches are:  Power Unit stationary in space, installed with horizontal crankshaft.  No more than one power take-off / drive.     No chassis force actuators.  Test cell pressure +/-10mBar of ambient. Methods to mimic reduced ambient pressure at the  engine air inlet and exhaust exits are permitted.  - Allowed Power Train Test Benches are:  Power Unit stationary in space, installed with horizontal crankshaft.  No more than two power take-offs / drives.  No chassis force actuators.  Test cell pressure +/-10mBar of ambient. Methods to mimic reduced ambient pressure at the  engine air inlet and exhaust exits are permitted.  - Allowed Full Car Dynos are:  Power Unit stationary in space, installed with horizontal crankshaft.  No chassis force actuators.  Test cell pressure +/-10mBar of ambient. Methods to mimic reduced ambient pressure at the  engine air inlet and exhaust exits are permitted.  c)   Implementation:  - Yearly limit divided into 10 weeks periods.  - The time limit for a 10 weeks period may be exceeded twice by up to 20% without being in  breach if the time recorded for the complete year remains within the yearly limit.  - One single limit for all bench types (One number of test benches limit, One Occupancy hour  limit, one Operation hour limit).  - Time monitoring based on declaration based on approved software measurement (Certified  software application time counter, developed by the engine test bed automation supplier).  - Number of Engine test benches:  o Before the 1st of December of the preceding year: Declaration from the PU supplier of the  identities (Name, description, location) of Power Unit Test Benches, Power Train Test  Benches and Full Car Dynos to be used in a calendar year. This includes any bench whatever  their location, ownership or duration of use during the calendar year.  o Should a Manufacturer suffer a demonstrated long-term failure of a bench or other Force  Majeure the FIA will consider at its absolute discretion changes of declaration or temporary  declaration.  o No later than 2 weeks after the end of each 10 week period:  \\uf0a7 Designation by the PU supplier of the benches that were used for the period  \\uf0a7 No limitation of the number of changes of bench type (between PUTB, PTTB and FCD) per  calendar year but all benches must be among the ones declared at the start of the year  (unless subject to the exception for 1st July 2022 updated declaration).  o In order to check on the hardware employed by the PU manufacturers and as a mean of  assuring common application of the restrictions set out, the FIA will arrange for independent  benchmarking inspections of dynos activities to be carried out from time to time.  o Any of the Engine test benches declared above may also be used for testing any element of  a power unit constructed in order to comply with the 2026 Technical Regulations once     officially ratified or, in the absence of such regulations, with the agreed technical provisions  of the 2026 Championship, as determined by the FIA.  - Test Bench occupancy and definition:  o Sum of each individual bench occupancy hours:  Total Occupancy hours: OCH  OCH = \\u0dcd𝑁𝑁𝑁𝑁𝑁𝑁𝑁𝑁𝑁𝑁 𝑛𝑛=𝑁𝑁 𝑛𝑛=1   With:  • N = Number of test benches  • NOCHn = Number of occupancy hours during the period for bench number n  o Declaration 14 days after each 10 weeks period from PU manufacturers signed by top  management.   o PU manufacturers must keep records of bench tests until 1 month after the end of the  calendar year  o Photographic and component identification records must be retained for each period of  occupancy that enable the FIA to confirm the Engine Test Bench definition and the purpose  of testing.  - Test Bench Operation Hours:   o Sum of each individual bench operation hours.   Total Operation hours: OPH  OPH = \\u0dcd𝑁𝑁𝑁𝑁𝑁𝑁𝑁𝑁𝑁𝑁 𝑛𝑛=𝑁𝑁 𝑛𝑛=1   With:  • N = Number of test benches  • NOPHn = Number of operation hours during the period for bench number n  o Declaration 14 days after each 10 weeks period from PU manufacturers signed by top  management  o PU manufacturers must keep records of bench tests until 1 month after the end of the  calendar year  d)   Limitations:  Base:  Year  2022  2023  2024  2025  Max test benches per year  9  9  9  9  Max Occupancy hours per year  6000  4000  2880  1680  Max Occupancy hours per period  1200  800  2880  1680  Max Overall Operation hours per year  750  500  360  210  Max Overall Operation hours per period  150  100  360  210  Max Operation hours per year on a Power  Train Test Bench where car components can  be classed as being provided for the sole  purpose of PU performance and reliability  150  100  100  100     |Base:|Col2|Col3|Col4|Col5| |---|---|---|---|---| |~~Year~~<br>|~~2022~~<br>|~~2023~~<br>|~~2024~~<br>|~~2025~~<br>| |~~Max test benches per year~~<br>|~~9 ~~<br>|~~9 ~~<br>|~~9 ~~<br>|~~9 ~~<br>| |~~Max Occupancy hours per year~~<br>|~~6000~~<br>|~~4000~~<br>|~~2880~~<br>|~~1680~~<br>| |~~Max Occupancy hours per period~~<br>|~~1200~~<br>|~~800~~<br>|~~2880~~<br>|~~1680~~<br>| |~~Max Overall Operation hours per year~~<br>|~~750~~<br>|~~500~~<br>|~~360~~<br>|~~210~~<br>| |~~Max Overall Operation hours per period~~<br>|~~150~~|~~100~~|~~360~~|~~210~~| |~~Max Operation hours per year on a Power~~<br>Train Test Bench where car components can<br>be classed as being provided for the sole<br>purpose of PU performance and reliability|150|100|100|100|       This base dyno testing limitations includes the provision for any testing for a team for a calendar  year (Including but not limited to gearbox, car systems, fuel and engine oil testing).   Should a PU supplier provide PU’s for use during the 2022-25 Championships to other customer  Competitors who design any of their own car components as listed below or who have their own  fuel or oil supplier, a quota of 30 additional operation hours will be allocated per calendar year  and per additional customer Competitor. This quota to be used only during a maximum of six  separate periods of up to three weeks each for the testing of Current generation PU for any  combination of the components subject to agreement with the PU supplier and the FIA:  o Gearbox and/or gearbox case  o Exhaust system up to the turbine inlet and/or beyond turbine exit and WG exit  o Heat exchangers, their associated accessories and coolant header tanks  o Clutch and clutch actuation system between the PU and the gearbox  o Fuel system operating at less than 10 barG and its associated accessories  o Hydraulic system and hydraulic heat exchangers, other than servo valve(s) and actuator(s)  for PU control  These additional operation hours will not be included in the sum of the operational hours stated  in Appendix 8 Item 1a) ‘Sole Purpose of Testing Power Units for Performance and Reliability’ and  will be specifically and exclusively for the following:  o Approving the items listed   o and / or for the sole purpose of the evaluation of the effects of the car components defined  on a Power Train Test Bench on Power Unit performance and reliability.  Should an additional customer team requests to its PU supplier and the FIA to be able to run  with a fuel and/or an engine oil different to the one(s) that is(are) already homologated for use  with their engine; and should the PU supplier considers that this fuel and/or engine oil is(are)  ready to be used in race Competitions, the PU supplier may request approval of this(ese) fuel  and/or engine oil. Once this(ese) fuel and/or engine oil are approved, an extra allocation of 30  operation hours for the testing of Current generation PU may be given by the FIA specifically  and exclusively for endurance validation of this(ese) fuel and/or engine oil. This extra allocation  can only happen a maximum of 2 times per championship season in 2022 and 1 time per  championship season from 2023 onwards.  In all cases, these additional hours must be jointly declared to FIA by the PU supplier and the  customer team.  Additional occupancy hours to support the additional operation hours above will be granted at  a ratio of 8:1  e)   Exceptions:  ICE motoring, i.e., any activity done on a PUTB with no ignition and not showing any positive  torque for the whole recorded activity, will not be counted towards the Operation or Occupancy  hours of these PUTBs.  Testing activities using any element of a power unit constructed in order to comply with the  2026 Technical Regulations once officially ratified or, in the absence of such regulations, with  the agreed technical provisions of the 2026 Championship, as determined by the FIA are not     counted either for occupancy or operation. Any such testing activity must not be contrived to  provide benefit for any other power unit development.  2   ERS dyno limitations  a)   Definitions:  - ERS Test Bench: An ERS test bench is either an ES test bench, a Power Electronics test bench  and/or an MGU test bench.   - ES Test Bench : Test bench facility cell where a complete ES representative of a Formula One ES  may be tested. This excludes test bench falling into the Engine test bench definition.  - MGU Test Bench: Test bench facility cell where an MGU (MGU-H or MGU-K) representative of a  Formula One part can be tested. This excludes test bench falling into the Engine test bench  definition.  - Power Electronics Test Bench: Test bench facility cell where an ERS Control Unit, representative  of a Formula One part can be tested. This excludes test bench falling into the Engine test bench  definition.  - Test Bench Occupancy Hours: Time interval between first work in the bench and last work in the  bench in any 24 hours calendar day. Work can be organized in shifts but only two shifts of  occupancy may be carried out in any one calendar day. The first shift of occupancy will be  deemed to commence the first time the current in or out of the tested system is above 10 Amp  or when MGU speed is above 1000 rpm on a given calendar day, or at the start of the calendar  day if these criteria are already met, and will end at a time, declared by the competitor, when  these criteria are no more met on the same calendar day. A second shift of occupancy will be  deemed to commence the first time the current in or out of the tested system is above 10 Amp  or when MGU speed is above 1000 rpm following the end of the first shift of occupancy (on the  same calendar day) and will end, either when these criteria are no more met for the last time  on the same calendar day or, at the end of the calendar day in the event a run is still in progress  - Test Bench Operation Hours: Time with current in or out of the tested system above 10 Amps or  time with MGU speed above 1000 rpm.  - Restricted ERS Testing: Restricted ERS Testing is any testing by a PU manufacturer, or any Related  Party of that PU manufacturer, or any agent or sub-contractor of the PU manufacturer or any of  its Related Parties, in a test environment of a complete or incomplete F1 ERS system, but always  including at least 3 out of 5 of the main ERS components (ES, CU-H, CU-K, MGU-K, MGU-H) in  order to measure any parameters related to the function of this assembly. Testing falling into  the scope of the Engine dyno limitation are outside this restriction. Any sign off test or end of  line test are included.  - Annual shutdown: Period when no occupancy hours nor operations hours may be incremented.  b)   Facility Limitations:  - Allowed ES Test Benches are:  Any bench where an ES can be installed and run.  This includes the benches where other PU elements can be tested as, for example, the engine.   ES stationary in space.     - Allowed MGU Test Benches are:  Any bench where an MGU can be installed and run.  This includes the benches where other PU elements can be tested as, for example, the engine.   MGU stationary in space, installed with horizontal shaft.  MGU-K and MGU-H can be tested simultaneously but no more than one MGU of the same type  (ie: MGU-K or MGU-H) can be tested at the same time.  It is permissible to use MGU-K and MGU-H hardware that is at least two years old within the test  bench solely as a dynamometers, and these may be controlled using CU’s that are also at least  two years old. These devices must be declared to the FIA  No chassis force actuators.  - Allowed Power Electronics Test Benches are:  Any bench where an ERS Control Unit it can be installed and run.  This includes the benches where other PU elements can be tested as, for example, the engine.   CU stationary in space  c)   Implementation:  - Yearly limit divided into 10 weeks periods.  - The time limit for a 10 weeks period may be exceeded twice by up to 20% without being in  breach if the time recorded for the complete year remains within the yearly limit.  - One single limit for all bench types (One number of test benches limit, One Occupancy hour  limit, one Operation hour limit).  - Time monitoring based on declaration based on approved software measurement (Certified  software application time counter, developed by the ERS test bed automation supplier.)  - Number of ERS Test Bench:   o Before the 1st of December of the preceding year: Declaration from the PU supplier of the  identities (Name, description, location) of ERS test benches to be used in a calendar year.  This includes any bench whatever their location, ownership or duration of use during the  calendar year.  o Should a Manufacturer suffer a demonstrated long-term failure of a bench or other Force  Majeure the FIA will consider at its absolute discretion changes of nomination or temporary  nomination.  o No later than 2 weeks after the end of each 10 week period:  \\uf0a7 Designation by the PU supplier of the benches that were used for the period  \\uf0a7 For Restricted Current generation ERS testing no limitation of the number of changes of  bench type per calendar year but all benches must be among the ones declared at the  start of the year.  o In order to check on the hardware employed by the PU manufacturers and as a mean of  assuring common application of the restrictions set out, the FIA will arrange for independent  benchmarking inspections of dynos activities to be carried out from time to time.  o Any of the ERS test benches declared above may also be used for testing any element of an  ERS constructed in order to comply with the 2026 Technical Regulations once officially     ratified or, in the absence of such regulations, with the agreed technical provisions of the  2026 Championship, as determined by the FIA.  - Test bench occupancy:  o Sum of each individual bench occupancy hours:  Total Occupancy hours: OCH  OCH = \\u0dcd𝑁𝑁𝑁𝑁𝑁𝑁𝑁𝑁𝑁𝑁 𝑛𝑛=𝑁𝑁 𝑛𝑛=1   With:  • N = Number of test benches  • NOCHn= Number of occupancy hours during the period for bench number n  o Declaration 14 days after each 10 weeks period from PU manufacturers signed by top  management.   o PU manufacturers must keep records of bench tests until 1 month after the end of the  calendar year  - Test Bench Operation Hours:   o Sum of each individual bench operation hours.   Total Operation hours: OPH  OPH = \\u0dcd𝑁𝑁𝑁𝑁𝑁𝑁𝑁𝑁𝑁𝑁 𝑛𝑛=𝑁𝑁 𝑛𝑛=1   With:  • N = Number of test benches  • NOPHn= Number of operation hours during the period for bench number n  o Declaration 14 days after each 10 weeks period from PU manufacturers signed by top  management  o PU manufacturers must keep records of bench tests until 1 month after the end of the  calendar year  d)   Limitations:  Year  2022  2023  2024  2025  Max test benches  4  4  4  4  Max Occupancy hours per year  1600  1200  880  480  Max Occupancy hours per period  320  240  880  480  Max Operation hours per year  400  300  210  110  Max Operation hours per period  80  60  210  110    e)   Exceptions:  Testing activities using any element of an ERS constructed in order to comply with the 2026  Technical Regulations once officially ratified or, in the absence of such regulations, with the  agreed technical provisions of the 2026 Championship, as determined by the FIA are not counted  either for occupancy or operation. Any such testing activity must not be contrived to provide  benefit for any other ERS development.        |Limitations:|Col2|Col3|Col4|Col5| |---|---|---|---|---| |~~Year~~<br>|~~2022~~<br>|~~2023~~<br>|~~2024~~<br>|~~2025~~<br>| |~~Max test benches~~<br>|~~4 ~~<br>|~~4 ~~<br>|~~4 ~~<br>|~~4 ~~<br>| |~~Max Occupancy hours per year~~<br>|~~1600~~<br>|~~1200~~<br>|~~880~~<br>|~~480~~<br>| |~~Max Occupancy hours per period~~<br>|~~320~~<br>|~~240~~<br>|~~880~~<br>|~~480~~<br>| |~~Max Operation hours per year~~<br>|~~400~~<br>|~~300~~<br>|~~210~~<br>|~~110~~<br>| |~~Max Operation hours per period~~|~~80~~|~~60~~|~~210~~|~~110~~|     APPENDIX 9    APPROVED CHANGES FOR SUBSEQUENT YEARS    Convention:  Dark red text: All changes previously agreed for subsequent years  Dark red highlighted (yellow) text: new changes for subsequent years, approved by the WMSC    1  Changes for 2026'"
      ]
     },
     "execution_count": 18,
     "metadata": {},
     "output_type": "execute_result"
    }
   ],
   "source": [
    "df['chunk'][64]"
   ]
  },
  {
   "cell_type": "code",
   "execution_count": 37,
   "id": "38d4ca29",
   "metadata": {},
   "outputs": [
    {
     "data": {
      "text/html": [
       "<div>\n",
       "<style scoped>\n",
       "    .dataframe tbody tr th:only-of-type {\n",
       "        vertical-align: middle;\n",
       "    }\n",
       "\n",
       "    .dataframe tbody tr th {\n",
       "        vertical-align: top;\n",
       "    }\n",
       "\n",
       "    .dataframe thead th {\n",
       "        text-align: right;\n",
       "    }\n",
       "</style>\n",
       "<table border=\"1\" class=\"dataframe\">\n",
       "  <thead>\n",
       "    <tr style=\"text-align: right;\">\n",
       "      <th></th>\n",
       "      <th>title</th>\n",
       "      <th>chunk</th>\n",
       "      <th>len</th>\n",
       "    </tr>\n",
       "  </thead>\n",
       "  <tbody>\n",
       "    <tr>\n",
       "      <th>6</th>\n",
       "      <td>APPENDIX 7</td>\n",
       "      <td>AERODYNAMIC TESTING RESTRICTIONS (ATR)    The ...</td>\n",
       "      <td>6753</td>\n",
       "    </tr>\n",
       "    <tr>\n",
       "      <th>1</th>\n",
       "      <td>APPENDIX 2</td>\n",
       "      <td>FEDERATION INTERNATIONALE DE L’AUTOMOBILE  202...</td>\n",
       "      <td>6041</td>\n",
       "    </tr>\n",
       "    <tr>\n",
       "      <th>7</th>\n",
       "      <td>APPENDIX 8    POWER UNIT TEST BENCH RESTRICTIONS</td>\n",
       "      <td>1   Engine dyno test limitations  a)   Definit...</td>\n",
       "      <td>3671</td>\n",
       "    </tr>\n",
       "    <tr>\n",
       "      <th>5</th>\n",
       "      <td>APPENDIX 6</td>\n",
       "      <td>SUPPLY OF POWER UNITS FOR THE 2021-2025 CHAMPI...</td>\n",
       "      <td>2960</td>\n",
       "    </tr>\n",
       "    <tr>\n",
       "      <th>4</th>\n",
       "      <td>APPENDIX 5    PODIUM CEREMONY</td>\n",
       "      <td>At each Event the procedure for the Podium Cer...</td>\n",
       "      <td>972</td>\n",
       "    </tr>\n",
       "    <tr>\n",
       "      <th>0</th>\n",
       "      <td>APPENDIX 1</td>\n",
       "      <td>INFORMATION REQUIRED BY THE FIA 90 DAYS BEFORE...</td>\n",
       "      <td>243</td>\n",
       "    </tr>\n",
       "    <tr>\n",
       "      <th>3</th>\n",
       "      <td>APPENDIX 4</td>\n",
       "      <td>ENTRY FEES FOR THE 2025 FIA FORMULA ONE WORLD ...</td>\n",
       "      <td>112</td>\n",
       "    </tr>\n",
       "    <tr>\n",
       "      <th>8</th>\n",
       "      <td>APPENDIX 9    APPROVED CHANGES FOR SUBSEQUENT ...</td>\n",
       "      <td>Convention:  Dark red text: All changes previo...</td>\n",
       "      <td>29</td>\n",
       "    </tr>\n",
       "    <tr>\n",
       "      <th>2</th>\n",
       "      <td>APPENDIX 3    REGULATIONS OF THE DRIVER CONTRA...</td>\n",
       "      <td>(\"Reserved for the exclusive use of Competitor...</td>\n",
       "      <td>15</td>\n",
       "    </tr>\n",
       "  </tbody>\n",
       "</table>\n",
       "</div>"
      ],
      "text/plain": [
       "                                               title  \\\n",
       "6                                         APPENDIX 7   \n",
       "1                                         APPENDIX 2   \n",
       "7   APPENDIX 8    POWER UNIT TEST BENCH RESTRICTIONS   \n",
       "5                                         APPENDIX 6   \n",
       "4                      APPENDIX 5    PODIUM CEREMONY   \n",
       "0                                         APPENDIX 1   \n",
       "3                                         APPENDIX 4   \n",
       "8  APPENDIX 9    APPROVED CHANGES FOR SUBSEQUENT ...   \n",
       "2  APPENDIX 3    REGULATIONS OF THE DRIVER CONTRA...   \n",
       "\n",
       "                                               chunk   len  \n",
       "6  AERODYNAMIC TESTING RESTRICTIONS (ATR)    The ...  6753  \n",
       "1  FEDERATION INTERNATIONALE DE L’AUTOMOBILE  202...  6041  \n",
       "7  1   Engine dyno test limitations  a)   Definit...  3671  \n",
       "5  SUPPLY OF POWER UNITS FOR THE 2021-2025 CHAMPI...  2960  \n",
       "4  At each Event the procedure for the Podium Cer...   972  \n",
       "0  INFORMATION REQUIRED BY THE FIA 90 DAYS BEFORE...   243  \n",
       "3  ENTRY FEES FOR THE 2025 FIA FORMULA ONE WORLD ...   112  \n",
       "8  Convention:  Dark red text: All changes previo...    29  \n",
       "2  (\"Reserved for the exclusive use of Competitor...    15  "
      ]
     },
     "execution_count": 37,
     "metadata": {},
     "output_type": "execute_result"
    }
   ],
   "source": [
    "df = pd.read_csv('data/processed/pdf_appendices.csv')\n",
    "df\n",
    "df['len'] = df['chunk'].apply(lambda x: len(str(x).split()))\n",
    "df.sort_values(by='len', ascending=False).head(10)\n"
   ]
  },
  {
   "cell_type": "code",
   "execution_count": null,
   "id": "7ca9f6cb",
   "metadata": {},
   "outputs": [],
   "source": []
  }
 ],
 "metadata": {
  "kernelspec": {
   "display_name": "F1-regulation-RAG-2025",
   "language": "python",
   "name": "python3"
  },
  "language_info": {
   "codemirror_mode": {
    "name": "ipython",
    "version": 3
   },
   "file_extension": ".py",
   "mimetype": "text/x-python",
   "name": "python",
   "nbconvert_exporter": "python",
   "pygments_lexer": "ipython3",
   "version": "3.12.7"
  }
 },
 "nbformat": 4,
 "nbformat_minor": 5
}
