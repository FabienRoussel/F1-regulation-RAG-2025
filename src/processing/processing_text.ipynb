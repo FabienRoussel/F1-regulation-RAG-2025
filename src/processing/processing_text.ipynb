{
 "cells": [
  {
   "cell_type": "code",
   "execution_count": 134,
   "id": "a8dc39d1",
   "metadata": {},
   "outputs": [],
   "source": [
    "import sys\n",
    "import os\n",
    "import pandas as pd\n",
    "import re \n",
    "from langchain_community.document_loaders import PyMuPDFLoader\n",
    "\n",
    "# Dynamically resolve the base directory for Jupyter notebooks\n",
    "BASE_DIR = os.path.abspath(os.path.join(os.getcwd(), '../F1-regulation-RAG-2025'))\n",
    "sys.path.append(BASE_DIR)"
   ]
  },
  {
   "cell_type": "code",
   "execution_count": 135,
   "id": "08012e61",
   "metadata": {},
   "outputs": [
    {
     "data": {
      "text/plain": [
       "'/Users/pierre.muller/Documents/Perso/F1-regulation-RAG-2025/data/processed'"
      ]
     },
     "execution_count": 135,
     "metadata": {},
     "output_type": "execute_result"
    }
   ],
   "source": [
    "# Ensure the data directory path is resolved correctly\n",
    "processed_data_dir = os.path.join(BASE_DIR, 'data', 'processed')\n",
    "os.makedirs(processed_data_dir, exist_ok=True)\n",
    "processed_data_dir "
   ]
  },
  {
   "cell_type": "code",
   "execution_count": 136,
   "id": "1416f9aa",
   "metadata": {},
   "outputs": [
    {
     "name": "stderr",
     "output_type": "stream",
     "text": [
      "huggingface/tokenizers: The current process just got forked, after parallelism has already been used. Disabling parallelism to avoid deadlocks...\n",
      "To disable this warning, you can either:\n",
      "\t- Avoid using `tokenizers` before the fork if possible\n",
      "\t- Explicitly set the environment variable TOKENIZERS_PARALLELISM=(true | false)\n"
     ]
    },
    {
     "name": "stdout",
     "output_type": "stream",
     "text": [
      "README.md      \u001b[34mexamples\u001b[m\u001b[m       pyproject.toml uv.lock\n",
      "\u001b[34mdata\u001b[m\u001b[m           main.py        \u001b[34msrc\u001b[m\u001b[m\n"
     ]
    }
   ],
   "source": [
    "!ls {BASE_DIR}"
   ]
  },
  {
   "cell_type": "code",
   "execution_count": 137,
   "id": "ff9bb677",
   "metadata": {},
   "outputs": [],
   "source": [
    "def remove_footer(text: str) -> str:\n",
    "    \"\"\"\n",
    "    Removes the footer from the given text.\n",
    "\n",
    "    Args:\n",
    "        text (str): The text containing the footer.\n",
    "\n",
    "    Returns:\n",
    "        str: The text with the footer removed.\n",
    "    \"\"\"\n",
    "    footer_pattern = r\"2025 Formula 1 Sporting Regulations\\s+\\d+/\\d+\\s+30 April 2025\\s+©2025 Fédération Internationale de l’Automobile\\s+Issue 5\"\n",
    "    cleaned_text = re.sub(footer_pattern, '', text)\n",
    "    return cleaned_text"
   ]
  },
  {
   "cell_type": "code",
   "execution_count": 138,
   "id": "c5327e97",
   "metadata": {},
   "outputs": [],
   "source": [
    "def extract_pdf_text_to_dataframe(pdf_path: str) -> pd.DataFrame:\n",
    "    \"\"\"\n",
    "    Extracts text from a PDF file and returns it in a pandas DataFrame.\n",
    "\n",
    "    Args:\n",
    "        pdf_path (str): Path to the PDF file.\n",
    "\n",
    "    Returns:\n",
    "        pd.DataFrame: A DataFrame containing the extracted text, with each page as a row.\n",
    "    \"\"\"\n",
    "    try:\n",
    "        \n",
    "        # Load the document\n",
    "        loader = PyMuPDFLoader(pdf_path,extract_tables='markdown')\n",
    "        documents = loader.load_and_split()\n",
    "\n",
    "        pages_text = [remove_footer(doc.page_content) for doc in documents]\n",
    "\n",
    "        df = pd.DataFrame({'Page': range(1, len(pages_text) + 1), 'Text': pages_text})\n",
    "        return df\n",
    "\n",
    "\n",
    "    except Exception as e:\n",
    "        raise RuntimeError(f\"Error processing PDF file: {e}\")\n",
    "\n"
   ]
  },
  {
   "cell_type": "code",
   "execution_count": 139,
   "id": "138ceb9c",
   "metadata": {},
   "outputs": [
    {
     "name": "stdout",
     "output_type": "stream",
     "text": [
      " \n",
      " \n",
      "1) \n",
      "REGULATIONS \n",
      "1.1 \n",
      "The FIA will organise the FIA Formula One World Championship (the Championship) which is the \n",
      "property of the FIA and comprises two titles of World Champion, one for drivers and one for \n",
      "constructors. It consists of the Formula One Grand Prix races which are included in the Formula \n",
      "One calendar and in respect of which the ASNs and organisers have signed organisation \n",
      "agreements with the FIA. All the participating parties (FIA, ASNs, organisers, Competitors and \n",
      "circuits) undertake to apply as well as observe the rules governing the Championship and must \n",
      "hold the appropriate FIA Licences which are issued to drivers, Competitors, officials, organisers \n",
      "and circuits. \n",
      "1.2 \n",
      "The final text of these Sporting Regulations shall be the English version which will be used should \n",
      "any dispute arise as to their interpretation. Headings in this document are for ease of reference \n",
      "only and do not form part of these Sporting Regulations. \n",
      "1.3 \n",
      "These Sporting Regulations apply to the whole calendar year referred to in the title, and to the \n",
      "Championship taking place within that calendar year (“the Championship”). Any changes made \n",
      "by the FIA for safety reasons may come into effect without notice or delay. \n",
      " \n",
      "2) \n",
      "GENERAL UNDERTAKING \n",
      "2.1 \n",
      "All drivers, Competitors and officials participating in the Championship undertake, on behalf of \n",
      "themselves, their employees, agents and suppliers, to observe all the provisions as \n",
      "supplemented or amended of the International Sporting Code (the Code), the Formula One \n",
      "Technical Regulations (Technical Regulations), the Formula One Financial Regulations (Financial \n",
      "Regulations) and the present Formula One Sporting Regulations together referred to as “the \n",
      "Regulations”. \n",
      "2.2 \n",
      "The Championship and each of its Competitions is governed by the FIA in accordance with the \n",
      "Regulations.  \n",
      "2.3 \n",
      "Competition means any competition entered into the FIA Formula One Championship Calendar \n",
      "for any year commencing four (4) hours before P1 is scheduled to start and ending at the time \n",
      "for the lodging of a protest under the terms of the Code or the time when a technical or sporting \n",
      "certification has been carried out under the terms of the Code, whichever is the later. \n",
      "2.4 \n",
      "Any special national regulations must be submitted to the FIA with the original application for \n",
      "inclusion of a Competition on the international calendar. Only with the approval of the FIA can \n",
      "such special regulations come into force for a Competition. \n",
      " \n",
      "3) \n",
      "GENERAL CONDITIONS \n",
      "3.1 \n",
      "It is the Competitor’s responsibility to ensure that all persons concerned by his entry observe all \n",
      "the requirements of the Regulations. If a Competitor is unable to be present in person at the \n",
      "Competition, he must nominate his representative in writing. The person having charge of an \n",
      "entered car during any part of a Competition is responsible jointly and severally with the \n",
      "Competitor for ensuring that the requirements are observed. \n",
      "3.2 \n",
      "Competitors must ensure that their cars comply with the conditions of eligibility and safety \n",
      "throughout each free practice session, qualifying session, sprint qualifying session, sprint session \n",
      "and the race. \n",
      "3.3 \n",
      "The presentation of a car for initial scrutineering in accordance with Article 31.1 will be deemed \n",
      "an implicit statement of conformity.\n"
     ]
    }
   ],
   "source": [
    "pdf_path = os.path.join(BASE_DIR, 'data', 'pdfs', 'FIA 2025 Formula 1 Sporting Regulations - Issue 5 - 2025-04-30.pdf')\n",
    "df = extract_pdf_text_to_dataframe(pdf_path)\n",
    "df.to_csv(os.path.join(processed_data_dir, 'pdf_text.csv'), index=False)\n",
    "print(df['Text'][1])"
   ]
  },
  {
   "cell_type": "code",
   "execution_count": 140,
   "id": "908a8a13",
   "metadata": {},
   "outputs": [
    {
     "data": {
      "text/plain": [
       "' \\n \\nAPPENDIX 9 \\n \\nAPPROVED CHANGES FOR SUBSEQUENT YEARS \\n \\nConvention: \\nDark red text: All changes previously agreed for subsequent years \\nDark red highlighted (yellow) text: new changes for subsequent years, approved by the WMSC \\n \\n1 \\nChanges for 2026'"
      ]
     },
     "execution_count": 140,
     "metadata": {},
     "output_type": "execute_result"
    }
   ],
   "source": [
    "df.iloc[-1]['Text']"
   ]
  },
  {
   "cell_type": "code",
   "execution_count": 141,
   "id": "e01676bc",
   "metadata": {},
   "outputs": [
    {
     "name": "stdout",
     "output_type": "stream",
     "text": [
      "Match found: APPENDIX 9\n"
     ]
    }
   ],
   "source": [
    "match = re.search(r\"APPENDIX[\\s\\n]+\\d+\", df.iloc[-1]['Text'])\n",
    "if match:\n",
    "    print(\"Match found:\", match.group())\n",
    "else:\n",
    "    print(\"No match found.\")"
   ]
  },
  {
   "cell_type": "code",
   "execution_count": 142,
   "id": "87f79a92",
   "metadata": {},
   "outputs": [
    {
     "name": "stdout",
     "output_type": "stream",
     "text": [
      "                                                title  \\\n",
      "59          60)  POST SPRINT AND POST RACE PARC FERMÉ   \n",
      "60                 61)  SPRINT SESSION CLASSIFICATION   \n",
      "61                           62)  RACE CLASSIFICATION   \n",
      "62  63)  PODIUM CEREMONY AND POST RACE PRESS CONFE...   \n",
      "63                                64)  TEAM EQUIPMENT   \n",
      "\n",
      "                                                chunk  \n",
      "59  60.1  Only those officials charged with superv...  \n",
      "60  61.1  The car placed first will be the one hav...  \n",
      "61  62.1  The car placed first will be the one hav...  \n",
      "62  63.1  The drivers finishing the race in 1st, 2...  \n",
      "63  64.1  All equipment used to cool the car on th...  \n"
     ]
    }
   ],
   "source": [
    "def extract_sections_to_dataframe(text: str) -> pd.DataFrame:\n",
    "    \"\"\"\n",
    "    Extracts sections from the text based on patterns like 'NUMBER) A TITLE'\n",
    "    and returns a DataFrame with 'title' and 'chunk' columns.\n",
    "\n",
    "    Args:\n",
    "        text (str): The text to process.\n",
    "\n",
    "    Returns:\n",
    "        pd.DataFrame: A DataFrame with 'title' and 'chunk' columns.\n",
    "    \"\"\"\n",
    "    # Updated regex to handle cases like \"VIRTUAL SAFETY CAR (VSC)\"\n",
    "    # and exclude titles with letters before the number\n",
    "    section_pattern = r\"(?<![A-Z])(\\d+\\)\\s+(?:[A-Z ,\\n\\-\\(\\)É]+))\\n\"\n",
    "    matches = re.split(section_pattern, text)\n",
    "\n",
    "    titles = []\n",
    "    chunks = []\n",
    "\n",
    "    for i in range(1, len(matches), 2):\n",
    "        titles.append(matches[i].replace('\\n', ' ').strip())  # Clean multi-line titles\n",
    "        chunks.append(matches[i + 1].strip())\n",
    "\n",
    "    processed_df = pd.DataFrame({'title': titles, 'chunk': chunks})\n",
    "    processed_df[['title', 'chunk']] = processed_df[['title', 'chunk']].map(lambda x: x.replace('\\n', ' ').strip())\n",
    "\n",
    "    return processed_df\n",
    "\n",
    "# Process the extracted text into sections\n",
    "df_sections = pd.concat([extract_sections_to_dataframe(page) for page in df['Text']], ignore_index=True)\n",
    "df_sections.to_csv(os.path.join(processed_data_dir, 'pdf_sections.csv'), index=False)\n",
    "print(df_sections.tail())"
   ]
  },
  {
   "cell_type": "code",
   "execution_count": 119,
   "id": "382793ad",
   "metadata": {},
   "outputs": [
    {
     "data": {
      "text/plain": [
       "64"
      ]
     },
     "execution_count": 119,
     "metadata": {},
     "output_type": "execute_result"
    }
   ],
   "source": [
    "# increase pandas display max rows 100\n",
    "pd.set_option('display.max_rows', 100)\n",
    "len(df_sections)"
   ]
  },
  {
   "cell_type": "markdown",
   "id": "032c8e50",
   "metadata": {},
   "source": [
    "# Appendices must be added"
   ]
  },
  {
   "cell_type": "code",
   "execution_count": null,
   "id": "4fb83917",
   "metadata": {},
   "outputs": [
    {
     "data": {
      "text/plain": [
       "title                                 64) \\nTEAM EQUIPMENT\n",
       "chunk    64.1 \\nAll equipment used to cool the car on t...\n",
       "Name: 56, dtype: object"
      ]
     },
     "execution_count": 33,
     "metadata": {},
     "output_type": "execute_result"
    }
   ],
   "source": [
    "def extract_appendices_to_dataframe(text: str) -> pd.DataFrame:\n",
    "    \"\"\"\n",
    "    Extracts sections from the text based on patterns like 'NUMBER) A TITLE'\n",
    "    and returns a DataFrame with 'title' and 'chunk' columns.\n",
    "\n",
    "    Args:\n",
    "        text (str): The text to process.\n",
    "\n",
    "    Returns:\n",
    "        pd.DataFrame: A DataFrame with 'title' and 'chunk' columns.\n",
    "    \"\"\"\n",
    "    section_pattern = r\"APPENDIX[\\s\\n]+\\d+\"\n",
    "    matches = re.split(section_pattern, text)\n",
    "    print(matches)\n",
    "\n",
    "    titles = []\n",
    "    chunks = []\n",
    "\n",
    "    for i in range(1, len(matches), 2):\n",
    "        titles.append(matches[i].strip())\n",
    "        print(f\"Title {i//2 + 1}: {matches[i].strip()}\")\n",
    "        chunks.append(matches[i + 1].strip())\n",
    "\n",
    "    return pd.DataFrame({'title': titles, 'chunk': chunks})\n",
    "\n",
    "# Process the extracted text into sections\n",
    "df_appendices = pd.concat([extract_appendices_to_dataframe(page) for page in df['Text']], ignore_index=True)\n",
    "df_appendices.to_csv(os.path.join(processed_data_dir, 'pdf_appendices.csv'), index=False)\n",
    "print(df_appendices.tail())"
   ]
  },
  {
   "cell_type": "code",
   "execution_count": null,
   "id": "454c4724",
   "metadata": {},
   "outputs": [],
   "source": []
  },
  {
   "cell_type": "markdown",
   "id": "deb55e6d",
   "metadata": {},
   "source": [
    "### Token embeddings"
   ]
  },
  {
   "cell_type": "code",
   "execution_count": null,
   "id": "47b316e9",
   "metadata": {},
   "outputs": [],
   "source": [
    "from sentence_transformers import SentenceTransformer\n",
    "model = SentenceTransformer(\"Qwen/Qwen3-Embedding-0.6B\")\n"
   ]
  },
  {
   "cell_type": "code",
   "execution_count": 122,
   "id": "2b635751",
   "metadata": {},
   "outputs": [],
   "source": [
    "df = pd.read_csv(os.path.join(processed_data_dir, 'pdf_sections.csv'))"
   ]
  },
  {
   "cell_type": "code",
   "execution_count": 123,
   "id": "a6e70fe8",
   "metadata": {},
   "outputs": [
    {
     "data": {
      "text/html": [
       "<div>\n",
       "<style scoped>\n",
       "    .dataframe tbody tr th:only-of-type {\n",
       "        vertical-align: middle;\n",
       "    }\n",
       "\n",
       "    .dataframe tbody tr th {\n",
       "        vertical-align: top;\n",
       "    }\n",
       "\n",
       "    .dataframe thead th {\n",
       "        text-align: right;\n",
       "    }\n",
       "</style>\n",
       "<table border=\"1\" class=\"dataframe\">\n",
       "  <thead>\n",
       "    <tr style=\"text-align: right;\">\n",
       "      <th></th>\n",
       "      <th>title</th>\n",
       "      <th>chunk</th>\n",
       "    </tr>\n",
       "  </thead>\n",
       "  <tbody>\n",
       "    <tr>\n",
       "      <th>0</th>\n",
       "      <td>1)  REGULATIONS</td>\n",
       "      <td>1.1  The FIA will organise the FIA Formula One...</td>\n",
       "    </tr>\n",
       "    <tr>\n",
       "      <th>1</th>\n",
       "      <td>2)  GENERAL UNDERTAKING</td>\n",
       "      <td>2.1  All drivers, Competitors and officials pa...</td>\n",
       "    </tr>\n",
       "    <tr>\n",
       "      <th>2</th>\n",
       "      <td>3)  GENERAL CONDITIONS</td>\n",
       "      <td>3.1  It is the Competitor’s responsibility to ...</td>\n",
       "    </tr>\n",
       "    <tr>\n",
       "      <th>3</th>\n",
       "      <td>4)  LICENCES</td>\n",
       "      <td>4.1  All drivers, Competitors and officials pa...</td>\n",
       "    </tr>\n",
       "    <tr>\n",
       "      <th>4</th>\n",
       "      <td>5)  CHAMPIONSHIP COMPETITIONS</td>\n",
       "      <td>5.1  Competitions are reserved for Formula One...</td>\n",
       "    </tr>\n",
       "  </tbody>\n",
       "</table>\n",
       "</div>"
      ],
      "text/plain": [
       "                           title  \\\n",
       "0                1)  REGULATIONS   \n",
       "1        2)  GENERAL UNDERTAKING   \n",
       "2         3)  GENERAL CONDITIONS   \n",
       "3                   4)  LICENCES   \n",
       "4  5)  CHAMPIONSHIP COMPETITIONS   \n",
       "\n",
       "                                               chunk  \n",
       "0  1.1  The FIA will organise the FIA Formula One...  \n",
       "1  2.1  All drivers, Competitors and officials pa...  \n",
       "2  3.1  It is the Competitor’s responsibility to ...  \n",
       "3  4.1  All drivers, Competitors and officials pa...  \n",
       "4  5.1  Competitions are reserved for Formula One...  "
      ]
     },
     "execution_count": 123,
     "metadata": {},
     "output_type": "execute_result"
    }
   ],
   "source": [
    "df.head()  # Display the first few rows of the DataFrame"
   ]
  },
  {
   "cell_type": "code",
   "execution_count": 124,
   "id": "b63e3980",
   "metadata": {},
   "outputs": [
    {
     "data": {
      "text/html": [
       "<div>\n",
       "<style scoped>\n",
       "    .dataframe tbody tr th:only-of-type {\n",
       "        vertical-align: middle;\n",
       "    }\n",
       "\n",
       "    .dataframe tbody tr th {\n",
       "        vertical-align: top;\n",
       "    }\n",
       "\n",
       "    .dataframe thead th {\n",
       "        text-align: right;\n",
       "    }\n",
       "</style>\n",
       "<table border=\"1\" class=\"dataframe\">\n",
       "  <thead>\n",
       "    <tr style=\"text-align: right;\">\n",
       "      <th></th>\n",
       "      <th>title</th>\n",
       "      <th>chunk</th>\n",
       "    </tr>\n",
       "  </thead>\n",
       "  <tbody>\n",
       "    <tr>\n",
       "      <th>28</th>\n",
       "      <td>29)  VOID</td>\n",
       "      <td>NaN</td>\n",
       "    </tr>\n",
       "    <tr>\n",
       "      <th>40</th>\n",
       "      <td>41)  VOID</td>\n",
       "      <td>NaN</td>\n",
       "    </tr>\n",
       "  </tbody>\n",
       "</table>\n",
       "</div>"
      ],
      "text/plain": [
       "        title chunk\n",
       "28  29)  VOID   NaN\n",
       "40  41)  VOID   NaN"
      ]
     },
     "execution_count": 124,
     "metadata": {},
     "output_type": "execute_result"
    }
   ],
   "source": [
    "df.loc[df.isna().sum(axis=1) > 0]"
   ]
  },
  {
   "cell_type": "code",
   "execution_count": 125,
   "id": "49d38326",
   "metadata": {},
   "outputs": [
    {
     "data": {
      "application/vnd.jupyter.widget-view+json": {
       "model_id": "9659d984908b42039796316dd93deb26",
       "version_major": 2,
       "version_minor": 0
      },
      "text/plain": [
       "Batches:   0%|          | 0/2 [00:00<?, ?it/s]"
      ]
     },
     "metadata": {},
     "output_type": "display_data"
    }
   ],
   "source": [
    "model = SentenceTransformer(\"Qwen/Qwen3-Embedding-0.6B\")\n",
    "embeddings = model.encode(df['chunk'].tolist(), show_progress_bar=True, device='mps')"
   ]
  },
  {
   "cell_type": "code",
   "execution_count": 126,
   "id": "6de4d2b6",
   "metadata": {},
   "outputs": [
    {
     "data": {
      "text/plain": [
       "array([[ 0.03867137, -0.00604724, -0.00682677, ..., -0.03376015,\n",
       "        -0.00947953, -0.00209979],\n",
       "       [ 0.0311457 , -0.03375433, -0.00729547, ..., -0.04132152,\n",
       "        -0.00200754, -0.02746743],\n",
       "       [ 0.05352963, -0.03765709, -0.00557554, ..., -0.01629589,\n",
       "        -0.02041579,  0.00070395],\n",
       "       ...,\n",
       "       [ 0.00495611, -0.02649595, -0.00973289, ..., -0.01721682,\n",
       "         0.00948874, -0.04745426],\n",
       "       [ 0.04810619, -0.0259371 , -0.00585549, ...,  0.02249218,\n",
       "         0.00224992, -0.00090425],\n",
       "       [ 0.03289371,  0.01738825, -0.00715252, ..., -0.04115681,\n",
       "        -0.03080961, -0.00738988]], shape=(64, 1024), dtype=float32)"
      ]
     },
     "execution_count": 126,
     "metadata": {},
     "output_type": "execute_result"
    }
   ],
   "source": [
    "embeddings"
   ]
  },
  {
   "cell_type": "code",
   "execution_count": 130,
   "id": "2f322a31",
   "metadata": {},
   "outputs": [
    {
     "data": {
      "text/plain": [
       "tensor([[0.1843, 0.1749, 0.2323, 0.2085, 0.2418, 0.2401, 0.3081, 0.1699, 0.1859,\n",
       "         0.2654, 0.2676, 0.2892, 0.1821, 0.2115, 0.2099, 0.2381, 0.2024, 0.1846,\n",
       "         0.1996, 0.2168, 0.2357, 0.2096, 0.1788, 0.3229, 0.2023, 0.2564, 0.1876,\n",
       "         0.2377, 0.5478, 0.1695, 0.2415, 0.1461, 0.2723, 0.1519, 0.1893, 0.2173,\n",
       "         0.2170, 0.2490, 0.2368, 0.2996, 0.5478, 0.1999, 0.3463, 0.1779, 0.2154,\n",
       "         0.2779, 0.1876, 0.2692, 0.2043, 0.2816, 0.3420, 0.2849, 0.2743, 0.2674,\n",
       "         0.2068, 0.5777, 0.2131, 0.2295, 0.2824, 0.2243, 0.2554, 0.2894, 0.1919,\n",
       "         0.3097]])"
      ]
     },
     "execution_count": 130,
     "metadata": {},
     "output_type": "execute_result"
    }
   ],
   "source": [
    "model.similarity(model.encode(\"What is the VSC?\"), embeddings)"
   ]
  },
  {
   "cell_type": "code",
   "execution_count": 131,
   "id": "0276b5c7",
   "metadata": {},
   "outputs": [
    {
     "data": {
      "text/plain": [
       "tensor(55)"
      ]
     },
     "execution_count": 131,
     "metadata": {},
     "output_type": "execute_result"
    }
   ],
   "source": [
    "model.similarity(model.encode(\"What is the VSC?\"), embeddings).argmax()"
   ]
  },
  {
   "cell_type": "code",
   "execution_count": 132,
   "id": "290af002",
   "metadata": {},
   "outputs": [
    {
     "data": {
      "text/plain": [
       "'56.1  The VSC procedure may be initiated to neutralise a practice session, sprint session or a race upon  the order of the clerk of the course.  a)  It will normally be used when double waved yellow flags are needed on any section of  track and Competitors or officials may be in danger, but the circumstances are not such  as to warrant use of the safety car itself.  56.2  When the order is given to initiate the VSC procedure a message “VSC DEPLOYED” will be sent  to all Competitors using the official messaging system and all FIA light panels will display “VSC”.  56.3  No car may be driven unnecessarily slowly, erratically or in a manner which could be deemed  potentially dangerous to other drivers or any other person at any time whilst the VSC procedure  is in use. This will apply whether any such car is being driven on the track, the pit entry road, or  the pit lane.  56.4  When initiated during a sprint session or a race, no car may enter the pits whilst the VSC  procedure is in use unless it is for the purpose of changing tyres.  56.5  All competing cars must reduce speed and stay above the minimum time set by the FIA ECU at  least once in each marshalling sector and at both the first and second safety car lines (a  marshalling sector is defined as the section of track between each of the FIA light panels). All  cars must also be above this minimum time when the FIA light panels change to green (see  Article 56.7 below).    When initiated during the sprint session or a race, the stewards may impose any of the penalties  under Article 54.3a), 54.3b), 54.3c) or 54.3d) on any driver who fails to stay above the minimum  time as required by the above.  56.6  With the exception of the cases listed under a) to d) below, no driver may overtake another car  on the track whilst the VSC procedure is in use.    The exceptions are:    a)  When entering the pits a driver may pass another car remaining on the track after he has  reached the first safety car line.    b)  When leaving the pits a driver may overtake, or be overtaken by, another car on the track  before he reaches the second safety car line.    c)  Whilst in the pit entry road, pit lane or pit exit road a driver may overtake another car  which is also in one of these three areas.    d)  If any car slows with an obvious problem.'"
      ]
     },
     "execution_count": 132,
     "metadata": {},
     "output_type": "execute_result"
    }
   ],
   "source": [
    "df['chunk'][55]"
   ]
  },
  {
   "cell_type": "code",
   "execution_count": null,
   "id": "72e204cf",
   "metadata": {},
   "outputs": [],
   "source": []
  }
 ],
 "metadata": {
  "kernelspec": {
   "display_name": "F1-regulation-RAG-2025",
   "language": "python",
   "name": "python3"
  },
  "language_info": {
   "codemirror_mode": {
    "name": "ipython",
    "version": 3
   },
   "file_extension": ".py",
   "mimetype": "text/x-python",
   "name": "python",
   "nbconvert_exporter": "python",
   "pygments_lexer": "ipython3",
   "version": "3.12.7"
  }
 },
 "nbformat": 4,
 "nbformat_minor": 5
}
