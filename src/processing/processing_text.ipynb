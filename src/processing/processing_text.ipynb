{
 "cells": [
  {
   "cell_type": "code",
   "execution_count": 50,
   "id": "a8dc39d1",
   "metadata": {},
   "outputs": [],
   "source": [
    "import sys\n",
    "import os\n",
    "import pandas as pd\n",
    "import re \n",
    "from langchain_community.document_loaders import PyMuPDFLoader\n",
    "\n",
    "# Dynamically resolve the base directory for Jupyter notebooks\n",
    "BASE_DIR = os.path.abspath(os.path.join(os.getcwd(), '../..'))\n",
    "sys.path.append(BASE_DIR)"
   ]
  },
  {
   "cell_type": "code",
   "execution_count": 51,
   "id": "1416f9aa",
   "metadata": {},
   "outputs": [
    {
     "name": "stdout",
     "output_type": "stream",
     "text": [
      "README.md      \u001b[34mexamples\u001b[m\u001b[m       pyproject.toml uv.lock\n",
      "\u001b[34mdata\u001b[m\u001b[m           main.py        \u001b[34msrc\u001b[m\u001b[m\n"
     ]
    }
   ],
   "source": [
    "!ls {BASE_DIR}"
   ]
  },
  {
   "cell_type": "code",
   "execution_count": 52,
   "id": "ff9bb677",
   "metadata": {},
   "outputs": [],
   "source": [
    "def remove_footer(text: str) -> str:\n",
    "    \"\"\"\n",
    "    Removes the footer from the given text.\n",
    "\n",
    "    Args:\n",
    "        text (str): The text containing the footer.\n",
    "\n",
    "    Returns:\n",
    "        str: The text with the footer removed.\n",
    "    \"\"\"\n",
    "    footer_pattern = r\"2025 Formula 1 Sporting Regulations\\s+\\d+/\\d+\\s+30 April 2025\\s+©2025 Fédération Internationale de l’Automobile\\s+Issue 5\"\n",
    "    cleaned_text = re.sub(footer_pattern, '', text)\n",
    "    return cleaned_text"
   ]
  },
  {
   "cell_type": "code",
   "execution_count": 53,
   "id": "c5327e97",
   "metadata": {},
   "outputs": [],
   "source": [
    "def extract_pdf_text_to_dataframe(pdf_path: str) -> pd.DataFrame:\n",
    "    \"\"\"\n",
    "    Extracts text from a PDF file and returns it in a pandas DataFrame.\n",
    "\n",
    "    Args:\n",
    "        pdf_path (str): Path to the PDF file.\n",
    "\n",
    "    Returns:\n",
    "        pd.DataFrame: A DataFrame containing the extracted text, with each page as a row.\n",
    "    \"\"\"\n",
    "    try:\n",
    "        \n",
    "        # Load the document\n",
    "        loader = PyMuPDFLoader(pdf_path,extract_tables='markdown')\n",
    "        documents = loader.load_and_split()\n",
    "\n",
    "        pages_text = [remove_footer(doc.page_content) for doc in documents]\n",
    "\n",
    "        df = pd.DataFrame({'Page': range(1, len(pages_text) + 1), 'Text': pages_text})\n",
    "        return df\n",
    "\n",
    "\n",
    "    except Exception as e:\n",
    "        raise RuntimeError(f\"Error processing PDF file: {e}\")\n",
    "\n"
   ]
  },
  {
   "cell_type": "code",
   "execution_count": 54,
   "id": "695057b2",
   "metadata": {},
   "outputs": [],
   "source": [
    "# Ensure the data directory path is resolved correctly\n",
    "processed_data_dir = os.path.join(BASE_DIR, 'data', 'processed')\n",
    "os.makedirs(processed_data_dir, exist_ok=True)"
   ]
  },
  {
   "cell_type": "code",
   "execution_count": 63,
   "id": "138ceb9c",
   "metadata": {},
   "outputs": [
    {
     "name": "stdout",
     "output_type": "stream",
     "text": [
      " \n",
      " \n",
      "1) \n",
      "REGULATIONS \n",
      "1.1 \n",
      "The FIA will organise the FIA Formula One World Championship (the Championship) which is the \n",
      "property of the FIA and comprises two titles of World Champion, one for drivers and one for \n",
      "constructors. It consists of the Formula One Grand Prix races which are included in the Formula \n",
      "One calendar and in respect of which the ASNs and organisers have signed organisation \n",
      "agreements with the FIA. All the participating parties (FIA, ASNs, organisers, Competitors and \n",
      "circuits) undertake to apply as well as observe the rules governing the Championship and must \n",
      "hold the appropriate FIA Licences which are issued to drivers, Competitors, officials, organisers \n",
      "and circuits. \n",
      "1.2 \n",
      "The final text of these Sporting Regulations shall be the English version which will be used should \n",
      "any dispute arise as to their interpretation. Headings in this document are for ease of reference \n",
      "only and do not form part of these Sporting Regulations. \n",
      "1.3 \n",
      "These Sporting Regulations apply to the whole calendar year referred to in the title, and to the \n",
      "Championship taking place within that calendar year (“the Championship”). Any changes made \n",
      "by the FIA for safety reasons may come into effect without notice or delay. \n",
      " \n",
      "2) \n",
      "GENERAL UNDERTAKING \n",
      "2.1 \n",
      "All drivers, Competitors and officials participating in the Championship undertake, on behalf of \n",
      "themselves, their employees, agents and suppliers, to observe all the provisions as \n",
      "supplemented or amended of the International Sporting Code (the Code), the Formula One \n",
      "Technical Regulations (Technical Regulations), the Formula One Financial Regulations (Financial \n",
      "Regulations) and the present Formula One Sporting Regulations together referred to as “the \n",
      "Regulations”. \n",
      "2.2 \n",
      "The Championship and each of its Competitions is governed by the FIA in accordance with the \n",
      "Regulations.  \n",
      "2.3 \n",
      "Competition means any competition entered into the FIA Formula One Championship Calendar \n",
      "for any year commencing four (4) hours before P1 is scheduled to start and ending at the time \n",
      "for the lodging of a protest under the terms of the Code or the time when a technical or sporting \n",
      "certification has been carried out under the terms of the Code, whichever is the later. \n",
      "2.4 \n",
      "Any special national regulations must be submitted to the FIA with the original application for \n",
      "inclusion of a Competition on the international calendar. Only with the approval of the FIA can \n",
      "such special regulations come into force for a Competition. \n",
      " \n",
      "3) \n",
      "GENERAL CONDITIONS \n",
      "3.1 \n",
      "It is the Competitor’s responsibility to ensure that all persons concerned by his entry observe all \n",
      "the requirements of the Regulations. If a Competitor is unable to be present in person at the \n",
      "Competition, he must nominate his representative in writing. The person having charge of an \n",
      "entered car during any part of a Competition is responsible jointly and severally with the \n",
      "Competitor for ensuring that the requirements are observed. \n",
      "3.2 \n",
      "Competitors must ensure that their cars comply with the conditions of eligibility and safety \n",
      "throughout each free practice session, qualifying session, sprint qualifying session, sprint session \n",
      "and the race. \n",
      "3.3 \n",
      "The presentation of a car for initial scrutineering in accordance with Article 31.1 will be deemed \n",
      "an implicit statement of conformity.\n"
     ]
    }
   ],
   "source": [
    "pdf_path = os.path.join(BASE_DIR, 'data', 'pdfs', 'FIA 2025 Formula 1 Sporting Regulations - Issue 5 - 2025-04-30.pdf')\n",
    "df = extract_pdf_text_to_dataframe(pdf_path)\n",
    "df.to_csv(os.path.join(processed_data_dir, 'pdf_text.csv'), index=False)\n",
    "print(df['Text'][1])"
   ]
  },
  {
   "cell_type": "code",
   "execution_count": 64,
   "id": "87f79a92",
   "metadata": {},
   "outputs": [
    {
     "name": "stdout",
     "output_type": "stream",
     "text": [
      "                                                title  \\\n",
      "52                                       59) \\nFINISH   \n",
      "53                61) \\nSPRINT SESSION CLASSIFICATION   \n",
      "54                          62) \\nRACE CLASSIFICATION   \n",
      "55  63) \\nPODIUM CEREMONY AND POST RACE PRESS CONF...   \n",
      "56                               64) \\nTEAM EQUIPMENT   \n",
      "\n",
      "                                                chunk  \n",
      "52  59.1 \\nA chequered flag will be the end-of-ses...  \n",
      "53  61.1 \\nThe car placed first will be the one ha...  \n",
      "54  62.1 \\nThe car placed first will be the one ha...  \n",
      "55  63.1 \\nThe drivers finishing the race in 1st, ...  \n",
      "56  64.1 \\nAll equipment used to cool the car on t...  \n"
     ]
    }
   ],
   "source": [
    "def extract_sections_to_dataframe(text: str) -> pd.DataFrame:\n",
    "    \"\"\"\n",
    "    Extracts sections from the text based on patterns like 'NUMBER) A TITLE'\n",
    "    and returns a DataFrame with 'title' and 'chunk' columns.\n",
    "\n",
    "    Args:\n",
    "        text (str): The text to process.\n",
    "\n",
    "    Returns:\n",
    "        pd.DataFrame: A DataFrame with 'title' and 'chunk' columns.\n",
    "    \"\"\"\n",
    "    section_pattern = r\"(\\d+\\)\\s+[A-Z ]+)\\n\"\n",
    "    matches = re.split(section_pattern, text)\n",
    "\n",
    "    titles = []\n",
    "    chunks = []\n",
    "\n",
    "    for i in range(1, len(matches), 2):\n",
    "        titles.append(matches[i].strip())\n",
    "        chunks.append(matches[i + 1].strip())\n",
    "\n",
    "    return pd.DataFrame({'title': titles, 'chunk': chunks})\n",
    "\n",
    "# Process the extracted text into sections\n",
    "df_sections = pd.concat([extract_sections_to_dataframe(page) for page in df['Text']], ignore_index=True)\n",
    "df_sections.to_csv(os.path.join(processed_data_dir, 'pdf_sections.csv'), index=False)\n",
    "print(df_sections.tail())"
   ]
  },
  {
   "cell_type": "code",
   "execution_count": 66,
   "id": "64e2cf2b",
   "metadata": {},
   "outputs": [
    {
     "ename": "IndexError",
     "evalue": "list index out of range",
     "output_type": "error",
     "traceback": [
      "\u001b[31m---------------------------------------------------------------------------\u001b[39m",
      "\u001b[31mIndexError\u001b[39m                                Traceback (most recent call last)",
      "\u001b[36mCell\u001b[39m\u001b[36m \u001b[39m\u001b[32mIn[66]\u001b[39m\u001b[32m, line 25\u001b[39m\n\u001b[32m     22\u001b[39m     \u001b[38;5;28;01mreturn\u001b[39;00m pd.DataFrame({\u001b[33m'\u001b[39m\u001b[33mtitle\u001b[39m\u001b[33m'\u001b[39m: titles, \u001b[33m'\u001b[39m\u001b[33mchunk\u001b[39m\u001b[33m'\u001b[39m: chunks})\n\u001b[32m     24\u001b[39m \u001b[38;5;66;03m# Process the extracted text into sections\u001b[39;00m\n\u001b[32m---> \u001b[39m\u001b[32m25\u001b[39m df_appendices = pd.concat([\u001b[43mextract_appendices_to_dataframe\u001b[49m\u001b[43m(\u001b[49m\u001b[43mpage\u001b[49m\u001b[43m)\u001b[49m \u001b[38;5;28;01mfor\u001b[39;00m page \u001b[38;5;129;01min\u001b[39;00m df[\u001b[33m'\u001b[39m\u001b[33mText\u001b[39m\u001b[33m'\u001b[39m]], ignore_index=\u001b[38;5;28;01mTrue\u001b[39;00m)\n\u001b[32m     26\u001b[39m df_appendices.to_csv(os.path.join(processed_data_dir, \u001b[33m'\u001b[39m\u001b[33mpdf_appendices.csv\u001b[39m\u001b[33m'\u001b[39m), index=\u001b[38;5;28;01mFalse\u001b[39;00m)\n\u001b[32m     27\u001b[39m \u001b[38;5;28mprint\u001b[39m(df_appendices.tail())\n",
      "\u001b[36mCell\u001b[39m\u001b[36m \u001b[39m\u001b[32mIn[66]\u001b[39m\u001b[32m, line 20\u001b[39m, in \u001b[36mextract_appendices_to_dataframe\u001b[39m\u001b[34m(text)\u001b[39m\n\u001b[32m     18\u001b[39m \u001b[38;5;28;01mfor\u001b[39;00m i \u001b[38;5;129;01min\u001b[39;00m \u001b[38;5;28mrange\u001b[39m(\u001b[32m1\u001b[39m, \u001b[38;5;28mlen\u001b[39m(matches), \u001b[32m2\u001b[39m):\n\u001b[32m     19\u001b[39m     titles.append(matches[i].strip())\n\u001b[32m---> \u001b[39m\u001b[32m20\u001b[39m     chunks.append(\u001b[43mmatches\u001b[49m\u001b[43m[\u001b[49m\u001b[43mi\u001b[49m\u001b[43m \u001b[49m\u001b[43m+\u001b[49m\u001b[43m \u001b[49m\u001b[32;43m1\u001b[39;49m\u001b[43m]\u001b[49m.strip())\n\u001b[32m     22\u001b[39m \u001b[38;5;28;01mreturn\u001b[39;00m pd.DataFrame({\u001b[33m'\u001b[39m\u001b[33mtitle\u001b[39m\u001b[33m'\u001b[39m: titles, \u001b[33m'\u001b[39m\u001b[33mchunk\u001b[39m\u001b[33m'\u001b[39m: chunks})\n",
      "\u001b[31mIndexError\u001b[39m: list index out of range"
     ]
    }
   ],
   "source": [
    "def extract_appendices_to_dataframe(text: str) -> pd.DataFrame:\n",
    "    \"\"\"\n",
    "    Extracts sections from the text based on patterns like 'NUMBER) A TITLE'\n",
    "    and returns a DataFrame with 'title' and 'chunk' columns.\n",
    "\n",
    "    Args:\n",
    "        text (str): The text to process.\n",
    "\n",
    "    Returns:\n",
    "        pd.DataFrame: A DataFrame with 'title' and 'chunk' columns.\n",
    "    \"\"\"\n",
    "    section_pattern = r\"APPENDIX\\s+\\d+\\s*\\n\"\n",
    "    matches = re.split(section_pattern, text)\n",
    "\n",
    "    titles = []\n",
    "    chunks = []\n",
    "\n",
    "    for i in range(1, len(matches), 2):\n",
    "        titles.append(matches[i].strip())\n",
    "        chunks.append(matches[i + 1].strip())\n",
    "\n",
    "    return pd.DataFrame({'title': titles, 'chunk': chunks})\n",
    "\n",
    "# Process the extracted text into sections\n",
    "df_appendices = pd.concat([extract_appendices_to_dataframe(page) for page in df['Text']], ignore_index=True)\n",
    "df_appendices.to_csv(os.path.join(processed_data_dir, 'pdf_appendices.csv'), index=False)\n",
    "print(df_appendices.tail())"
   ]
  },
  {
   "cell_type": "code",
   "execution_count": 59,
   "id": "47b4f666",
   "metadata": {},
   "outputs": [],
   "source": [
    "df_sections['length'] = df_sections['chunk'].apply(len)"
   ]
  },
  {
   "cell_type": "code",
   "execution_count": 60,
   "id": "ebce8844",
   "metadata": {},
   "outputs": [
    {
     "data": {
      "text/html": [
       "<div>\n",
       "<style scoped>\n",
       "    .dataframe tbody tr th:only-of-type {\n",
       "        vertical-align: middle;\n",
       "    }\n",
       "\n",
       "    .dataframe tbody tr th {\n",
       "        vertical-align: top;\n",
       "    }\n",
       "\n",
       "    .dataframe thead th {\n",
       "        text-align: right;\n",
       "    }\n",
       "</style>\n",
       "<table border=\"1\" class=\"dataframe\">\n",
       "  <thead>\n",
       "    <tr style=\"text-align: right;\">\n",
       "      <th></th>\n",
       "      <th>title</th>\n",
       "      <th>chunk</th>\n",
       "      <th>length</th>\n",
       "    </tr>\n",
       "  </thead>\n",
       "  <tbody>\n",
       "  </tbody>\n",
       "</table>\n",
       "</div>"
      ],
      "text/plain": [
       "Empty DataFrame\n",
       "Columns: [title, chunk, length]\n",
       "Index: []"
      ]
     },
     "execution_count": 60,
     "metadata": {},
     "output_type": "execute_result"
    }
   ],
   "source": [
    "df_sections.query('length > 32000')"
   ]
  },
  {
   "cell_type": "markdown",
   "id": "032c8e50",
   "metadata": {},
   "source": [
    "# Appendices must be added"
   ]
  },
  {
   "cell_type": "code",
   "execution_count": null,
   "id": "4fb83917",
   "metadata": {},
   "outputs": [
    {
     "data": {
      "text/plain": [
       "title                                 64) \\nTEAM EQUIPMENT\n",
       "chunk    64.1 \\nAll equipment used to cool the car on t...\n",
       "Name: 56, dtype: object"
      ]
     },
     "execution_count": 33,
     "metadata": {},
     "output_type": "execute_result"
    }
   ],
   "source": []
  },
  {
   "cell_type": "code",
   "execution_count": null,
   "id": "454c4724",
   "metadata": {},
   "outputs": [],
   "source": []
  }
 ],
 "metadata": {
  "kernelspec": {
   "display_name": "F1-regulation-RAG-2025",
   "language": "python",
   "name": "python3"
  },
  "language_info": {
   "codemirror_mode": {
    "name": "ipython",
    "version": 3
   },
   "file_extension": ".py",
   "mimetype": "text/x-python",
   "name": "python",
   "nbconvert_exporter": "python",
   "pygments_lexer": "ipython3",
   "version": "3.12.7"
  }
 },
 "nbformat": 4,
 "nbformat_minor": 5
}
